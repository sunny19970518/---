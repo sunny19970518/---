{
 "cells": [
  {
   "cell_type": "markdown",
   "metadata": {},
   "source": [
    "# 中文文本大亂鬥\n",
    "本文出自: https://tlyu0419.github.io/2020/04/04/Text-Classification/"
   ]
  },
  {
   "cell_type": "code",
   "execution_count": 1,
   "metadata": {},
   "outputs": [],
   "source": [
    "import sys\n",
    "import os\n",
    "\n",
    "import logging\n",
    "import multiprocessing\n",
    "from gensim.models import Word2Vec\n",
    "\n",
    "import pandas as pd\n",
    "import sqlite3\n",
    "import numpy as np\n",
    "import re\n",
    "import jieba\n",
    "\n",
    "import matplotlib as mpl\n",
    "import matplotlib.pyplot as plt\n",
    "import seaborn as sns\n",
    "\n",
    "from sklearn.preprocessing import LabelEncoder\n",
    "from sklearn.feature_extraction.text import CountVectorizer, TfidfVectorizer\n",
    "\n",
    "from sklearn.preprocessing import MinMaxScaler\n",
    "from sklearn.model_selection import cross_val_score, GridSearchCV, train_test_split, cross_validate, RandomizedSearchCV\n",
    "from sklearn.feature_extraction.text import CountVectorizer, TfidfVectorizer\n",
    "from sklearn.svm import SVC\n",
    "from sklearn.naive_bayes import MultinomialNB  \n",
    "from sklearn.linear_model import LogisticRegression \n",
    "from sklearn.neighbors import KNeighborsClassifier  \n",
    "from sklearn.ensemble import GradientBoostingClassifier, RandomForestClassifier \n",
    "import xgboost as xgb\n",
    "import lightgbm as lgb\n",
    "from sklearn import metrics\n",
    "\n",
    "from keras.utils import to_categorical\n",
    "from tensorflow.python.keras import layers, models, optimizers\n",
    "from tensorflow.python.keras.layers import Conv1D, MaxPooling1D, Embedding\n",
    "from tensorflow.python.keras.preprocessing import text, sequence\n",
    "from tensorflow.python.keras.layers import Dense, Input, Flatten, Dropout, LSTM, BatchNormalization\n",
    "from tensorflow.python.keras import Sequential\n",
    "from tensorflow.python import keras\n",
    "from tensorflow.python.keras.callbacks import EarlyStopping\n",
    "import tensorflow as tf"
   ]
  },
  {
   "cell_type": "code",
   "execution_count": 2,
   "metadata": {},
   "outputs": [],
   "source": [
    "df = pd.read_pickle('data/undnews.pickle')"
   ]
  },
  {
   "cell_type": "code",
   "execution_count": 3,
   "metadata": {},
   "outputs": [
    {
     "name": "stdout",
     "output_type": "stream",
     "text": [
      "(40000,) (10000,) (40000,) (10000,)\n"
     ]
    }
   ],
   "source": [
    "# 將資料中切出 20% 作為測試資料\n",
    "X_train, X_test, y_train, y_test = train_test_split(df['CONTENT_SEG'], df['SUB2'], test_size=0.2, random_state=42)\n",
    "print(X_train.shape, X_test.shape, y_train.shape, y_test.shape)"
   ]
  },
  {
   "cell_type": "markdown",
   "metadata": {},
   "source": [
    "## 文本特徵處理\n",
    "\n",
    "### CountVector\n",
    "將文本中的詞語轉換為詞頻矩陣。\n",
    "\n",
    "### TF-IDF\n",
    "文本加權方，採用統計思想，使用文本出現的次數和整個與料庫中文黨頻率進行計算字詞重要度。\\\n",
    "TF(Term Frequency): 表示某個關鍵字在整篇文章中出現的頻率。\\\n",
    "IDF: 表示計算倒文本頻率。倒文本頻率又稱逆文黨頻率，是文檔的倒數，主要用於降低所有文檔中一些常見卻對文檔影響不大的詞語權重。\\\n",
    "\n",
    "優點: 簡單快速，容易理解。過濾一些常見但是不重要的字詞。\n",
    "\n",
    "缺點: 用詞頻來衡量文章中的一個詞重要性不夠全面。\n",
    "\n",
    "### word2Vec\n",
    "word2vec 是 word Embedding 的方法之一， word2vec 有兩種訓練模式:\n",
    "* CBOW(Continuous Bag-of-Words Model)，通過上下文來預測當前值。\n",
    "* Skip-gram(Continuous Skip-gram Model)，用當前值來預測上下文。\n",
    "\n",
    "優點\n",
    "* 由於 Word2vec 會考慮上下文，跟之前的 Embedding 方法相比，效果要更好。\n",
    "* 比之前的 Embedding 方法维度更少，所以速度更快。\n",
    "* 通用性很强，可以用在各種 NLP 任務中。\n",
    "\n",
    "缺點\n",
    "* 由於詞和向量是一對一的關係，所以多義詞的問題無法解決。\n",
    "* Word2vec 是一種靜態的方式，雖然通用性强，但是無法針對特定任務做動態優化。"
   ]
  },
  {
   "cell_type": "code",
   "execution_count": 4,
   "metadata": {},
   "outputs": [
    {
     "data": {
      "text/plain": [
       "<40000x49471 sparse matrix of type '<class 'numpy.int64'>'\n",
       "\twith 5199910 stored elements in Compressed Sparse Row format>"
      ]
     },
     "execution_count": 4,
     "metadata": {},
     "output_type": "execute_result"
    }
   ],
   "source": [
    "# CountVector：計算文本中每個詞出現的次數，整理出來的維度數是文本中所有詞的數量\n",
    "count_vect = CountVectorizer(analyzer='word', token_pattern=r'\\w{1,}', min_df=10)\n",
    "count_vect.fit(df['CONTENT_SEG'])\n",
    "counts_train = CountVectorizer(vocabulary=count_vect.vocabulary_).fit_transform(X_train)\n",
    "counts_test = CountVectorizer(vocabulary=count_vect.vocabulary_).fit_transform(X_test)\n",
    "counts_train"
   ]
  },
  {
   "cell_type": "code",
   "execution_count": 5,
   "metadata": {},
   "outputs": [
    {
     "data": {
      "text/plain": [
       "<40000x49471 sparse matrix of type '<class 'numpy.float64'>'\n",
       "\twith 5199910 stored elements in Compressed Sparse Row format>"
      ]
     },
     "execution_count": 5,
     "metadata": {},
     "output_type": "execute_result"
    }
   ],
   "source": [
    "# TFIDFVector：在 CountVector 的基礎上，進一步考量文本的長度資訊(TF)與每個詞在多少文本中出現的狀況(IDF)的分數。\n",
    "tfidf_vect = TfidfVectorizer(analyzer='word', token_pattern=r'\\w{1,}', min_df=10)\n",
    "tfidf_vect.fit(df['CONTENT_SEG'])\n",
    "tfidf_train = TfidfVectorizer(vocabulary=tfidf_vect.vocabulary_).fit_transform(X_train)\n",
    "tfidf_test = TfidfVectorizer(vocabulary=tfidf_vect.vocabulary_).fit_transform(X_test)\n",
    "tfidf_train"
   ]
  },
  {
   "cell_type": "code",
   "execution_count": 6,
   "metadata": {},
   "outputs": [
    {
     "name": "stderr",
     "output_type": "stream",
     "text": [
      "2021-11-18 10:29:09,660 : INFO : running C:\\Users\\l8527\\.conda\\envs\\tf-image\\lib\\site-packages\\ipykernel_launcher.py -f C:\\Users\\l8527\\AppData\\Roaming\\jupyter\\runtime\\kernel-0ced018c-979f-44f9-ade8-50d7a586db14.json\n",
      "2021-11-18 10:29:11,210 : INFO : collecting all words and their counts\n",
      "2021-11-18 10:29:11,210 : INFO : PROGRESS: at sentence #0, processed 0 words, keeping 0 word types\n",
      "2021-11-18 10:29:11,888 : INFO : PROGRESS: at sentence #10000, processed 4607451 words, keeping 163203 word types\n",
      "2021-11-18 10:29:12,601 : INFO : PROGRESS: at sentence #20000, processed 9274490 words, keeping 247204 word types\n",
      "2021-11-18 10:29:13,321 : INFO : PROGRESS: at sentence #30000, processed 13783730 words, keeping 352486 word types\n",
      "2021-11-18 10:29:13,905 : INFO : PROGRESS: at sentence #40000, processed 17253409 words, keeping 401667 word types\n",
      "2021-11-18 10:29:14,621 : INFO : collected 450076 word types from a corpus of 21451617 raw words and 50000 sentences\n",
      "2021-11-18 10:29:14,622 : INFO : Loading a fresh vocabulary\n",
      "2021-11-18 10:29:14,868 : INFO : effective_min_count=10 retains 58127 unique words (12% of original 450076, drops 391949)\n",
      "2021-11-18 10:29:14,868 : INFO : effective_min_count=10 leaves 20671897 word corpus (96% of original 21451617, drops 779720)\n",
      "2021-11-18 10:29:15,007 : INFO : deleting the raw counts dictionary of 450076 items\n",
      "2021-11-18 10:29:15,016 : INFO : sample=0.001 downsamples 15 most-common words\n",
      "2021-11-18 10:29:15,017 : INFO : downsampling leaves estimated 13581315 word corpus (65.7% of prior 20671897)\n",
      "2021-11-18 10:29:15,151 : INFO : estimated required memory for 58127 words and 200 dimensions: 122066700 bytes\n",
      "2021-11-18 10:29:15,151 : INFO : resetting layer weights\n",
      "2021-11-18 10:29:25,169 : INFO : training model with 12 workers on 58127 vocabulary and 200 features, using sg=0 hs=0 sample=0.001 negative=5 window=5\n",
      "2021-11-18 10:29:26,179 : INFO : EPOCH 1 - PROGRESS: at 11.16% examples, 1604984 words/s, in_qsize 23, out_qsize 0\n",
      "2021-11-18 10:29:27,186 : INFO : EPOCH 1 - PROGRESS: at 21.11% examples, 1533796 words/s, in_qsize 23, out_qsize 0\n",
      "2021-11-18 10:29:28,190 : INFO : EPOCH 1 - PROGRESS: at 32.28% examples, 1558357 words/s, in_qsize 21, out_qsize 2\n",
      "2021-11-18 10:29:29,191 : INFO : EPOCH 1 - PROGRESS: at 41.55% examples, 1517824 words/s, in_qsize 24, out_qsize 2\n",
      "2021-11-18 10:29:30,199 : INFO : EPOCH 1 - PROGRESS: at 51.38% examples, 1482572 words/s, in_qsize 20, out_qsize 3\n",
      "2021-11-18 10:29:31,204 : INFO : EPOCH 1 - PROGRESS: at 63.68% examples, 1495886 words/s, in_qsize 21, out_qsize 2\n",
      "2021-11-18 10:29:32,214 : INFO : EPOCH 1 - PROGRESS: at 76.34% examples, 1479749 words/s, in_qsize 18, out_qsize 5\n",
      "2021-11-18 10:29:33,227 : INFO : EPOCH 1 - PROGRESS: at 86.85% examples, 1465547 words/s, in_qsize 23, out_qsize 0\n",
      "2021-11-18 10:29:34,229 : INFO : EPOCH 1 - PROGRESS: at 98.19% examples, 1472511 words/s, in_qsize 23, out_qsize 0\n",
      "2021-11-18 10:29:34,352 : INFO : worker thread finished; awaiting finish of 11 more threads\n",
      "2021-11-18 10:29:34,355 : INFO : worker thread finished; awaiting finish of 10 more threads\n",
      "2021-11-18 10:29:34,356 : INFO : worker thread finished; awaiting finish of 9 more threads\n",
      "2021-11-18 10:29:34,373 : INFO : worker thread finished; awaiting finish of 8 more threads\n",
      "2021-11-18 10:29:34,375 : INFO : worker thread finished; awaiting finish of 7 more threads\n",
      "2021-11-18 10:29:34,377 : INFO : worker thread finished; awaiting finish of 6 more threads\n",
      "2021-11-18 10:29:34,378 : INFO : worker thread finished; awaiting finish of 5 more threads\n",
      "2021-11-18 10:29:34,380 : INFO : worker thread finished; awaiting finish of 4 more threads\n",
      "2021-11-18 10:29:34,381 : INFO : worker thread finished; awaiting finish of 3 more threads\n",
      "2021-11-18 10:29:34,381 : INFO : worker thread finished; awaiting finish of 2 more threads\n",
      "2021-11-18 10:29:34,389 : INFO : worker thread finished; awaiting finish of 1 more threads\n",
      "2021-11-18 10:29:34,390 : INFO : worker thread finished; awaiting finish of 0 more threads\n",
      "2021-11-18 10:29:34,390 : INFO : EPOCH - 1 : training on 21451617 raw words (13580946 effective words) took 9.2s, 1473846 effective words/s\n",
      "2021-11-18 10:29:35,419 : INFO : EPOCH 2 - PROGRESS: at 9.27% examples, 1308828 words/s, in_qsize 24, out_qsize 1\n",
      "2021-11-18 10:29:36,419 : INFO : EPOCH 2 - PROGRESS: at 19.68% examples, 1423101 words/s, in_qsize 23, out_qsize 0\n",
      "2021-11-18 10:29:37,431 : INFO : EPOCH 2 - PROGRESS: at 29.62% examples, 1415647 words/s, in_qsize 20, out_qsize 3\n",
      "2021-11-18 10:29:38,442 : INFO : EPOCH 2 - PROGRESS: at 39.42% examples, 1433113 words/s, in_qsize 20, out_qsize 3\n",
      "2021-11-18 10:29:39,464 : INFO : EPOCH 2 - PROGRESS: at 50.24% examples, 1437996 words/s, in_qsize 21, out_qsize 2\n",
      "2021-11-18 10:29:40,470 : INFO : EPOCH 2 - PROGRESS: at 61.29% examples, 1448346 words/s, in_qsize 22, out_qsize 1\n",
      "2021-11-18 10:29:41,482 : INFO : EPOCH 2 - PROGRESS: at 73.50% examples, 1419897 words/s, in_qsize 18, out_qsize 5\n",
      "2021-11-18 10:29:42,504 : INFO : EPOCH 2 - PROGRESS: at 84.13% examples, 1410418 words/s, in_qsize 22, out_qsize 1\n",
      "2021-11-18 10:29:43,513 : INFO : EPOCH 2 - PROGRESS: at 91.85% examples, 1367634 words/s, in_qsize 22, out_qsize 1\n",
      "2021-11-18 10:29:44,352 : INFO : worker thread finished; awaiting finish of 11 more threads\n",
      "2021-11-18 10:29:44,356 : INFO : worker thread finished; awaiting finish of 10 more threads\n",
      "2021-11-18 10:29:44,357 : INFO : worker thread finished; awaiting finish of 9 more threads\n",
      "2021-11-18 10:29:44,372 : INFO : worker thread finished; awaiting finish of 8 more threads\n",
      "2021-11-18 10:29:44,374 : INFO : worker thread finished; awaiting finish of 7 more threads\n",
      "2021-11-18 10:29:44,375 : INFO : worker thread finished; awaiting finish of 6 more threads\n",
      "2021-11-18 10:29:44,376 : INFO : worker thread finished; awaiting finish of 5 more threads\n",
      "2021-11-18 10:29:44,376 : INFO : worker thread finished; awaiting finish of 4 more threads\n",
      "2021-11-18 10:29:44,377 : INFO : worker thread finished; awaiting finish of 3 more threads\n",
      "2021-11-18 10:29:44,378 : INFO : worker thread finished; awaiting finish of 2 more threads\n",
      "2021-11-18 10:29:44,387 : INFO : worker thread finished; awaiting finish of 1 more threads\n",
      "2021-11-18 10:29:44,388 : INFO : worker thread finished; awaiting finish of 0 more threads\n",
      "2021-11-18 10:29:44,389 : INFO : EPOCH - 2 : training on 21451617 raw words (13580951 effective words) took 10.0s, 1359097 effective words/s\n",
      "2021-11-18 10:29:45,398 : INFO : EPOCH 3 - PROGRESS: at 8.26% examples, 1185165 words/s, in_qsize 20, out_qsize 3\n",
      "2021-11-18 10:29:46,400 : INFO : EPOCH 3 - PROGRESS: at 17.32% examples, 1259365 words/s, in_qsize 23, out_qsize 0\n",
      "2021-11-18 10:29:47,419 : INFO : EPOCH 3 - PROGRESS: at 27.12% examples, 1303490 words/s, in_qsize 19, out_qsize 4\n",
      "2021-11-18 10:29:48,434 : INFO : EPOCH 3 - PROGRESS: at 35.89% examples, 1300278 words/s, in_qsize 24, out_qsize 1\n",
      "2021-11-18 10:29:49,448 : INFO : EPOCH 3 - PROGRESS: at 44.46% examples, 1285884 words/s, in_qsize 20, out_qsize 3\n",
      "2021-11-18 10:29:50,451 : INFO : EPOCH 3 - PROGRESS: at 53.00% examples, 1267551 words/s, in_qsize 23, out_qsize 0\n",
      "2021-11-18 10:29:51,472 : INFO : EPOCH 3 - PROGRESS: at 62.41% examples, 1257478 words/s, in_qsize 20, out_qsize 3\n",
      "2021-11-18 10:29:52,478 : INFO : EPOCH 3 - PROGRESS: at 73.80% examples, 1248940 words/s, in_qsize 18, out_qsize 5\n",
      "2021-11-18 10:29:53,486 : INFO : EPOCH 3 - PROGRESS: at 83.43% examples, 1247589 words/s, in_qsize 24, out_qsize 5\n",
      "2021-11-18 10:29:54,504 : INFO : EPOCH 3 - PROGRESS: at 92.69% examples, 1244605 words/s, in_qsize 21, out_qsize 2\n",
      "2021-11-18 10:29:55,245 : INFO : worker thread finished; awaiting finish of 11 more threads\n",
      "2021-11-18 10:29:55,264 : INFO : worker thread finished; awaiting finish of 10 more threads\n",
      "2021-11-18 10:29:55,267 : INFO : worker thread finished; awaiting finish of 9 more threads\n",
      "2021-11-18 10:29:55,272 : INFO : worker thread finished; awaiting finish of 8 more threads\n",
      "2021-11-18 10:29:55,273 : INFO : worker thread finished; awaiting finish of 7 more threads\n",
      "2021-11-18 10:29:55,280 : INFO : worker thread finished; awaiting finish of 6 more threads\n",
      "2021-11-18 10:29:55,286 : INFO : worker thread finished; awaiting finish of 5 more threads\n",
      "2021-11-18 10:29:55,288 : INFO : worker thread finished; awaiting finish of 4 more threads\n"
     ]
    },
    {
     "name": "stderr",
     "output_type": "stream",
     "text": [
      "2021-11-18 10:29:55,292 : INFO : worker thread finished; awaiting finish of 3 more threads\n",
      "2021-11-18 10:29:55,293 : INFO : worker thread finished; awaiting finish of 2 more threads\n",
      "2021-11-18 10:29:55,294 : INFO : worker thread finished; awaiting finish of 1 more threads\n",
      "2021-11-18 10:29:55,301 : INFO : worker thread finished; awaiting finish of 0 more threads\n",
      "2021-11-18 10:29:55,302 : INFO : EPOCH - 3 : training on 21451617 raw words (13580460 effective words) took 10.9s, 1245062 effective words/s\n",
      "2021-11-18 10:29:56,327 : INFO : EPOCH 4 - PROGRESS: at 8.43% examples, 1193341 words/s, in_qsize 20, out_qsize 3\n",
      "2021-11-18 10:29:57,342 : INFO : EPOCH 4 - PROGRESS: at 17.07% examples, 1223833 words/s, in_qsize 21, out_qsize 2\n",
      "2021-11-18 10:29:58,372 : INFO : EPOCH 4 - PROGRESS: at 26.10% examples, 1239414 words/s, in_qsize 22, out_qsize 1\n",
      "2021-11-18 10:29:59,379 : INFO : EPOCH 4 - PROGRESS: at 34.93% examples, 1254396 words/s, in_qsize 24, out_qsize 1\n",
      "2021-11-18 10:30:00,380 : INFO : EPOCH 4 - PROGRESS: at 43.94% examples, 1267552 words/s, in_qsize 23, out_qsize 0\n",
      "2021-11-18 10:30:01,388 : INFO : EPOCH 4 - PROGRESS: at 52.73% examples, 1256830 words/s, in_qsize 22, out_qsize 1\n",
      "2021-11-18 10:30:02,401 : INFO : EPOCH 4 - PROGRESS: at 63.42% examples, 1268240 words/s, in_qsize 21, out_qsize 2\n",
      "2021-11-18 10:30:03,401 : INFO : EPOCH 4 - PROGRESS: at 74.64% examples, 1261002 words/s, in_qsize 21, out_qsize 2\n",
      "2021-11-18 10:30:04,404 : INFO : EPOCH 4 - PROGRESS: at 85.11% examples, 1272303 words/s, in_qsize 21, out_qsize 2\n",
      "2021-11-18 10:30:05,438 : INFO : EPOCH 4 - PROGRESS: at 94.69% examples, 1268905 words/s, in_qsize 23, out_qsize 0\n",
      "2021-11-18 10:30:06,063 : INFO : worker thread finished; awaiting finish of 11 more threads\n",
      "2021-11-18 10:30:06,068 : INFO : worker thread finished; awaiting finish of 10 more threads\n",
      "2021-11-18 10:30:06,075 : INFO : worker thread finished; awaiting finish of 9 more threads\n",
      "2021-11-18 10:30:06,077 : INFO : worker thread finished; awaiting finish of 8 more threads\n",
      "2021-11-18 10:30:06,078 : INFO : worker thread finished; awaiting finish of 7 more threads\n",
      "2021-11-18 10:30:06,082 : INFO : worker thread finished; awaiting finish of 6 more threads\n",
      "2021-11-18 10:30:06,087 : INFO : worker thread finished; awaiting finish of 5 more threads\n",
      "2021-11-18 10:30:06,089 : INFO : worker thread finished; awaiting finish of 4 more threads\n",
      "2021-11-18 10:30:06,090 : INFO : worker thread finished; awaiting finish of 3 more threads\n",
      "2021-11-18 10:30:06,091 : INFO : worker thread finished; awaiting finish of 2 more threads\n",
      "2021-11-18 10:30:06,092 : INFO : worker thread finished; awaiting finish of 1 more threads\n",
      "2021-11-18 10:30:06,096 : INFO : worker thread finished; awaiting finish of 0 more threads\n",
      "2021-11-18 10:30:06,097 : INFO : EPOCH - 4 : training on 21451617 raw words (13580911 effective words) took 10.8s, 1258954 effective words/s\n",
      "2021-11-18 10:30:07,122 : INFO : EPOCH 5 - PROGRESS: at 8.55% examples, 1209469 words/s, in_qsize 22, out_qsize 1\n",
      "2021-11-18 10:30:08,124 : INFO : EPOCH 5 - PROGRESS: at 17.86% examples, 1288559 words/s, in_qsize 19, out_qsize 4\n",
      "2021-11-18 10:30:09,151 : INFO : EPOCH 5 - PROGRESS: at 26.90% examples, 1283063 words/s, in_qsize 19, out_qsize 4\n",
      "2021-11-18 10:30:10,172 : INFO : EPOCH 5 - PROGRESS: at 35.81% examples, 1287607 words/s, in_qsize 19, out_qsize 4\n",
      "2021-11-18 10:30:11,172 : INFO : EPOCH 5 - PROGRESS: at 44.72% examples, 1288747 words/s, in_qsize 23, out_qsize 0\n",
      "2021-11-18 10:30:12,198 : INFO : EPOCH 5 - PROGRESS: at 53.56% examples, 1272832 words/s, in_qsize 20, out_qsize 3\n",
      "2021-11-18 10:30:13,229 : INFO : EPOCH 5 - PROGRESS: at 63.47% examples, 1262854 words/s, in_qsize 19, out_qsize 4\n",
      "2021-11-18 10:30:14,235 : INFO : EPOCH 5 - PROGRESS: at 74.35% examples, 1250045 words/s, in_qsize 22, out_qsize 1\n",
      "2021-11-18 10:30:15,258 : INFO : EPOCH 5 - PROGRESS: at 82.66% examples, 1227510 words/s, in_qsize 20, out_qsize 3\n",
      "2021-11-18 10:30:16,264 : INFO : EPOCH 5 - PROGRESS: at 93.03% examples, 1242835 words/s, in_qsize 21, out_qsize 2\n",
      "2021-11-18 10:30:16,830 : INFO : worker thread finished; awaiting finish of 11 more threads\n",
      "2021-11-18 10:30:16,853 : INFO : worker thread finished; awaiting finish of 10 more threads\n",
      "2021-11-18 10:30:16,857 : INFO : worker thread finished; awaiting finish of 9 more threads\n",
      "2021-11-18 10:30:16,859 : INFO : worker thread finished; awaiting finish of 8 more threads\n",
      "2021-11-18 10:30:16,860 : INFO : worker thread finished; awaiting finish of 7 more threads\n",
      "2021-11-18 10:30:16,861 : INFO : worker thread finished; awaiting finish of 6 more threads\n",
      "2021-11-18 10:30:16,861 : INFO : worker thread finished; awaiting finish of 5 more threads\n",
      "2021-11-18 10:30:16,869 : INFO : worker thread finished; awaiting finish of 4 more threads\n",
      "2021-11-18 10:30:16,870 : INFO : worker thread finished; awaiting finish of 3 more threads\n",
      "2021-11-18 10:30:16,875 : INFO : worker thread finished; awaiting finish of 2 more threads\n",
      "2021-11-18 10:30:16,876 : INFO : worker thread finished; awaiting finish of 1 more threads\n",
      "2021-11-18 10:30:16,877 : INFO : worker thread finished; awaiting finish of 0 more threads\n",
      "2021-11-18 10:30:16,877 : INFO : EPOCH - 5 : training on 21451617 raw words (13581349 effective words) took 10.8s, 1260465 effective words/s\n",
      "2021-11-18 10:30:16,878 : INFO : training on a 107258085 raw words (67904617 effective words) took 51.7s, 1313230 effective words/s\n"
     ]
    }
   ],
   "source": [
    "# word2vec：詞向量是用一個多維度的向量來表示詞意的方法，用這個方法可以解決 CountVector/TFIDFVector 在處理文本特徵的資料時出現非常龐大且稀疏的矩陣的問題。詞向量的取得方式有以下兩種\n",
    "# 運用我們這裡的資料自行訓練詞向量\n",
    "program = os.path.basename(sys.argv[0])\n",
    "logger = logging.getLogger(program)\n",
    "logging.basicConfig(format='%(asctime)s : %(levelname)s : %(message)s', level=logging.INFO)\n",
    "logger.info(\"running %s\" % ' '.join(sys.argv))\n",
    "w2v_model = Word2Vec(df['CONTENT_SEG'].apply(lambda x: x.split(' ',-1)), # input要是list不是str\n",
    "                     min_count=10,\n",
    "                     size=200,\n",
    "                     workers=multiprocessing.cpu_count())  # 訓練skip-gram模型"
   ]
  },
  {
   "cell_type": "code",
   "execution_count": 7,
   "metadata": {},
   "outputs": [],
   "source": [
    "def AvgVector(w2v_model, sentence):\n",
    "    vec = []\n",
    "    for i in sentence.split(' ', -1):\n",
    "        if i in w2v_model.wv.index2word:\n",
    "            vec.append(w2v_model[i])\n",
    "    vector = np.mean(vec, axis=0)\n",
    "    vector = pd.Series(vector)\n",
    "    return vector"
   ]
  },
  {
   "cell_type": "code",
   "execution_count": 8,
   "metadata": {},
   "outputs": [
    {
     "name": "stdout",
     "output_type": "stream",
     "text": [
      "Wall time: 0 ns\n"
     ]
    },
    {
     "name": "stderr",
     "output_type": "stream",
     "text": [
      "<ipython-input-7-715022c9dcea>:5: DeprecationWarning: Call to deprecated `__getitem__` (Method will be removed in 4.0.0, use self.wv.__getitem__() instead).\n",
      "  vec.append(w2v_model[i])\n"
     ]
    },
    {
     "data": {
      "text/plain": [
       "(40000, 200)"
      ]
     },
     "execution_count": 8,
     "metadata": {},
     "output_type": "execute_result"
    }
   ],
   "source": [
    "%time\n",
    "w2v_train = X_train.apply(lambda x: AvgVector(w2v_model, x))\n",
    "w2v_test = X_test.apply(lambda x: AvgVector(w2v_model, x))\n",
    "w2v_train.shape"
   ]
  },
  {
   "cell_type": "code",
   "execution_count": 9,
   "metadata": {},
   "outputs": [
    {
     "name": "stderr",
     "output_type": "stream",
     "text": [
      "2021-11-18 11:53:58,973 : INFO : loading Word2Vec object from data/wordvec_wiki/wiki.zh.text.model\n",
      "2021-11-18 11:54:01,657 : INFO : loading wv recursively from data/wordvec_wiki/wiki.zh.text.model.wv.* with mmap=None\n",
      "2021-11-18 11:54:01,657 : INFO : loading vectors from data/wordvec_wiki/wiki.zh.text.model.wv.vectors.npy with mmap=None\n",
      "2021-11-18 11:54:14,099 : INFO : setting ignored attribute vectors_norm to None\n",
      "2021-11-18 11:54:14,099 : INFO : loading vocabulary recursively from data/wordvec_wiki/wiki.zh.text.model.vocabulary.* with mmap=None\n",
      "2021-11-18 11:54:14,100 : INFO : loading trainables recursively from data/wordvec_wiki/wiki.zh.text.model.trainables.* with mmap=None\n",
      "2021-11-18 11:54:14,100 : INFO : loading syn1neg from data/wordvec_wiki/wiki.zh.text.model.trainables.syn1neg.npy with mmap=None\n",
      "2021-11-18 11:54:26,848 : INFO : setting ignored attribute cum_table to None\n",
      "2021-11-18 11:54:26,849 : INFO : loaded data/wordvec_wiki/wiki.zh.text.model\n"
     ]
    }
   ],
   "source": [
    "# 借用外部大量的文本訓練而得的詞向量\n",
    "# 直接讀取詞向量的模型即可\n",
    "pretrain_w2v_model = Word2Vec.load('data/wordvec_wiki/wiki.zh.text.model')"
   ]
  },
  {
   "cell_type": "markdown",
   "metadata": {},
   "source": [
    "## 機器學習模型"
   ]
  },
  {
   "cell_type": "markdown",
   "metadata": {},
   "source": [
    "## 監督式學習\n",
    "### Logistic Regression(對數機率模型)\n",
    "處理問題上的區別:\n",
    "  * Linear Regression 線性迴歸屬於連續型的模型值，也就是預測一個連續的應變數\n",
    "  * Logistic Regression 邏輯迴歸使迴歸可以用來處理二元分類問題\n",
    "\n",
    "建立迴歸方程式的區別\n",
    "  * Linear Regression 線性迴歸使用特徵對目標直接建立迴歸方程式\n",
    "  * Logistic Regression邏輯迴歸對勝算比(Odds Ratio)，也就是對與不對的比率，取對數log來建立迴歸方程式\n",
    "\n",
    "優點: 容易理解與實作，計算成本不高 \\\n",
    "缺點: 分類的準確度不高，不能很好處理大量多類特徵或變量，容易產生低度擬和的問題(基於以上缺點而衍生出softmax可用於多分類)\n",
    "\n",
    "資料來源: https://matters.news/@CHWang/machine-learning-%E7%B5%A6%E8%87%AA%E5%B7%B1%E7%9A%84%E6%A9%9F%E5%99%A8%E5%AD%B8%E7%BF%92%E7%AD%86-logistic-regression%E9%82%8F%E8%BC%AF%E8%BF%B4%E6%AD%B8-%E4%BA%8C%E5%85%83%E5%88%86%E9%A1%9E%E5%95%8F%E9%A1%8C-%E5%8E%9F%E7%90%86%E8%A9%B3%E7%B4%B0%E4%BB%8B%E7%B4%B9-bafyreiettlsnp4azq5dqwyubb5w76j5t4x4pxxhnuteofrqmqszg4jbuve"
   ]
  },
  {
   "cell_type": "code",
   "execution_count": 10,
   "metadata": {},
   "outputs": [
    {
     "name": "stdout",
     "output_type": "stream",
     "text": [
      "Wall time: 0 ns\n",
      "========================================  Score on Counts feature  ========================================\n",
      "Score on Train:  0.999925\n",
      "Score on Test:  0.865\n",
      "====================================================================================================\n"
     ]
    }
   ],
   "source": [
    "# 詞頻特徵\n",
    "%time\n",
    "clf = LogisticRegression(max_iter=1000, n_jobs=-1)   \n",
    "clf.fit(counts_train, y_train)\n",
    "print('='*40, ' Score on Counts feature ', '='*40)\n",
    "print('Score on Train: ', metrics.accuracy_score(y_train, clf.predict(counts_train)))\n",
    "print('Score on Test: ', metrics.accuracy_score(y_test, clf.predict(counts_test)))\n",
    "print('='*100)"
   ]
  },
  {
   "cell_type": "code",
   "execution_count": 11,
   "metadata": {},
   "outputs": [
    {
     "name": "stdout",
     "output_type": "stream",
     "text": [
      "Wall time: 0 ns\n",
      "========================================  Score on TFIDF feature  ========================================\n",
      "Score on Train:  0.934725\n",
      "Score on Test:  0.8802\n",
      "====================================================================================================\n"
     ]
    }
   ],
   "source": [
    "# TFIDF特徵\n",
    "%time\n",
    "clf = LogisticRegression(max_iter=1000, n_jobs=-1)   \n",
    "clf.fit(tfidf_train, y_train)\n",
    "print('='*40, ' Score on TFIDF feature ', '='*40)\n",
    "print('Score on Train: ', metrics.accuracy_score(y_train, clf.predict(tfidf_train)))\n",
    "print('Score on Test: ', metrics.accuracy_score(y_test, clf.predict(tfidf_test)))\n",
    "print('='*100)"
   ]
  },
  {
   "cell_type": "code",
   "execution_count": 12,
   "metadata": {},
   "outputs": [
    {
     "name": "stdout",
     "output_type": "stream",
     "text": [
      "Wall time: 0 ns\n",
      "========================================  Score on AvgVector feature  ========================================\n",
      "Score on Train:  0.861125\n",
      "Score on Test:  0.8459\n",
      "====================================================================================================\n"
     ]
    }
   ],
   "source": [
    "# 平均詞向量特徵\n",
    "%time\n",
    "clf = LogisticRegression(max_iter=1000, n_jobs=-1)   \n",
    "clf.fit(w2v_train, y_train)\n",
    "print('='*40, ' Score on AvgVector feature ', '='*40)\n",
    "print('Score on Train: ', metrics.accuracy_score(y_train, clf.predict(w2v_train)))\n",
    "print('Score on Test: ', metrics.accuracy_score(y_test, clf.predict(w2v_test)))\n",
    "print('='*100)"
   ]
  },
  {
   "cell_type": "markdown",
   "metadata": {},
   "source": [
    "## 監督式學習\n",
    "### Naive Bayes(預測建模算法)\n",
    "優點: Naive Bayes 發源於古典數學理論，有著堅實的數學理論，及穩定的分類效率。對大量訓練和查詢具有較高的速度。既使面對超大規模的訓練集也只會有相對較少數的特徵數，並且對項目的訓練和分類也僅僅試特徵概率的數學運算。適合增量式訓練，對於缺失數據不太敏感。\n",
    "\n",
    "缺點: 需要計算先驗概率，決策分類存在錯誤率，對輸入數據的表達形式很敏感，使用了樣本數性獨立性的假設，因此如果樣本屬性有關聯時期效果不佳。"
   ]
  },
  {
   "cell_type": "code",
   "execution_count": 13,
   "metadata": {},
   "outputs": [
    {
     "name": "stdout",
     "output_type": "stream",
     "text": [
      "Wall time: 0 ns\n",
      "========================================  Score on CV result  ========================================\n",
      "Best Score:  0.8553499999999999\n",
      "Best Params:  {'alpha': 0.6}\n",
      "========================================  Score on Counts feature  ========================================\n",
      "Score on Train:  0.893675\n",
      "Score on Test:  0.8548\n",
      "====================================================================================================\n"
     ]
    }
   ],
   "source": [
    "### 詞頻特徵\n",
    "%time\n",
    "param_grid = {'alpha':[1.4, 1.2, 1, 0.8, 0.6]}\n",
    "estimators = GridSearchCV(estimator = MultinomialNB(),\n",
    "                      param_grid = param_grid,\n",
    "                      n_jobs = -1,\n",
    "                      cv = 5)\n",
    "estimators.fit(counts_train, y_train)\n",
    "print('='*40, ' Score on CV result ', '='*40)\n",
    "print('Best Score: ', estimators.best_score_)\n",
    "print('Best Params: ', estimators.best_params_)\n",
    "clf = MultinomialNB(alpha = estimators.best_params_['alpha'])   \n",
    "clf.fit(counts_train, y_train)\n",
    "print('='*40, ' Score on Counts feature ', '='*40)\n",
    "print('Score on Train: ', metrics.accuracy_score(y_train, clf.predict(counts_train)))\n",
    "print('Score on Test: ', metrics.accuracy_score(y_test, clf.predict(counts_test)))\n",
    "print('='*100)"
   ]
  },
  {
   "cell_type": "code",
   "execution_count": 14,
   "metadata": {},
   "outputs": [
    {
     "name": "stdout",
     "output_type": "stream",
     "text": [
      "Wall time: 0 ns\n",
      "========================================  Score on CV result  ========================================\n",
      "Best Score:  0.84795\n",
      "Best Params:  {'alpha': 0.6}\n",
      "Wall time: 0 ns\n",
      "========================================  Score on TFIDF feature  ========================================\n",
      "Score on Train:  0.879375\n",
      "Score on Test:  0.849\n",
      "====================================================================================================\n"
     ]
    }
   ],
   "source": [
    "# TFIDF特徵\n",
    "%time\n",
    "param_grid = {'alpha':[1.4, 1.2, 1, 0.8, 0.6]}\n",
    "estimators = GridSearchCV(estimator = MultinomialNB(),\n",
    "                      param_grid = param_grid,\n",
    "                      n_jobs = -1,\n",
    "                      cv = 5)\n",
    "estimators.fit(tfidf_train, y_train)\n",
    "print('='*40, ' Score on CV result ', '='*40)\n",
    "print('Best Score: ', estimators.best_score_)\n",
    "print('Best Params: ', estimators.best_params_)\n",
    "%time\n",
    "clf = MultinomialNB(alpha = estimators.best_params_['alpha'])   \n",
    "clf.fit(tfidf_train, y_train)\n",
    "print('='*40, ' Score on TFIDF feature ', '='*40)\n",
    "print('Score on Train: ', metrics.accuracy_score(y_train, clf.predict(tfidf_train)))\n",
    "print('Score on Test: ', metrics.accuracy_score(y_test, clf.predict(tfidf_test)))\n",
    "print('='*100)"
   ]
  },
  {
   "cell_type": "code",
   "execution_count": 15,
   "metadata": {},
   "outputs": [
    {
     "name": "stdout",
     "output_type": "stream",
     "text": [
      "Wall time: 0 ns\n",
      "========================================  Score on CV result  ========================================\n",
      "Best Score:  0.7050750000000001\n",
      "Best Params:  {'alpha': 0.8}\n",
      "Wall time: 0 ns\n",
      "========================================  Score on AvgVector feature  ========================================\n",
      "Score on Train:  0.70595\n",
      "Score on Test:  0.6999\n",
      "====================================================================================================\n"
     ]
    }
   ],
   "source": [
    "# 平均詞向量特徵\n",
    "%time\n",
    "scaler = MinMaxScaler()\n",
    "scaler.fit(w2v_train)\n",
    "\n",
    "w2v_train_mm = scaler.transform(w2v_train)\n",
    "w2v_test_mm = scaler.transform(w2v_test)\n",
    "\n",
    "param_grid = {'alpha':[1.4, 1.2, 1, 0.8, 0.6]}\n",
    "estimators = GridSearchCV(estimator = MultinomialNB(),\n",
    "                        param_grid = param_grid,\n",
    "                        n_jobs = -1,\n",
    "                        cv = 5)\n",
    "estimators.fit(w2v_train_mm, y_train)\n",
    "print('='*40, ' Score on CV result ', '='*40)\n",
    "print('Best Score: ', estimators.best_score_)\n",
    "print('Best Params: ', estimators.best_params_)\n",
    "%time\n",
    "clf = MultinomialNB(alpha = estimators.best_params_['alpha'])   \n",
    "clf.fit(w2v_train_mm, y_train)\n",
    "print('='*40, ' Score on AvgVector feature ', '='*40)\n",
    "print('Score on Train: ', metrics.accuracy_score(y_train, clf.predict(w2v_train_mm)))\n",
    "print('Score on Test: ', metrics.accuracy_score(y_test, clf.predict(w2v_test_mm)))\n",
    "print('='*100)"
   ]
  },
  {
   "cell_type": "markdown",
   "metadata": {},
   "source": [
    "## 監督式學習\n",
    "### SVM"
   ]
  },
  {
   "cell_type": "code",
   "execution_count": 16,
   "metadata": {},
   "outputs": [
    {
     "name": "stdout",
     "output_type": "stream",
     "text": [
      "Wall time: 0 ns\n",
      "========================================  Score on Counts feature  ========================================\n",
      "Score on Train:  0.99985\n",
      "Score on Test:  0.8523\n",
      "====================================================================================================\n"
     ]
    }
   ],
   "source": [
    "# 詞頻特徵\n",
    "%time\n",
    "clf = SVC(kernel='linear')\n",
    "clf.fit(counts_train, y_train)\n",
    "print('='*40, ' Score on Counts feature ', '='*40)\n",
    "print('Score on Train: ', metrics.accuracy_score(y_train, clf.predict(counts_train)))\n",
    "print('Score on Test: ', metrics.accuracy_score(y_test, clf.predict(counts_test)))\n",
    "print('='*100)"
   ]
  },
  {
   "cell_type": "code",
   "execution_count": 17,
   "metadata": {},
   "outputs": [
    {
     "name": "stdout",
     "output_type": "stream",
     "text": [
      "Wall time: 0 ns\n",
      "========================================  Score on TFIDF feature  ========================================\n",
      "Score on Train:  0.955325\n",
      "Score on Test:  0.8846\n",
      "====================================================================================================\n"
     ]
    }
   ],
   "source": [
    "# TFIDF特徵\n",
    "%time\n",
    "clf = SVC(kernel='linear')\n",
    "clf.fit(tfidf_train, y_train)\n",
    "print('='*40, ' Score on TFIDF feature ', '='*40)\n",
    "print('Score on Train: ', metrics.accuracy_score(y_train, clf.predict(tfidf_train)))\n",
    "print('Score on Test: ', metrics.accuracy_score(y_test, clf.predict(tfidf_test)))\n",
    "print('='*100)"
   ]
  },
  {
   "cell_type": "code",
   "execution_count": 18,
   "metadata": {},
   "outputs": [
    {
     "name": "stdout",
     "output_type": "stream",
     "text": [
      "Wall time: 0 ns\n",
      "========================================  Score on AvgVector feature  ========================================\n",
      "Score on Train:  0.86935\n",
      "Score on Test:  0.8525\n",
      "====================================================================================================\n"
     ]
    }
   ],
   "source": [
    "# 平均詞向量特徵\n",
    "%time\n",
    "clf = SVC(kernel='linear')\n",
    "clf.fit(w2v_train, y_train)\n",
    "print('='*40, ' Score on AvgVector feature ', '='*40)\n",
    "print('Score on Train: ', metrics.accuracy_score(y_train, clf.predict(w2v_train)))\n",
    "print('Score on Test: ', metrics.accuracy_score(y_test, clf.predict(w2v_test)))\n",
    "print('='*100)"
   ]
  },
  {
   "cell_type": "markdown",
   "metadata": {},
   "source": [
    "## 監督式學習\n",
    "### KNN\n",
    "一般監督式學習是透過資料訓練出一個模型，但KNN並沒有做訓練的動作。\\\n",
    "KNN如果做訓練的動作主要是為了以某資料料結構儲存個點的關係，進而加速搜尋鄰近K點鄰距的效果。\n",
    "\n",
    "優點︰精度高、對異常值不敏感、無資料輸入假定。\\\n",
    "缺點︰時間複雜度高、空間複雜度高，訓練模型依賴訓練集資料且不可丟棄。"
   ]
  },
  {
   "cell_type": "code",
   "execution_count": 19,
   "metadata": {},
   "outputs": [
    {
     "name": "stdout",
     "output_type": "stream",
     "text": [
      "Wall time: 0 ns\n"
     ]
    },
    {
     "name": "stderr",
     "output_type": "stream",
     "text": [
      "C:\\Users\\l8527\\.conda\\envs\\tf-image\\lib\\site-packages\\sklearn\\model_selection\\_search.py:918: UserWarning: One or more of the test scores are non-finite: [nan nan nan nan nan nan nan nan]\n",
      "  warnings.warn(\n"
     ]
    },
    {
     "name": "stdout",
     "output_type": "stream",
     "text": [
      "========================================  Score on CV result  ========================================\n",
      "Best Score:  nan\n",
      "Best Params:  {'n_neighbors': 1}\n",
      "Wall time: 0 ns\n",
      "========================================  Score on Counts feature  ========================================\n",
      "Score on Train:  0.99995\n",
      "Score on Test:  0.6639\n",
      "====================================================================================================\n"
     ]
    }
   ],
   "source": [
    "# 詞頻特徵\n",
    "%time\n",
    "param_grid = {'n_neighbors':list(range(1,9))}\n",
    "estimators = GridSearchCV(estimator = KNeighborsClassifier(),\n",
    "                        param_grid = param_grid,\n",
    "                        n_jobs = -1,\n",
    "                        cv = 5)\n",
    "estimators.fit(counts_train, y_train)\n",
    "print('='*40, ' Score on CV result ', '='*40)\n",
    "print('Best Score: ', estimators.best_score_)\n",
    "print('Best Params: ', estimators.best_params_)\n",
    "%time\n",
    "clf = KNeighborsClassifier(n_neighbors = estimators.best_params_['n_neighbors'])   \n",
    "clf.fit(counts_train, y_train)\n",
    "print('='*40, ' Score on Counts feature ', '='*40)\n",
    "print('Score on Train: ', metrics.accuracy_score(y_train, clf.predict(counts_train)))\n",
    "print('Score on Test: ', metrics.accuracy_score(y_test, clf.predict(counts_test)))\n",
    "print('='*100)"
   ]
  },
  {
   "cell_type": "code",
   "execution_count": 21,
   "metadata": {},
   "outputs": [
    {
     "name": "stdout",
     "output_type": "stream",
     "text": [
      "Wall time: 0 ns\n"
     ]
    },
    {
     "name": "stderr",
     "output_type": "stream",
     "text": [
      "C:\\Users\\l8527\\.conda\\envs\\tf-image\\lib\\site-packages\\sklearn\\model_selection\\_search.py:918: UserWarning: One or more of the test scores are non-finite: [nan nan nan nan nan nan nan nan]\n",
      "  warnings.warn(\n"
     ]
    },
    {
     "name": "stdout",
     "output_type": "stream",
     "text": [
      "========================================  Score on CV result  ========================================\n",
      "Best Score:  nan\n",
      "Best Params:  {'n_neighbors': 1}\n",
      "Wall time: 0 ns\n",
      "========================================  Score on TFIDF feature  ========================================\n",
      "Score on Train:  0.99995\n",
      "Score on Test:  0.7869\n",
      "====================================================================================================\n"
     ]
    }
   ],
   "source": [
    "# TFIDF特徵\n",
    "%time\n",
    "param_grid = {'n_neighbors':list(range(1,9))}\n",
    "estimators = GridSearchCV(estimator = KNeighborsClassifier(),\n",
    "                        param_grid = param_grid,\n",
    "                        n_jobs = -1,\n",
    "                        cv = 5)\n",
    "estimators.fit(tfidf_train, y_train)\n",
    "print('='*40, ' Score on CV result ', '='*40)\n",
    "print('Best Score: ', estimators.best_score_)\n",
    "print('Best Params: ', estimators.best_params_)\n",
    "%time\n",
    "clf = KNeighborsClassifier(n_neighbors = estimators.best_params_['n_neighbors'], n_jobs=-1)   \n",
    "clf.fit(tfidf_train, y_train)\n",
    "print('='*40, ' Score on TFIDF feature ', '='*40)\n",
    "print('Score on Train: ', metrics.accuracy_score(y_train, clf.predict(tfidf_train)))\n",
    "print('Score on Test: ', metrics.accuracy_score(y_test, clf.predict(tfidf_test)))\n",
    "print('='*100)"
   ]
  },
  {
   "cell_type": "code",
   "execution_count": 22,
   "metadata": {},
   "outputs": [
    {
     "name": "stdout",
     "output_type": "stream",
     "text": [
      "Wall time: 0 ns\n"
     ]
    },
    {
     "name": "stderr",
     "output_type": "stream",
     "text": [
      "C:\\Users\\l8527\\.conda\\envs\\tf-image\\lib\\site-packages\\sklearn\\model_selection\\_search.py:918: UserWarning: One or more of the test scores are non-finite: [0.7984   0.77615  0.807725      nan 0.818025 0.817525 0.81915  0.82055 ]\n",
      "  warnings.warn(\n"
     ]
    },
    {
     "name": "stdout",
     "output_type": "stream",
     "text": [
      "========================================  Score on CV result  ========================================\n",
      "Best Score:  0.8205500000000001\n",
      "Best Params:  {'n_neighbors': 8}\n",
      "Wall time: 0 ns\n",
      "========================================  Score on AvgVector feature  ========================================\n",
      "Score on Train:  0.8657\n",
      "Score on Test:  0.8272\n",
      "====================================================================================================\n"
     ]
    }
   ],
   "source": [
    "# 平均詞向量特徵\n",
    "%time\n",
    "param_grid = {'n_neighbors':list(range(1,9))}\n",
    "estimators = GridSearchCV(estimator = KNeighborsClassifier(),\n",
    "                        param_grid = param_grid,\n",
    "                        n_jobs = -1,\n",
    "                        cv = 5)\n",
    "estimators.fit(w2v_train, y_train)\n",
    "print('='*40, ' Score on CV result ', '='*40)\n",
    "print('Best Score: ', estimators.best_score_)\n",
    "print('Best Params: ', estimators.best_params_)\n",
    "%time\n",
    "clf = KNeighborsClassifier(n_neighbors = estimators.best_params_['n_neighbors'], n_jobs=-1)   \n",
    "clf.fit(w2v_train, y_train)\n",
    "print('='*40, ' Score on AvgVector feature ', '='*40)\n",
    "print('Score on Train: ', metrics.accuracy_score(y_train, clf.predict(w2v_train)))\n",
    "print('Score on Test: ', metrics.accuracy_score(y_test, clf.predict(w2v_test)))\n",
    "print('='*100)"
   ]
  },
  {
   "cell_type": "markdown",
   "metadata": {},
   "source": [
    "### RandomForest"
   ]
  },
  {
   "cell_type": "code",
   "execution_count": 23,
   "metadata": {},
   "outputs": [
    {
     "name": "stdout",
     "output_type": "stream",
     "text": [
      "Wall time: 0 ns\n",
      "========================================  Score on Counts feature  ========================================\n",
      "Score on Train:  0.99995\n",
      "Score on Test:  0.8595\n",
      "====================================================================================================\n"
     ]
    }
   ],
   "source": [
    "# 詞頻特徵\n",
    "%time\n",
    "clf = RandomForestClassifier(n_estimators = 500, max_features = 'sqrt', n_jobs=-1, random_state = 10)  \n",
    "clf.fit(counts_train, y_train)\n",
    "print('='*40, ' Score on Counts feature ', '='*40)\n",
    "print('Score on Train: ', metrics.accuracy_score(y_train, clf.predict(counts_train)))\n",
    "print('Score on Test: ', metrics.accuracy_score(y_test, clf.predict(counts_test)))\n",
    "print('='*100)"
   ]
  },
  {
   "cell_type": "code",
   "execution_count": 24,
   "metadata": {},
   "outputs": [
    {
     "name": "stdout",
     "output_type": "stream",
     "text": [
      "Wall time: 0 ns\n",
      "========================================  Score on TFIDF feature  ========================================\n",
      "Score on Train:  0.99995\n",
      "Score on Test:  0.8546\n",
      "====================================================================================================\n"
     ]
    }
   ],
   "source": [
    "# TFIDF特徵\n",
    "%time\n",
    "clf = RandomForestClassifier(n_estimators = 500, max_features = 'sqrt', n_jobs=-1, random_state = 10)  \n",
    "clf.fit(tfidf_train, y_train)\n",
    "print('='*40, ' Score on TFIDF feature ', '='*40)\n",
    "print('Score on Train: ', metrics.accuracy_score(y_train, clf.predict(tfidf_train)))\n",
    "print('Score on Test: ', metrics.accuracy_score(y_test, clf.predict(tfidf_test)))\n",
    "print('='*100)"
   ]
  },
  {
   "cell_type": "code",
   "execution_count": 25,
   "metadata": {},
   "outputs": [
    {
     "name": "stdout",
     "output_type": "stream",
     "text": [
      "Wall time: 0 ns\n",
      "========================================  Score on AvgVector feature  ========================================\n",
      "Score on Train:  0.99995\n",
      "Score on Test:  0.8292\n",
      "====================================================================================================\n"
     ]
    }
   ],
   "source": [
    "# 平均詞向量特徵\n",
    "%time\n",
    "clf = RandomForestClassifier(n_estimators = 500, max_features = 'sqrt', n_jobs=-1, random_state = 10)  \n",
    "clf.fit(w2v_train, y_train)\n",
    "print('='*40, ' Score on AvgVector feature ', '='*40)\n",
    "print('Score on Train: ', metrics.accuracy_score(y_train, clf.predict(w2v_train)))\n",
    "print('Score on Test: ', metrics.accuracy_score(y_test, clf.predict(w2v_test)))\n",
    "print('='*100)"
   ]
  },
  {
   "cell_type": "markdown",
   "metadata": {},
   "source": [
    "### XGBoost"
   ]
  },
  {
   "cell_type": "code",
   "execution_count": 26,
   "metadata": {
    "scrolled": false
   },
   "outputs": [
    {
     "name": "stdout",
     "output_type": "stream",
     "text": [
      "Wall time: 0 ns\n"
     ]
    },
    {
     "name": "stderr",
     "output_type": "stream",
     "text": [
      "C:\\Users\\l8527\\.conda\\envs\\tf-image\\lib\\site-packages\\xgboost\\sklearn.py:888: UserWarning: The use of label encoder in XGBClassifier is deprecated and will be removed in a future release. To remove this warning, do the following: 1) Pass option use_label_encoder=False when constructing XGBClassifier object; and 2) Encode your labels (y) as integers starting with 0, i.e. 0, 1, 2, ..., [num_class - 1].\n",
      "  warnings.warn(label_encoder_deprecation_msg, UserWarning)\n"
     ]
    },
    {
     "name": "stdout",
     "output_type": "stream",
     "text": [
      "[16:45:18] WARNING: C:/Users/Administrator/workspace/xgboost-win64_release_1.3.0/src/learner.cc:541: \n",
      "Parameters: { silent } might not be used.\n",
      "\n",
      "  This may not be accurate due to some parameters are only used in language bindings but\n",
      "  passed down to XGBoost core.  Or some parameters are not used but slip through this\n",
      "  verification. Please open an issue if you find above cases.\n",
      "\n",
      "\n",
      "[16:45:19] WARNING: C:/Users/Administrator/workspace/xgboost-win64_release_1.3.0/src/learner.cc:1061: Starting in XGBoost 1.3.0, the default evaluation metric used with the objective 'multi:softprob' was changed from 'merror' to 'mlogloss'. Explicitly set eval_metric if you'd like to restore the old behavior.\n",
      "========================================  Score on Counts feature  ========================================\n",
      "Score on Train:  0.999925\n",
      "Score on Test:  0.8742\n",
      "====================================================================================================\n"
     ]
    }
   ],
   "source": [
    "# 詞頻特徵\n",
    "%time\n",
    "clf = xgb.XGBClassifier(n_estimators=500, objective='multi:softmax', n_jobs=-1, silent=False)\n",
    "clf.fit(counts_train, y_train)\n",
    "print('='*40, ' Score on Counts feature ', '='*40)\n",
    "print('Score on Train: ', metrics.accuracy_score(y_train, clf.predict(counts_train)))\n",
    "print('Score on Test: ', metrics.accuracy_score(y_test, clf.predict(counts_test)))\n",
    "print('='*100)"
   ]
  },
  {
   "cell_type": "code",
   "execution_count": 27,
   "metadata": {},
   "outputs": [
    {
     "name": "stdout",
     "output_type": "stream",
     "text": [
      "Wall time: 0 ns\n"
     ]
    },
    {
     "name": "stderr",
     "output_type": "stream",
     "text": [
      "C:\\Users\\l8527\\.conda\\envs\\tf-image\\lib\\site-packages\\xgboost\\sklearn.py:888: UserWarning: The use of label encoder in XGBClassifier is deprecated and will be removed in a future release. To remove this warning, do the following: 1) Pass option use_label_encoder=False when constructing XGBClassifier object; and 2) Encode your labels (y) as integers starting with 0, i.e. 0, 1, 2, ..., [num_class - 1].\n",
      "  warnings.warn(label_encoder_deprecation_msg, UserWarning)\n"
     ]
    },
    {
     "name": "stdout",
     "output_type": "stream",
     "text": [
      "[17:15:57] WARNING: C:/Users/Administrator/workspace/xgboost-win64_release_1.3.0/src/learner.cc:541: \n",
      "Parameters: { silent } might not be used.\n",
      "\n",
      "  This may not be accurate due to some parameters are only used in language bindings but\n",
      "  passed down to XGBoost core.  Or some parameters are not used but slip through this\n",
      "  verification. Please open an issue if you find above cases.\n",
      "\n",
      "\n",
      "[17:16:00] WARNING: C:/Users/Administrator/workspace/xgboost-win64_release_1.3.0/src/learner.cc:1061: Starting in XGBoost 1.3.0, the default evaluation metric used with the objective 'multi:softprob' was changed from 'merror' to 'mlogloss'. Explicitly set eval_metric if you'd like to restore the old behavior.\n",
      "========================================  Score on TFIDF feature  ========================================\n",
      "Score on Train:  0.99995\n",
      "Score on Test:  0.8745\n",
      "====================================================================================================\n"
     ]
    }
   ],
   "source": [
    "# TFIDF特徵\n",
    "%time\n",
    "clf = xgb.XGBClassifier(n_estimators=500, objective='multi:softmax', n_jobs=-1, silent=False)\n",
    "clf.fit(tfidf_train, y_train)\n",
    "print('='*40, ' Score on TFIDF feature ', '='*40)\n",
    "print('Score on Train: ', metrics.accuracy_score(y_train, clf.predict(tfidf_train)))\n",
    "print('Score on Test: ', metrics.accuracy_score(y_test, clf.predict(tfidf_test)))\n",
    "print('='*100)"
   ]
  },
  {
   "cell_type": "code",
   "execution_count": 28,
   "metadata": {},
   "outputs": [
    {
     "name": "stdout",
     "output_type": "stream",
     "text": [
      "Wall time: 0 ns\n",
      "[17:36:58] WARNING: C:/Users/Administrator/workspace/xgboost-win64_release_1.3.0/src/learner.cc:541: \n",
      "Parameters: { silent } might not be used.\n",
      "\n",
      "  This may not be accurate due to some parameters are only used in language bindings but\n",
      "  passed down to XGBoost core.  Or some parameters are not used but slip through this\n",
      "  verification. Please open an issue if you find above cases.\n",
      "\n",
      "\n"
     ]
    },
    {
     "name": "stderr",
     "output_type": "stream",
     "text": [
      "C:\\Users\\l8527\\.conda\\envs\\tf-image\\lib\\site-packages\\xgboost\\sklearn.py:888: UserWarning: The use of label encoder in XGBClassifier is deprecated and will be removed in a future release. To remove this warning, do the following: 1) Pass option use_label_encoder=False when constructing XGBClassifier object; and 2) Encode your labels (y) as integers starting with 0, i.e. 0, 1, 2, ..., [num_class - 1].\n",
      "  warnings.warn(label_encoder_deprecation_msg, UserWarning)\n"
     ]
    },
    {
     "name": "stdout",
     "output_type": "stream",
     "text": [
      "[17:37:01] WARNING: C:/Users/Administrator/workspace/xgboost-win64_release_1.3.0/src/learner.cc:1061: Starting in XGBoost 1.3.0, the default evaluation metric used with the objective 'multi:softprob' was changed from 'merror' to 'mlogloss'. Explicitly set eval_metric if you'd like to restore the old behavior.\n",
      "========================================  Score on AvgVector feature  ========================================\n",
      "Score on Train:  0.99995\n",
      "Score on Test:  0.8537\n",
      "====================================================================================================\n"
     ]
    }
   ],
   "source": [
    "# 平均詞向量特徵\n",
    "%time\n",
    "clf = xgb.XGBClassifier(n_estimators=500, objective='multi:softmax', n_jobs=-1, silent=False)\n",
    "clf.fit(w2v_train, y_train)\n",
    "print('='*40, ' Score on AvgVector feature ', '='*40)\n",
    "print('Score on Train: ', metrics.accuracy_score(y_train, clf.predict(w2v_train)))\n",
    "print('Score on Test: ', metrics.accuracy_score(y_test, clf.predict(w2v_test)))\n",
    "print('='*100)"
   ]
  },
  {
   "cell_type": "markdown",
   "metadata": {},
   "source": [
    "## 深度學習模型"
   ]
  },
  {
   "cell_type": "markdown",
   "metadata": {},
   "source": [
    "## MLP"
   ]
  },
  {
   "cell_type": "code",
   "execution_count": 32,
   "metadata": {
    "scrolled": true
   },
   "outputs": [
    {
     "name": "stdout",
     "output_type": "stream",
     "text": [
      "Found 450075 unique tokens.\n",
      "Shape of counts_train tensor: (40000, 10000)\n",
      "Shape of counts_test tensor: (10000, 10000)\n",
      "Shape of y_train_dummy tensor: (40000, 10)\n",
      "Shape of y_test_dummy tensor: (10000, 10)\n",
      "Model: \"sequential\"\n",
      "_________________________________________________________________\n",
      "Layer (type)                 Output Shape              Param #   \n",
      "=================================================================\n",
      "dense (Dense)                (None, 512)               5120512   \n",
      "_________________________________________________________________\n",
      "batch_normalization (BatchNo (None, 512)               2048      \n",
      "_________________________________________________________________\n",
      "dense_1 (Dense)              (None, 256)               131328    \n",
      "_________________________________________________________________\n",
      "batch_normalization_1 (Batch (None, 256)               1024      \n",
      "_________________________________________________________________\n",
      "dense_2 (Dense)              (None, 128)               32896     \n",
      "_________________________________________________________________\n",
      "dense_3 (Dense)              (None, 10)                1290      \n",
      "=================================================================\n",
      "Total params: 5,289,098\n",
      "Trainable params: 5,287,562\n",
      "Non-trainable params: 1,536\n",
      "_________________________________________________________________\n",
      "Wall time: 0 ns\n",
      "Epoch 1/100\n",
      "250/250 [==============================] - 8s 27ms/step - loss: 0.6145 - accuracy: 0.7876 - val_loss: 1.8528 - val_accuracy: 0.4819\n",
      "WARNING:tensorflow:Early stopping conditioned on metric `val_acc` which is not available. Available metrics are: loss,accuracy,val_loss,val_accuracy\n"
     ]
    },
    {
     "name": "stderr",
     "output_type": "stream",
     "text": [
      "2021-11-17 18:16:03,443 : WARNING : Early stopping conditioned on metric `val_acc` which is not available. Available metrics are: loss,accuracy,val_loss,val_accuracy\n"
     ]
    },
    {
     "name": "stdout",
     "output_type": "stream",
     "text": [
      "Epoch 2/100\n",
      "250/250 [==============================] - 6s 25ms/step - loss: 0.1600 - accuracy: 0.9428 - val_loss: 0.6160 - val_accuracy: 0.8165\n",
      "WARNING:tensorflow:Early stopping conditioned on metric `val_acc` which is not available. Available metrics are: loss,accuracy,val_loss,val_accuracy\n"
     ]
    },
    {
     "name": "stderr",
     "output_type": "stream",
     "text": [
      "2021-11-17 18:16:09,799 : WARNING : Early stopping conditioned on metric `val_acc` which is not available. Available metrics are: loss,accuracy,val_loss,val_accuracy\n"
     ]
    },
    {
     "name": "stdout",
     "output_type": "stream",
     "text": [
      "Epoch 3/100\n",
      "250/250 [==============================] - 7s 27ms/step - loss: 0.0883 - accuracy: 0.9695 - val_loss: 0.4853 - val_accuracy: 0.8487\n",
      "WARNING:tensorflow:Early stopping conditioned on metric `val_acc` which is not available. Available metrics are: loss,accuracy,val_loss,val_accuracy\n"
     ]
    },
    {
     "name": "stderr",
     "output_type": "stream",
     "text": [
      "2021-11-17 18:16:16,463 : WARNING : Early stopping conditioned on metric `val_acc` which is not available. Available metrics are: loss,accuracy,val_loss,val_accuracy\n"
     ]
    },
    {
     "name": "stdout",
     "output_type": "stream",
     "text": [
      "Epoch 4/100\n",
      "250/250 [==============================] - 6s 25ms/step - loss: 0.0553 - accuracy: 0.9831 - val_loss: 0.7144 - val_accuracy: 0.8386\n",
      "WARNING:tensorflow:Early stopping conditioned on metric `val_acc` which is not available. Available metrics are: loss,accuracy,val_loss,val_accuracy\n"
     ]
    },
    {
     "name": "stderr",
     "output_type": "stream",
     "text": [
      "2021-11-17 18:16:22,762 : WARNING : Early stopping conditioned on metric `val_acc` which is not available. Available metrics are: loss,accuracy,val_loss,val_accuracy\n"
     ]
    },
    {
     "name": "stdout",
     "output_type": "stream",
     "text": [
      "Epoch 5/100\n",
      "250/250 [==============================] - 6s 26ms/step - loss: 0.0371 - accuracy: 0.9888 - val_loss: 0.6390 - val_accuracy: 0.8526\n",
      "WARNING:tensorflow:Early stopping conditioned on metric `val_acc` which is not available. Available metrics are: loss,accuracy,val_loss,val_accuracy\n"
     ]
    },
    {
     "name": "stderr",
     "output_type": "stream",
     "text": [
      "2021-11-17 18:16:29,157 : WARNING : Early stopping conditioned on metric `val_acc` which is not available. Available metrics are: loss,accuracy,val_loss,val_accuracy\n"
     ]
    },
    {
     "name": "stdout",
     "output_type": "stream",
     "text": [
      "Epoch 6/100\n",
      "250/250 [==============================] - 7s 27ms/step - loss: 0.0358 - accuracy: 0.9893 - val_loss: 0.8255 - val_accuracy: 0.8428\n",
      "WARNING:tensorflow:Early stopping conditioned on metric `val_acc` which is not available. Available metrics are: loss,accuracy,val_loss,val_accuracy\n"
     ]
    },
    {
     "name": "stderr",
     "output_type": "stream",
     "text": [
      "2021-11-17 18:16:35,819 : WARNING : Early stopping conditioned on metric `val_acc` which is not available. Available metrics are: loss,accuracy,val_loss,val_accuracy\n"
     ]
    },
    {
     "name": "stdout",
     "output_type": "stream",
     "text": [
      "Epoch 7/100\n",
      "250/250 [==============================] - 7s 28ms/step - loss: 0.0298 - accuracy: 0.9909 - val_loss: 0.8760 - val_accuracy: 0.8376\n",
      "WARNING:tensorflow:Early stopping conditioned on metric `val_acc` which is not available. Available metrics are: loss,accuracy,val_loss,val_accuracy\n"
     ]
    },
    {
     "name": "stderr",
     "output_type": "stream",
     "text": [
      "2021-11-17 18:16:42,753 : WARNING : Early stopping conditioned on metric `val_acc` which is not available. Available metrics are: loss,accuracy,val_loss,val_accuracy\n"
     ]
    },
    {
     "name": "stdout",
     "output_type": "stream",
     "text": [
      "Epoch 8/100\n",
      "250/250 [==============================] - 7s 30ms/step - loss: 0.0360 - accuracy: 0.9881 - val_loss: 0.8464 - val_accuracy: 0.8364\n",
      "WARNING:tensorflow:Early stopping conditioned on metric `val_acc` which is not available. Available metrics are: loss,accuracy,val_loss,val_accuracy\n"
     ]
    },
    {
     "name": "stderr",
     "output_type": "stream",
     "text": [
      "2021-11-17 18:16:50,233 : WARNING : Early stopping conditioned on metric `val_acc` which is not available. Available metrics are: loss,accuracy,val_loss,val_accuracy\n"
     ]
    },
    {
     "name": "stdout",
     "output_type": "stream",
     "text": [
      "Epoch 9/100\n",
      "250/250 [==============================] - 7s 29ms/step - loss: 0.0276 - accuracy: 0.9917 - val_loss: 0.8510 - val_accuracy: 0.8482\n",
      "WARNING:tensorflow:Early stopping conditioned on metric `val_acc` which is not available. Available metrics are: loss,accuracy,val_loss,val_accuracy\n"
     ]
    },
    {
     "name": "stderr",
     "output_type": "stream",
     "text": [
      "2021-11-17 18:16:57,548 : WARNING : Early stopping conditioned on metric `val_acc` which is not available. Available metrics are: loss,accuracy,val_loss,val_accuracy\n"
     ]
    },
    {
     "name": "stdout",
     "output_type": "stream",
     "text": [
      "Epoch 10/100\n",
      "250/250 [==============================] - 7s 26ms/step - loss: 0.0212 - accuracy: 0.9927 - val_loss: 0.8695 - val_accuracy: 0.8470\n",
      "WARNING:tensorflow:Early stopping conditioned on metric `val_acc` which is not available. Available metrics are: loss,accuracy,val_loss,val_accuracy\n"
     ]
    },
    {
     "name": "stderr",
     "output_type": "stream",
     "text": [
      "2021-11-17 18:17:04,152 : WARNING : Early stopping conditioned on metric `val_acc` which is not available. Available metrics are: loss,accuracy,val_loss,val_accuracy\n"
     ]
    },
    {
     "name": "stdout",
     "output_type": "stream",
     "text": [
      "Epoch 11/100\n",
      "250/250 [==============================] - 6s 26ms/step - loss: 0.0170 - accuracy: 0.9950 - val_loss: 0.9828 - val_accuracy: 0.8479\n",
      "WARNING:tensorflow:Early stopping conditioned on metric `val_acc` which is not available. Available metrics are: loss,accuracy,val_loss,val_accuracy\n"
     ]
    },
    {
     "name": "stderr",
     "output_type": "stream",
     "text": [
      "2021-11-17 18:17:10,617 : WARNING : Early stopping conditioned on metric `val_acc` which is not available. Available metrics are: loss,accuracy,val_loss,val_accuracy\n"
     ]
    },
    {
     "name": "stdout",
     "output_type": "stream",
     "text": [
      "Epoch 12/100\n",
      "250/250 [==============================] - 7s 26ms/step - loss: 0.0151 - accuracy: 0.9951 - val_loss: 1.0128 - val_accuracy: 0.8475\n",
      "WARNING:tensorflow:Early stopping conditioned on metric `val_acc` which is not available. Available metrics are: loss,accuracy,val_loss,val_accuracy\n"
     ]
    },
    {
     "name": "stderr",
     "output_type": "stream",
     "text": [
      "2021-11-17 18:17:17,152 : WARNING : Early stopping conditioned on metric `val_acc` which is not available. Available metrics are: loss,accuracy,val_loss,val_accuracy\n"
     ]
    },
    {
     "name": "stdout",
     "output_type": "stream",
     "text": [
      "Epoch 13/100\n",
      "250/250 [==============================] - 7s 28ms/step - loss: 0.0182 - accuracy: 0.9941 - val_loss: 0.9346 - val_accuracy: 0.8480\n",
      "WARNING:tensorflow:Early stopping conditioned on metric `val_acc` which is not available. Available metrics are: loss,accuracy,val_loss,val_accuracy\n"
     ]
    },
    {
     "name": "stderr",
     "output_type": "stream",
     "text": [
      "2021-11-17 18:17:24,251 : WARNING : Early stopping conditioned on metric `val_acc` which is not available. Available metrics are: loss,accuracy,val_loss,val_accuracy\n"
     ]
    },
    {
     "name": "stdout",
     "output_type": "stream",
     "text": [
      "Epoch 14/100\n",
      "250/250 [==============================] - 7s 27ms/step - loss: 0.0192 - accuracy: 0.9937 - val_loss: 0.9909 - val_accuracy: 0.8490\n",
      "WARNING:tensorflow:Early stopping conditioned on metric `val_acc` which is not available. Available metrics are: loss,accuracy,val_loss,val_accuracy\n"
     ]
    },
    {
     "name": "stderr",
     "output_type": "stream",
     "text": [
      "2021-11-17 18:17:31,099 : WARNING : Early stopping conditioned on metric `val_acc` which is not available. Available metrics are: loss,accuracy,val_loss,val_accuracy\n"
     ]
    },
    {
     "name": "stdout",
     "output_type": "stream",
     "text": [
      "Epoch 15/100\n",
      "250/250 [==============================] - 7s 26ms/step - loss: 0.0270 - accuracy: 0.9911 - val_loss: 0.9169 - val_accuracy: 0.8482\n",
      "WARNING:tensorflow:Early stopping conditioned on metric `val_acc` which is not available. Available metrics are: loss,accuracy,val_loss,val_accuracy\n"
     ]
    },
    {
     "name": "stderr",
     "output_type": "stream",
     "text": [
      "2021-11-17 18:17:37,615 : WARNING : Early stopping conditioned on metric `val_acc` which is not available. Available metrics are: loss,accuracy,val_loss,val_accuracy\n"
     ]
    },
    {
     "name": "stdout",
     "output_type": "stream",
     "text": [
      "Epoch 16/100\n",
      "250/250 [==============================] - 6s 26ms/step - loss: 0.0191 - accuracy: 0.9938 - val_loss: 0.9728 - val_accuracy: 0.8459\n",
      "WARNING:tensorflow:Early stopping conditioned on metric `val_acc` which is not available. Available metrics are: loss,accuracy,val_loss,val_accuracy\n"
     ]
    },
    {
     "name": "stderr",
     "output_type": "stream",
     "text": [
      "2021-11-17 18:17:44,091 : WARNING : Early stopping conditioned on metric `val_acc` which is not available. Available metrics are: loss,accuracy,val_loss,val_accuracy\n"
     ]
    },
    {
     "name": "stdout",
     "output_type": "stream",
     "text": [
      "Epoch 17/100\n",
      "250/250 [==============================] - 6s 26ms/step - loss: 0.0129 - accuracy: 0.9958 - val_loss: 1.0812 - val_accuracy: 0.8501\n",
      "WARNING:tensorflow:Early stopping conditioned on metric `val_acc` which is not available. Available metrics are: loss,accuracy,val_loss,val_accuracy\n"
     ]
    },
    {
     "name": "stderr",
     "output_type": "stream",
     "text": [
      "2021-11-17 18:17:50,588 : WARNING : Early stopping conditioned on metric `val_acc` which is not available. Available metrics are: loss,accuracy,val_loss,val_accuracy\n"
     ]
    },
    {
     "name": "stdout",
     "output_type": "stream",
     "text": [
      "Epoch 18/100\n",
      "250/250 [==============================] - 7s 26ms/step - loss: 0.0107 - accuracy: 0.9965 - val_loss: 1.1119 - val_accuracy: 0.8478\n",
      "WARNING:tensorflow:Early stopping conditioned on metric `val_acc` which is not available. Available metrics are: loss,accuracy,val_loss,val_accuracy\n"
     ]
    },
    {
     "name": "stderr",
     "output_type": "stream",
     "text": [
      "2021-11-17 18:17:57,116 : WARNING : Early stopping conditioned on metric `val_acc` which is not available. Available metrics are: loss,accuracy,val_loss,val_accuracy\n"
     ]
    },
    {
     "name": "stdout",
     "output_type": "stream",
     "text": [
      "Epoch 19/100\n",
      "250/250 [==============================] - 7s 29ms/step - loss: 0.0092 - accuracy: 0.9969 - val_loss: 1.1444 - val_accuracy: 0.8560\n",
      "WARNING:tensorflow:Early stopping conditioned on metric `val_acc` which is not available. Available metrics are: loss,accuracy,val_loss,val_accuracy\n"
     ]
    },
    {
     "name": "stderr",
     "output_type": "stream",
     "text": [
      "2021-11-17 18:18:04,243 : WARNING : Early stopping conditioned on metric `val_acc` which is not available. Available metrics are: loss,accuracy,val_loss,val_accuracy\n"
     ]
    },
    {
     "name": "stdout",
     "output_type": "stream",
     "text": [
      "Epoch 20/100\n",
      "250/250 [==============================] - 7s 29ms/step - loss: 0.0057 - accuracy: 0.9977 - val_loss: 1.1227 - val_accuracy: 0.8533\n",
      "WARNING:tensorflow:Early stopping conditioned on metric `val_acc` which is not available. Available metrics are: loss,accuracy,val_loss,val_accuracy\n"
     ]
    },
    {
     "name": "stderr",
     "output_type": "stream",
     "text": [
      "2021-11-17 18:18:11,578 : WARNING : Early stopping conditioned on metric `val_acc` which is not available. Available metrics are: loss,accuracy,val_loss,val_accuracy\n"
     ]
    },
    {
     "name": "stdout",
     "output_type": "stream",
     "text": [
      "Epoch 21/100\n",
      "250/250 [==============================] - 7s 29ms/step - loss: 0.0043 - accuracy: 0.9987 - val_loss: 1.2121 - val_accuracy: 0.8533\n",
      "WARNING:tensorflow:Early stopping conditioned on metric `val_acc` which is not available. Available metrics are: loss,accuracy,val_loss,val_accuracy\n"
     ]
    },
    {
     "name": "stderr",
     "output_type": "stream",
     "text": [
      "2021-11-17 18:18:18,729 : WARNING : Early stopping conditioned on metric `val_acc` which is not available. Available metrics are: loss,accuracy,val_loss,val_accuracy\n"
     ]
    },
    {
     "name": "stdout",
     "output_type": "stream",
     "text": [
      "Epoch 22/100\n",
      "250/250 [==============================] - 7s 27ms/step - loss: 0.0098 - accuracy: 0.9968 - val_loss: 1.1827 - val_accuracy: 0.8304\n",
      "WARNING:tensorflow:Early stopping conditioned on metric `val_acc` which is not available. Available metrics are: loss,accuracy,val_loss,val_accuracy\n"
     ]
    },
    {
     "name": "stderr",
     "output_type": "stream",
     "text": [
      "2021-11-17 18:18:25,573 : WARNING : Early stopping conditioned on metric `val_acc` which is not available. Available metrics are: loss,accuracy,val_loss,val_accuracy\n"
     ]
    },
    {
     "name": "stdout",
     "output_type": "stream",
     "text": [
      "Epoch 23/100\n",
      "250/250 [==============================] - 7s 29ms/step - loss: 0.0251 - accuracy: 0.9924 - val_loss: 1.2651 - val_accuracy: 0.8384\n",
      "WARNING:tensorflow:Early stopping conditioned on metric `val_acc` which is not available. Available metrics are: loss,accuracy,val_loss,val_accuracy\n"
     ]
    },
    {
     "name": "stderr",
     "output_type": "stream",
     "text": [
      "2021-11-17 18:18:32,710 : WARNING : Early stopping conditioned on metric `val_acc` which is not available. Available metrics are: loss,accuracy,val_loss,val_accuracy\n"
     ]
    },
    {
     "name": "stdout",
     "output_type": "stream",
     "text": [
      "Epoch 24/100\n",
      "250/250 [==============================] - 7s 28ms/step - loss: 0.0207 - accuracy: 0.9931 - val_loss: 1.1298 - val_accuracy: 0.8319\n",
      "WARNING:tensorflow:Early stopping conditioned on metric `val_acc` which is not available. Available metrics are: loss,accuracy,val_loss,val_accuracy\n"
     ]
    },
    {
     "name": "stderr",
     "output_type": "stream",
     "text": [
      "2021-11-17 18:18:39,685 : WARNING : Early stopping conditioned on metric `val_acc` which is not available. Available metrics are: loss,accuracy,val_loss,val_accuracy\n"
     ]
    },
    {
     "name": "stdout",
     "output_type": "stream",
     "text": [
      "Epoch 25/100\n",
      "250/250 [==============================] - 7s 28ms/step - loss: 0.0134 - accuracy: 0.9954 - val_loss: 1.0614 - val_accuracy: 0.8446\n",
      "WARNING:tensorflow:Early stopping conditioned on metric `val_acc` which is not available. Available metrics are: loss,accuracy,val_loss,val_accuracy\n"
     ]
    },
    {
     "name": "stderr",
     "output_type": "stream",
     "text": [
      "2021-11-17 18:18:46,741 : WARNING : Early stopping conditioned on metric `val_acc` which is not available. Available metrics are: loss,accuracy,val_loss,val_accuracy\n"
     ]
    },
    {
     "name": "stdout",
     "output_type": "stream",
     "text": [
      "Epoch 26/100\n",
      "250/250 [==============================] - 7s 27ms/step - loss: 0.0089 - accuracy: 0.9969 - val_loss: 1.2676 - val_accuracy: 0.8462\n",
      "WARNING:tensorflow:Early stopping conditioned on metric `val_acc` which is not available. Available metrics are: loss,accuracy,val_loss,val_accuracy\n"
     ]
    },
    {
     "name": "stderr",
     "output_type": "stream",
     "text": [
      "2021-11-17 18:18:53,568 : WARNING : Early stopping conditioned on metric `val_acc` which is not available. Available metrics are: loss,accuracy,val_loss,val_accuracy\n"
     ]
    },
    {
     "name": "stdout",
     "output_type": "stream",
     "text": [
      "Epoch 27/100\n",
      "250/250 [==============================] - 7s 28ms/step - loss: 0.0072 - accuracy: 0.9972 - val_loss: 1.1887 - val_accuracy: 0.8520\n",
      "WARNING:tensorflow:Early stopping conditioned on metric `val_acc` which is not available. Available metrics are: loss,accuracy,val_loss,val_accuracy\n"
     ]
    },
    {
     "name": "stderr",
     "output_type": "stream",
     "text": [
      "2021-11-17 18:19:00,679 : WARNING : Early stopping conditioned on metric `val_acc` which is not available. Available metrics are: loss,accuracy,val_loss,val_accuracy\n"
     ]
    },
    {
     "name": "stdout",
     "output_type": "stream",
     "text": [
      "Epoch 28/100\n",
      "250/250 [==============================] - 7s 29ms/step - loss: 0.0085 - accuracy: 0.9975 - val_loss: 1.2515 - val_accuracy: 0.8447\n",
      "WARNING:tensorflow:Early stopping conditioned on metric `val_acc` which is not available. Available metrics are: loss,accuracy,val_loss,val_accuracy\n"
     ]
    },
    {
     "name": "stderr",
     "output_type": "stream",
     "text": [
      "2021-11-17 18:19:07,958 : WARNING : Early stopping conditioned on metric `val_acc` which is not available. Available metrics are: loss,accuracy,val_loss,val_accuracy\n"
     ]
    },
    {
     "name": "stdout",
     "output_type": "stream",
     "text": [
      "Epoch 29/100\n",
      "250/250 [==============================] - 7s 28ms/step - loss: 0.0069 - accuracy: 0.9976 - val_loss: 1.2833 - val_accuracy: 0.8495\n",
      "WARNING:tensorflow:Early stopping conditioned on metric `val_acc` which is not available. Available metrics are: loss,accuracy,val_loss,val_accuracy\n"
     ]
    },
    {
     "name": "stderr",
     "output_type": "stream",
     "text": [
      "2021-11-17 18:19:15,021 : WARNING : Early stopping conditioned on metric `val_acc` which is not available. Available metrics are: loss,accuracy,val_loss,val_accuracy\n"
     ]
    },
    {
     "name": "stdout",
     "output_type": "stream",
     "text": [
      "Epoch 30/100\n",
      "250/250 [==============================] - 7s 29ms/step - loss: 0.0073 - accuracy: 0.9974 - val_loss: 1.2574 - val_accuracy: 0.8457\n",
      "WARNING:tensorflow:Early stopping conditioned on metric `val_acc` which is not available. Available metrics are: loss,accuracy,val_loss,val_accuracy\n"
     ]
    },
    {
     "name": "stderr",
     "output_type": "stream",
     "text": [
      "2021-11-17 18:19:22,153 : WARNING : Early stopping conditioned on metric `val_acc` which is not available. Available metrics are: loss,accuracy,val_loss,val_accuracy\n"
     ]
    },
    {
     "name": "stdout",
     "output_type": "stream",
     "text": [
      "Epoch 31/100\n",
      "250/250 [==============================] - 7s 29ms/step - loss: 0.0087 - accuracy: 0.9967 - val_loss: 1.2736 - val_accuracy: 0.8484\n",
      "WARNING:tensorflow:Early stopping conditioned on metric `val_acc` which is not available. Available metrics are: loss,accuracy,val_loss,val_accuracy\n"
     ]
    },
    {
     "name": "stderr",
     "output_type": "stream",
     "text": [
      "2021-11-17 18:19:29,351 : WARNING : Early stopping conditioned on metric `val_acc` which is not available. Available metrics are: loss,accuracy,val_loss,val_accuracy\n"
     ]
    },
    {
     "name": "stdout",
     "output_type": "stream",
     "text": [
      "Epoch 32/100\n",
      "250/250 [==============================] - 7s 29ms/step - loss: 0.0080 - accuracy: 0.9976 - val_loss: 1.3905 - val_accuracy: 0.8411\n",
      "WARNING:tensorflow:Early stopping conditioned on metric `val_acc` which is not available. Available metrics are: loss,accuracy,val_loss,val_accuracy\n"
     ]
    },
    {
     "name": "stderr",
     "output_type": "stream",
     "text": [
      "2021-11-17 18:19:36,500 : WARNING : Early stopping conditioned on metric `val_acc` which is not available. Available metrics are: loss,accuracy,val_loss,val_accuracy\n"
     ]
    },
    {
     "name": "stdout",
     "output_type": "stream",
     "text": [
      "Epoch 33/100\n",
      "250/250 [==============================] - 7s 29ms/step - loss: 0.0107 - accuracy: 0.9967 - val_loss: 1.2931 - val_accuracy: 0.8397\n",
      "WARNING:tensorflow:Early stopping conditioned on metric `val_acc` which is not available. Available metrics are: loss,accuracy,val_loss,val_accuracy\n"
     ]
    },
    {
     "name": "stderr",
     "output_type": "stream",
     "text": [
      "2021-11-17 18:19:43,670 : WARNING : Early stopping conditioned on metric `val_acc` which is not available. Available metrics are: loss,accuracy,val_loss,val_accuracy\n"
     ]
    },
    {
     "name": "stdout",
     "output_type": "stream",
     "text": [
      "Epoch 34/100\n",
      "250/250 [==============================] - 7s 29ms/step - loss: 0.0143 - accuracy: 0.9950 - val_loss: 1.3416 - val_accuracy: 0.8390\n",
      "WARNING:tensorflow:Early stopping conditioned on metric `val_acc` which is not available. Available metrics are: loss,accuracy,val_loss,val_accuracy\n"
     ]
    },
    {
     "name": "stderr",
     "output_type": "stream",
     "text": [
      "2021-11-17 18:19:50,847 : WARNING : Early stopping conditioned on metric `val_acc` which is not available. Available metrics are: loss,accuracy,val_loss,val_accuracy\n"
     ]
    },
    {
     "name": "stdout",
     "output_type": "stream",
     "text": [
      "Epoch 35/100\n",
      "250/250 [==============================] - 7s 29ms/step - loss: 0.0144 - accuracy: 0.9949 - val_loss: 1.2744 - val_accuracy: 0.8456\n",
      "WARNING:tensorflow:Early stopping conditioned on metric `val_acc` which is not available. Available metrics are: loss,accuracy,val_loss,val_accuracy\n"
     ]
    },
    {
     "name": "stderr",
     "output_type": "stream",
     "text": [
      "2021-11-17 18:19:58,086 : WARNING : Early stopping conditioned on metric `val_acc` which is not available. Available metrics are: loss,accuracy,val_loss,val_accuracy\n"
     ]
    },
    {
     "name": "stdout",
     "output_type": "stream",
     "text": [
      "Epoch 36/100\n",
      "250/250 [==============================] - 7s 30ms/step - loss: 0.0087 - accuracy: 0.9971 - val_loss: 1.2877 - val_accuracy: 0.8501\n",
      "WARNING:tensorflow:Early stopping conditioned on metric `val_acc` which is not available. Available metrics are: loss,accuracy,val_loss,val_accuracy\n"
     ]
    },
    {
     "name": "stderr",
     "output_type": "stream",
     "text": [
      "2021-11-17 18:20:05,465 : WARNING : Early stopping conditioned on metric `val_acc` which is not available. Available metrics are: loss,accuracy,val_loss,val_accuracy\n"
     ]
    },
    {
     "name": "stdout",
     "output_type": "stream",
     "text": [
      "Epoch 37/100\n",
      "250/250 [==============================] - 8s 31ms/step - loss: 0.0065 - accuracy: 0.9978 - val_loss: 1.3215 - val_accuracy: 0.8499\n",
      "WARNING:tensorflow:Early stopping conditioned on metric `val_acc` which is not available. Available metrics are: loss,accuracy,val_loss,val_accuracy\n"
     ]
    },
    {
     "name": "stderr",
     "output_type": "stream",
     "text": [
      "2021-11-17 18:20:13,102 : WARNING : Early stopping conditioned on metric `val_acc` which is not available. Available metrics are: loss,accuracy,val_loss,val_accuracy\n"
     ]
    },
    {
     "name": "stdout",
     "output_type": "stream",
     "text": [
      "Epoch 38/100\n",
      "250/250 [==============================] - 7s 29ms/step - loss: 0.0058 - accuracy: 0.9979 - val_loss: 1.3055 - val_accuracy: 0.8522\n",
      "WARNING:tensorflow:Early stopping conditioned on metric `val_acc` which is not available. Available metrics are: loss,accuracy,val_loss,val_accuracy\n"
     ]
    },
    {
     "name": "stderr",
     "output_type": "stream",
     "text": [
      "2021-11-17 18:20:20,306 : WARNING : Early stopping conditioned on metric `val_acc` which is not available. Available metrics are: loss,accuracy,val_loss,val_accuracy\n"
     ]
    },
    {
     "name": "stdout",
     "output_type": "stream",
     "text": [
      "Epoch 39/100\n",
      "250/250 [==============================] - 7s 29ms/step - loss: 0.0037 - accuracy: 0.9986 - val_loss: 1.3481 - val_accuracy: 0.8535\n",
      "WARNING:tensorflow:Early stopping conditioned on metric `val_acc` which is not available. Available metrics are: loss,accuracy,val_loss,val_accuracy\n"
     ]
    },
    {
     "name": "stderr",
     "output_type": "stream",
     "text": [
      "2021-11-17 18:20:27,599 : WARNING : Early stopping conditioned on metric `val_acc` which is not available. Available metrics are: loss,accuracy,val_loss,val_accuracy\n"
     ]
    },
    {
     "name": "stdout",
     "output_type": "stream",
     "text": [
      "Epoch 40/100\n",
      "250/250 [==============================] - 8s 32ms/step - loss: 0.0028 - accuracy: 0.9990 - val_loss: 1.3518 - val_accuracy: 0.8535\n",
      "WARNING:tensorflow:Early stopping conditioned on metric `val_acc` which is not available. Available metrics are: loss,accuracy,val_loss,val_accuracy\n"
     ]
    },
    {
     "name": "stderr",
     "output_type": "stream",
     "text": [
      "2021-11-17 18:20:35,687 : WARNING : Early stopping conditioned on metric `val_acc` which is not available. Available metrics are: loss,accuracy,val_loss,val_accuracy\n"
     ]
    },
    {
     "name": "stdout",
     "output_type": "stream",
     "text": [
      "Epoch 41/100\n",
      "250/250 [==============================] - 7s 27ms/step - loss: 0.0030 - accuracy: 0.9989 - val_loss: 1.3623 - val_accuracy: 0.8556\n",
      "WARNING:tensorflow:Early stopping conditioned on metric `val_acc` which is not available. Available metrics are: loss,accuracy,val_loss,val_accuracy\n"
     ]
    },
    {
     "name": "stderr",
     "output_type": "stream",
     "text": [
      "2021-11-17 18:20:42,399 : WARNING : Early stopping conditioned on metric `val_acc` which is not available. Available metrics are: loss,accuracy,val_loss,val_accuracy\n"
     ]
    },
    {
     "name": "stdout",
     "output_type": "stream",
     "text": [
      "Epoch 42/100\n",
      "250/250 [==============================] - 7s 26ms/step - loss: 0.0040 - accuracy: 0.9988 - val_loss: 1.3621 - val_accuracy: 0.8519\n",
      "WARNING:tensorflow:Early stopping conditioned on metric `val_acc` which is not available. Available metrics are: loss,accuracy,val_loss,val_accuracy\n"
     ]
    },
    {
     "name": "stderr",
     "output_type": "stream",
     "text": [
      "2021-11-17 18:20:49,001 : WARNING : Early stopping conditioned on metric `val_acc` which is not available. Available metrics are: loss,accuracy,val_loss,val_accuracy\n"
     ]
    },
    {
     "name": "stdout",
     "output_type": "stream",
     "text": [
      "Epoch 43/100\n",
      "250/250 [==============================] - 7s 26ms/step - loss: 0.0161 - accuracy: 0.9954 - val_loss: 1.2659 - val_accuracy: 0.8345\n",
      "WARNING:tensorflow:Early stopping conditioned on metric `val_acc` which is not available. Available metrics are: loss,accuracy,val_loss,val_accuracy\n"
     ]
    },
    {
     "name": "stderr",
     "output_type": "stream",
     "text": [
      "2021-11-17 18:20:55,584 : WARNING : Early stopping conditioned on metric `val_acc` which is not available. Available metrics are: loss,accuracy,val_loss,val_accuracy\n"
     ]
    },
    {
     "name": "stdout",
     "output_type": "stream",
     "text": [
      "Epoch 44/100\n",
      "250/250 [==============================] - 7s 26ms/step - loss: 0.0182 - accuracy: 0.9942 - val_loss: 1.2508 - val_accuracy: 0.8472\n",
      "WARNING:tensorflow:Early stopping conditioned on metric `val_acc` which is not available. Available metrics are: loss,accuracy,val_loss,val_accuracy\n"
     ]
    },
    {
     "name": "stderr",
     "output_type": "stream",
     "text": [
      "2021-11-17 18:21:02,176 : WARNING : Early stopping conditioned on metric `val_acc` which is not available. Available metrics are: loss,accuracy,val_loss,val_accuracy\n"
     ]
    },
    {
     "name": "stdout",
     "output_type": "stream",
     "text": [
      "Epoch 45/100\n",
      "250/250 [==============================] - 7s 29ms/step - loss: 0.0108 - accuracy: 0.9965 - val_loss: 1.2380 - val_accuracy: 0.8500\n",
      "WARNING:tensorflow:Early stopping conditioned on metric `val_acc` which is not available. Available metrics are: loss,accuracy,val_loss,val_accuracy\n"
     ]
    },
    {
     "name": "stderr",
     "output_type": "stream",
     "text": [
      "2021-11-17 18:21:09,352 : WARNING : Early stopping conditioned on metric `val_acc` which is not available. Available metrics are: loss,accuracy,val_loss,val_accuracy\n"
     ]
    },
    {
     "name": "stdout",
     "output_type": "stream",
     "text": [
      "Epoch 46/100\n",
      "250/250 [==============================] - 7s 28ms/step - loss: 0.0052 - accuracy: 0.9979 - val_loss: 1.2950 - val_accuracy: 0.8484\n",
      "WARNING:tensorflow:Early stopping conditioned on metric `val_acc` which is not available. Available metrics are: loss,accuracy,val_loss,val_accuracy\n"
     ]
    },
    {
     "name": "stderr",
     "output_type": "stream",
     "text": [
      "2021-11-17 18:21:16,418 : WARNING : Early stopping conditioned on metric `val_acc` which is not available. Available metrics are: loss,accuracy,val_loss,val_accuracy\n"
     ]
    },
    {
     "name": "stdout",
     "output_type": "stream",
     "text": [
      "Epoch 47/100\n",
      "250/250 [==============================] - 8s 31ms/step - loss: 0.0040 - accuracy: 0.9983 - val_loss: 1.3385 - val_accuracy: 0.8535\n",
      "WARNING:tensorflow:Early stopping conditioned on metric `val_acc` which is not available. Available metrics are: loss,accuracy,val_loss,val_accuracy\n"
     ]
    },
    {
     "name": "stderr",
     "output_type": "stream",
     "text": [
      "2021-11-17 18:21:24,122 : WARNING : Early stopping conditioned on metric `val_acc` which is not available. Available metrics are: loss,accuracy,val_loss,val_accuracy\n"
     ]
    },
    {
     "name": "stdout",
     "output_type": "stream",
     "text": [
      "Epoch 48/100\n",
      "250/250 [==============================] - 7s 27ms/step - loss: 0.0031 - accuracy: 0.9986 - val_loss: 1.3741 - val_accuracy: 0.8515\n",
      "WARNING:tensorflow:Early stopping conditioned on metric `val_acc` which is not available. Available metrics are: loss,accuracy,val_loss,val_accuracy\n"
     ]
    },
    {
     "name": "stderr",
     "output_type": "stream",
     "text": [
      "2021-11-17 18:21:30,932 : WARNING : Early stopping conditioned on metric `val_acc` which is not available. Available metrics are: loss,accuracy,val_loss,val_accuracy\n"
     ]
    },
    {
     "name": "stdout",
     "output_type": "stream",
     "text": [
      "Epoch 49/100\n",
      "250/250 [==============================] - 7s 27ms/step - loss: 0.0025 - accuracy: 0.9991 - val_loss: 1.3320 - val_accuracy: 0.8522\n",
      "WARNING:tensorflow:Early stopping conditioned on metric `val_acc` which is not available. Available metrics are: loss,accuracy,val_loss,val_accuracy\n"
     ]
    },
    {
     "name": "stderr",
     "output_type": "stream",
     "text": [
      "2021-11-17 18:21:37,594 : WARNING : Early stopping conditioned on metric `val_acc` which is not available. Available metrics are: loss,accuracy,val_loss,val_accuracy\n"
     ]
    },
    {
     "name": "stdout",
     "output_type": "stream",
     "text": [
      "Epoch 50/100\n",
      "250/250 [==============================] - 7s 26ms/step - loss: 0.0029 - accuracy: 0.9992 - val_loss: 1.3568 - val_accuracy: 0.8519\n",
      "WARNING:tensorflow:Early stopping conditioned on metric `val_acc` which is not available. Available metrics are: loss,accuracy,val_loss,val_accuracy\n"
     ]
    },
    {
     "name": "stderr",
     "output_type": "stream",
     "text": [
      "2021-11-17 18:21:44,208 : WARNING : Early stopping conditioned on metric `val_acc` which is not available. Available metrics are: loss,accuracy,val_loss,val_accuracy\n"
     ]
    },
    {
     "name": "stdout",
     "output_type": "stream",
     "text": [
      "Epoch 51/100\n",
      "250/250 [==============================] - 7s 26ms/step - loss: 0.0045 - accuracy: 0.9986 - val_loss: 1.4248 - val_accuracy: 0.8537\n",
      "WARNING:tensorflow:Early stopping conditioned on metric `val_acc` which is not available. Available metrics are: loss,accuracy,val_loss,val_accuracy\n"
     ]
    },
    {
     "name": "stderr",
     "output_type": "stream",
     "text": [
      "2021-11-17 18:21:50,804 : WARNING : Early stopping conditioned on metric `val_acc` which is not available. Available metrics are: loss,accuracy,val_loss,val_accuracy\n"
     ]
    },
    {
     "name": "stdout",
     "output_type": "stream",
     "text": [
      "Epoch 52/100\n",
      "250/250 [==============================] - 7s 28ms/step - loss: 0.0040 - accuracy: 0.9988 - val_loss: 1.5542 - val_accuracy: 0.8484\n",
      "WARNING:tensorflow:Early stopping conditioned on metric `val_acc` which is not available. Available metrics are: loss,accuracy,val_loss,val_accuracy\n"
     ]
    },
    {
     "name": "stderr",
     "output_type": "stream",
     "text": [
      "2021-11-17 18:21:57,910 : WARNING : Early stopping conditioned on metric `val_acc` which is not available. Available metrics are: loss,accuracy,val_loss,val_accuracy\n"
     ]
    },
    {
     "name": "stdout",
     "output_type": "stream",
     "text": [
      "Epoch 53/100\n",
      "250/250 [==============================] - 8s 32ms/step - loss: 0.0090 - accuracy: 0.9977 - val_loss: 1.4492 - val_accuracy: 0.8493\n",
      "WARNING:tensorflow:Early stopping conditioned on metric `val_acc` which is not available. Available metrics are: loss,accuracy,val_loss,val_accuracy\n"
     ]
    },
    {
     "name": "stderr",
     "output_type": "stream",
     "text": [
      "2021-11-17 18:22:06,003 : WARNING : Early stopping conditioned on metric `val_acc` which is not available. Available metrics are: loss,accuracy,val_loss,val_accuracy\n"
     ]
    },
    {
     "name": "stdout",
     "output_type": "stream",
     "text": [
      "Epoch 54/100\n",
      "250/250 [==============================] - 8s 32ms/step - loss: 0.0080 - accuracy: 0.9978 - val_loss: 1.3655 - val_accuracy: 0.8445\n",
      "WARNING:tensorflow:Early stopping conditioned on metric `val_acc` which is not available. Available metrics are: loss,accuracy,val_loss,val_accuracy\n"
     ]
    },
    {
     "name": "stderr",
     "output_type": "stream",
     "text": [
      "2021-11-17 18:22:14,008 : WARNING : Early stopping conditioned on metric `val_acc` which is not available. Available metrics are: loss,accuracy,val_loss,val_accuracy\n"
     ]
    },
    {
     "name": "stdout",
     "output_type": "stream",
     "text": [
      "Epoch 55/100\n",
      "250/250 [==============================] - 8s 31ms/step - loss: 0.0108 - accuracy: 0.9966 - val_loss: 1.4546 - val_accuracy: 0.8456\n",
      "WARNING:tensorflow:Early stopping conditioned on metric `val_acc` which is not available. Available metrics are: loss,accuracy,val_loss,val_accuracy\n"
     ]
    },
    {
     "name": "stderr",
     "output_type": "stream",
     "text": [
      "2021-11-17 18:22:21,738 : WARNING : Early stopping conditioned on metric `val_acc` which is not available. Available metrics are: loss,accuracy,val_loss,val_accuracy\n"
     ]
    },
    {
     "name": "stdout",
     "output_type": "stream",
     "text": [
      "Epoch 56/100\n",
      "250/250 [==============================] - 7s 29ms/step - loss: 0.0100 - accuracy: 0.9972 - val_loss: 1.4345 - val_accuracy: 0.8506\n",
      "WARNING:tensorflow:Early stopping conditioned on metric `val_acc` which is not available. Available metrics are: loss,accuracy,val_loss,val_accuracy\n"
     ]
    },
    {
     "name": "stderr",
     "output_type": "stream",
     "text": [
      "2021-11-17 18:22:28,896 : WARNING : Early stopping conditioned on metric `val_acc` which is not available. Available metrics are: loss,accuracy,val_loss,val_accuracy\n"
     ]
    },
    {
     "name": "stdout",
     "output_type": "stream",
     "text": [
      "Epoch 57/100\n",
      "250/250 [==============================] - 7s 27ms/step - loss: 0.0041 - accuracy: 0.9984 - val_loss: 1.4248 - val_accuracy: 0.8530\n",
      "WARNING:tensorflow:Early stopping conditioned on metric `val_acc` which is not available. Available metrics are: loss,accuracy,val_loss,val_accuracy\n"
     ]
    },
    {
     "name": "stderr",
     "output_type": "stream",
     "text": [
      "2021-11-17 18:22:35,622 : WARNING : Early stopping conditioned on metric `val_acc` which is not available. Available metrics are: loss,accuracy,val_loss,val_accuracy\n"
     ]
    },
    {
     "name": "stdout",
     "output_type": "stream",
     "text": [
      "Epoch 58/100\n",
      "250/250 [==============================] - 7s 29ms/step - loss: 0.0049 - accuracy: 0.9984 - val_loss: 1.3606 - val_accuracy: 0.8489\n",
      "WARNING:tensorflow:Early stopping conditioned on metric `val_acc` which is not available. Available metrics are: loss,accuracy,val_loss,val_accuracy\n"
     ]
    },
    {
     "name": "stderr",
     "output_type": "stream",
     "text": [
      "2021-11-17 18:22:42,982 : WARNING : Early stopping conditioned on metric `val_acc` which is not available. Available metrics are: loss,accuracy,val_loss,val_accuracy\n"
     ]
    },
    {
     "name": "stdout",
     "output_type": "stream",
     "text": [
      "Epoch 59/100\n",
      "250/250 [==============================] - 7s 27ms/step - loss: 0.0031 - accuracy: 0.9987 - val_loss: 1.4025 - val_accuracy: 0.8481\n",
      "WARNING:tensorflow:Early stopping conditioned on metric `val_acc` which is not available. Available metrics are: loss,accuracy,val_loss,val_accuracy\n"
     ]
    },
    {
     "name": "stderr",
     "output_type": "stream",
     "text": [
      "2021-11-17 18:22:49,767 : WARNING : Early stopping conditioned on metric `val_acc` which is not available. Available metrics are: loss,accuracy,val_loss,val_accuracy\n"
     ]
    },
    {
     "name": "stdout",
     "output_type": "stream",
     "text": [
      "Epoch 60/100\n",
      "250/250 [==============================] - 7s 27ms/step - loss: 0.0058 - accuracy: 0.9986 - val_loss: 1.4149 - val_accuracy: 0.8426\n",
      "WARNING:tensorflow:Early stopping conditioned on metric `val_acc` which is not available. Available metrics are: loss,accuracy,val_loss,val_accuracy\n"
     ]
    },
    {
     "name": "stderr",
     "output_type": "stream",
     "text": [
      "2021-11-17 18:22:56,409 : WARNING : Early stopping conditioned on metric `val_acc` which is not available. Available metrics are: loss,accuracy,val_loss,val_accuracy\n"
     ]
    },
    {
     "name": "stdout",
     "output_type": "stream",
     "text": [
      "Epoch 61/100\n",
      "250/250 [==============================] - 7s 27ms/step - loss: 0.0061 - accuracy: 0.9984 - val_loss: 1.4850 - val_accuracy: 0.8528\n",
      "WARNING:tensorflow:Early stopping conditioned on metric `val_acc` which is not available. Available metrics are: loss,accuracy,val_loss,val_accuracy\n"
     ]
    },
    {
     "name": "stderr",
     "output_type": "stream",
     "text": [
      "2021-11-17 18:23:03,041 : WARNING : Early stopping conditioned on metric `val_acc` which is not available. Available metrics are: loss,accuracy,val_loss,val_accuracy\n"
     ]
    },
    {
     "name": "stdout",
     "output_type": "stream",
     "text": [
      "Epoch 62/100\n",
      "250/250 [==============================] - 7s 27ms/step - loss: 0.0038 - accuracy: 0.9987 - val_loss: 1.4184 - val_accuracy: 0.8540\n",
      "WARNING:tensorflow:Early stopping conditioned on metric `val_acc` which is not available. Available metrics are: loss,accuracy,val_loss,val_accuracy\n"
     ]
    },
    {
     "name": "stderr",
     "output_type": "stream",
     "text": [
      "2021-11-17 18:23:09,694 : WARNING : Early stopping conditioned on metric `val_acc` which is not available. Available metrics are: loss,accuracy,val_loss,val_accuracy\n"
     ]
    },
    {
     "name": "stdout",
     "output_type": "stream",
     "text": [
      "Epoch 63/100\n",
      "250/250 [==============================] - 7s 27ms/step - loss: 0.0022 - accuracy: 0.9990 - val_loss: 1.4798 - val_accuracy: 0.8484\n",
      "WARNING:tensorflow:Early stopping conditioned on metric `val_acc` which is not available. Available metrics are: loss,accuracy,val_loss,val_accuracy\n"
     ]
    },
    {
     "name": "stderr",
     "output_type": "stream",
     "text": [
      "2021-11-17 18:23:16,346 : WARNING : Early stopping conditioned on metric `val_acc` which is not available. Available metrics are: loss,accuracy,val_loss,val_accuracy\n"
     ]
    },
    {
     "name": "stdout",
     "output_type": "stream",
     "text": [
      "Epoch 64/100\n",
      "250/250 [==============================] - 8s 34ms/step - loss: 0.0049 - accuracy: 0.9980 - val_loss: 1.4873 - val_accuracy: 0.8533\n",
      "WARNING:tensorflow:Early stopping conditioned on metric `val_acc` which is not available. Available metrics are: loss,accuracy,val_loss,val_accuracy\n"
     ]
    },
    {
     "name": "stderr",
     "output_type": "stream",
     "text": [
      "2021-11-17 18:23:24,764 : WARNING : Early stopping conditioned on metric `val_acc` which is not available. Available metrics are: loss,accuracy,val_loss,val_accuracy\n"
     ]
    },
    {
     "name": "stdout",
     "output_type": "stream",
     "text": [
      "Epoch 65/100\n",
      "250/250 [==============================] - 8s 31ms/step - loss: 0.0081 - accuracy: 0.9978 - val_loss: 1.4750 - val_accuracy: 0.8515\n",
      "WARNING:tensorflow:Early stopping conditioned on metric `val_acc` which is not available. Available metrics are: loss,accuracy,val_loss,val_accuracy\n"
     ]
    },
    {
     "name": "stderr",
     "output_type": "stream",
     "text": [
      "2021-11-17 18:23:32,589 : WARNING : Early stopping conditioned on metric `val_acc` which is not available. Available metrics are: loss,accuracy,val_loss,val_accuracy\n"
     ]
    },
    {
     "name": "stdout",
     "output_type": "stream",
     "text": [
      "Epoch 66/100\n",
      "250/250 [==============================] - 8s 31ms/step - loss: 0.0051 - accuracy: 0.9981 - val_loss: 1.6958 - val_accuracy: 0.8457\n",
      "WARNING:tensorflow:Early stopping conditioned on metric `val_acc` which is not available. Available metrics are: loss,accuracy,val_loss,val_accuracy\n"
     ]
    },
    {
     "name": "stderr",
     "output_type": "stream",
     "text": [
      "2021-11-17 18:23:40,293 : WARNING : Early stopping conditioned on metric `val_acc` which is not available. Available metrics are: loss,accuracy,val_loss,val_accuracy\n"
     ]
    },
    {
     "name": "stdout",
     "output_type": "stream",
     "text": [
      "Epoch 67/100\n",
      "250/250 [==============================] - 7s 29ms/step - loss: 0.0072 - accuracy: 0.9977 - val_loss: 1.5083 - val_accuracy: 0.8485\n",
      "WARNING:tensorflow:Early stopping conditioned on metric `val_acc` which is not available. Available metrics are: loss,accuracy,val_loss,val_accuracy\n"
     ]
    },
    {
     "name": "stderr",
     "output_type": "stream",
     "text": [
      "2021-11-17 18:23:47,489 : WARNING : Early stopping conditioned on metric `val_acc` which is not available. Available metrics are: loss,accuracy,val_loss,val_accuracy\n"
     ]
    },
    {
     "name": "stdout",
     "output_type": "stream",
     "text": [
      "Epoch 68/100\n",
      "250/250 [==============================] - 7s 29ms/step - loss: 0.0045 - accuracy: 0.9984 - val_loss: 1.4931 - val_accuracy: 0.8493\n",
      "WARNING:tensorflow:Early stopping conditioned on metric `val_acc` which is not available. Available metrics are: loss,accuracy,val_loss,val_accuracy\n"
     ]
    },
    {
     "name": "stderr",
     "output_type": "stream",
     "text": [
      "2021-11-17 18:23:54,645 : WARNING : Early stopping conditioned on metric `val_acc` which is not available. Available metrics are: loss,accuracy,val_loss,val_accuracy\n"
     ]
    },
    {
     "name": "stdout",
     "output_type": "stream",
     "text": [
      "Epoch 69/100\n",
      "250/250 [==============================] - 7s 28ms/step - loss: 0.0061 - accuracy: 0.9976 - val_loss: 1.8046 - val_accuracy: 0.8363\n",
      "WARNING:tensorflow:Early stopping conditioned on metric `val_acc` which is not available. Available metrics are: loss,accuracy,val_loss,val_accuracy\n"
     ]
    },
    {
     "name": "stderr",
     "output_type": "stream",
     "text": [
      "2021-11-17 18:24:01,689 : WARNING : Early stopping conditioned on metric `val_acc` which is not available. Available metrics are: loss,accuracy,val_loss,val_accuracy\n"
     ]
    },
    {
     "name": "stdout",
     "output_type": "stream",
     "text": [
      "Epoch 70/100\n",
      "250/250 [==============================] - 7s 27ms/step - loss: 0.0051 - accuracy: 0.9981 - val_loss: 1.5852 - val_accuracy: 0.8516\n",
      "WARNING:tensorflow:Early stopping conditioned on metric `val_acc` which is not available. Available metrics are: loss,accuracy,val_loss,val_accuracy\n"
     ]
    },
    {
     "name": "stderr",
     "output_type": "stream",
     "text": [
      "2021-11-17 18:24:08,343 : WARNING : Early stopping conditioned on metric `val_acc` which is not available. Available metrics are: loss,accuracy,val_loss,val_accuracy\n"
     ]
    },
    {
     "name": "stdout",
     "output_type": "stream",
     "text": [
      "Epoch 71/100\n",
      "250/250 [==============================] - 7s 26ms/step - loss: 0.0116 - accuracy: 0.9967 - val_loss: 1.5357 - val_accuracy: 0.8478\n",
      "WARNING:tensorflow:Early stopping conditioned on metric `val_acc` which is not available. Available metrics are: loss,accuracy,val_loss,val_accuracy\n"
     ]
    },
    {
     "name": "stderr",
     "output_type": "stream",
     "text": [
      "2021-11-17 18:24:14,969 : WARNING : Early stopping conditioned on metric `val_acc` which is not available. Available metrics are: loss,accuracy,val_loss,val_accuracy\n"
     ]
    },
    {
     "name": "stdout",
     "output_type": "stream",
     "text": [
      "Epoch 72/100\n",
      "250/250 [==============================] - 7s 27ms/step - loss: 0.0056 - accuracy: 0.9982 - val_loss: 1.5085 - val_accuracy: 0.8460\n",
      "WARNING:tensorflow:Early stopping conditioned on metric `val_acc` which is not available. Available metrics are: loss,accuracy,val_loss,val_accuracy\n"
     ]
    },
    {
     "name": "stderr",
     "output_type": "stream",
     "text": [
      "2021-11-17 18:24:21,635 : WARNING : Early stopping conditioned on metric `val_acc` which is not available. Available metrics are: loss,accuracy,val_loss,val_accuracy\n"
     ]
    },
    {
     "name": "stdout",
     "output_type": "stream",
     "text": [
      "Epoch 73/100\n",
      "250/250 [==============================] - 7s 27ms/step - loss: 0.0039 - accuracy: 0.9988 - val_loss: 1.5468 - val_accuracy: 0.8486\n",
      "WARNING:tensorflow:Early stopping conditioned on metric `val_acc` which is not available. Available metrics are: loss,accuracy,val_loss,val_accuracy\n"
     ]
    },
    {
     "name": "stderr",
     "output_type": "stream",
     "text": [
      "2021-11-17 18:24:28,301 : WARNING : Early stopping conditioned on metric `val_acc` which is not available. Available metrics are: loss,accuracy,val_loss,val_accuracy\n"
     ]
    },
    {
     "name": "stdout",
     "output_type": "stream",
     "text": [
      "Epoch 74/100\n",
      "250/250 [==============================] - 7s 27ms/step - loss: 0.0030 - accuracy: 0.9988 - val_loss: 1.5788 - val_accuracy: 0.8506\n",
      "WARNING:tensorflow:Early stopping conditioned on metric `val_acc` which is not available. Available metrics are: loss,accuracy,val_loss,val_accuracy\n"
     ]
    },
    {
     "name": "stderr",
     "output_type": "stream",
     "text": [
      "2021-11-17 18:24:34,946 : WARNING : Early stopping conditioned on metric `val_acc` which is not available. Available metrics are: loss,accuracy,val_loss,val_accuracy\n"
     ]
    },
    {
     "name": "stdout",
     "output_type": "stream",
     "text": [
      "Epoch 75/100\n",
      "250/250 [==============================] - 7s 27ms/step - loss: 0.0033 - accuracy: 0.9993 - val_loss: 1.5262 - val_accuracy: 0.8528\n",
      "WARNING:tensorflow:Early stopping conditioned on metric `val_acc` which is not available. Available metrics are: loss,accuracy,val_loss,val_accuracy\n"
     ]
    },
    {
     "name": "stderr",
     "output_type": "stream",
     "text": [
      "2021-11-17 18:24:41,643 : WARNING : Early stopping conditioned on metric `val_acc` which is not available. Available metrics are: loss,accuracy,val_loss,val_accuracy\n"
     ]
    },
    {
     "name": "stdout",
     "output_type": "stream",
     "text": [
      "Epoch 76/100\n",
      "250/250 [==============================] - 7s 27ms/step - loss: 0.0018 - accuracy: 0.9995 - val_loss: 1.5191 - val_accuracy: 0.8524\n",
      "WARNING:tensorflow:Early stopping conditioned on metric `val_acc` which is not available. Available metrics are: loss,accuracy,val_loss,val_accuracy\n"
     ]
    },
    {
     "name": "stderr",
     "output_type": "stream",
     "text": [
      "2021-11-17 18:24:48,276 : WARNING : Early stopping conditioned on metric `val_acc` which is not available. Available metrics are: loss,accuracy,val_loss,val_accuracy\n"
     ]
    },
    {
     "name": "stdout",
     "output_type": "stream",
     "text": [
      "Epoch 77/100\n",
      "250/250 [==============================] - 7s 27ms/step - loss: 0.0029 - accuracy: 0.9991 - val_loss: 1.6226 - val_accuracy: 0.8510\n",
      "WARNING:tensorflow:Early stopping conditioned on metric `val_acc` which is not available. Available metrics are: loss,accuracy,val_loss,val_accuracy\n"
     ]
    },
    {
     "name": "stderr",
     "output_type": "stream",
     "text": [
      "2021-11-17 18:24:54,957 : WARNING : Early stopping conditioned on metric `val_acc` which is not available. Available metrics are: loss,accuracy,val_loss,val_accuracy\n"
     ]
    },
    {
     "name": "stdout",
     "output_type": "stream",
     "text": [
      "Epoch 78/100\n",
      "250/250 [==============================] - 7s 27ms/step - loss: 0.0038 - accuracy: 0.9985 - val_loss: 1.6130 - val_accuracy: 0.8504\n",
      "WARNING:tensorflow:Early stopping conditioned on metric `val_acc` which is not available. Available metrics are: loss,accuracy,val_loss,val_accuracy\n"
     ]
    },
    {
     "name": "stderr",
     "output_type": "stream",
     "text": [
      "2021-11-17 18:25:01,639 : WARNING : Early stopping conditioned on metric `val_acc` which is not available. Available metrics are: loss,accuracy,val_loss,val_accuracy\n"
     ]
    },
    {
     "name": "stdout",
     "output_type": "stream",
     "text": [
      "Epoch 79/100\n",
      "250/250 [==============================] - 7s 28ms/step - loss: 0.0047 - accuracy: 0.9983 - val_loss: 1.5124 - val_accuracy: 0.8435\n",
      "WARNING:tensorflow:Early stopping conditioned on metric `val_acc` which is not available. Available metrics are: loss,accuracy,val_loss,val_accuracy\n"
     ]
    },
    {
     "name": "stderr",
     "output_type": "stream",
     "text": [
      "2021-11-17 18:25:08,679 : WARNING : Early stopping conditioned on metric `val_acc` which is not available. Available metrics are: loss,accuracy,val_loss,val_accuracy\n"
     ]
    },
    {
     "name": "stdout",
     "output_type": "stream",
     "text": [
      "Epoch 80/100\n",
      "250/250 [==============================] - 8s 31ms/step - loss: 0.0061 - accuracy: 0.9976 - val_loss: 1.5976 - val_accuracy: 0.8454\n",
      "WARNING:tensorflow:Early stopping conditioned on metric `val_acc` which is not available. Available metrics are: loss,accuracy,val_loss,val_accuracy\n"
     ]
    },
    {
     "name": "stderr",
     "output_type": "stream",
     "text": [
      "2021-11-17 18:25:16,534 : WARNING : Early stopping conditioned on metric `val_acc` which is not available. Available metrics are: loss,accuracy,val_loss,val_accuracy\n"
     ]
    },
    {
     "name": "stdout",
     "output_type": "stream",
     "text": [
      "Epoch 81/100\n",
      "250/250 [==============================] - 7s 28ms/step - loss: 0.0083 - accuracy: 0.9970 - val_loss: 1.6262 - val_accuracy: 0.8470\n",
      "WARNING:tensorflow:Early stopping conditioned on metric `val_acc` which is not available. Available metrics are: loss,accuracy,val_loss,val_accuracy\n"
     ]
    },
    {
     "name": "stderr",
     "output_type": "stream",
     "text": [
      "2021-11-17 18:25:23,622 : WARNING : Early stopping conditioned on metric `val_acc` which is not available. Available metrics are: loss,accuracy,val_loss,val_accuracy\n"
     ]
    },
    {
     "name": "stdout",
     "output_type": "stream",
     "text": [
      "Epoch 82/100\n",
      "250/250 [==============================] - 7s 29ms/step - loss: 0.0033 - accuracy: 0.9988 - val_loss: 1.5748 - val_accuracy: 0.8457\n",
      "WARNING:tensorflow:Early stopping conditioned on metric `val_acc` which is not available. Available metrics are: loss,accuracy,val_loss,val_accuracy\n"
     ]
    },
    {
     "name": "stderr",
     "output_type": "stream",
     "text": [
      "2021-11-17 18:25:30,856 : WARNING : Early stopping conditioned on metric `val_acc` which is not available. Available metrics are: loss,accuracy,val_loss,val_accuracy\n"
     ]
    },
    {
     "name": "stdout",
     "output_type": "stream",
     "text": [
      "Epoch 83/100\n",
      "250/250 [==============================] - 7s 28ms/step - loss: 0.0042 - accuracy: 0.9988 - val_loss: 1.4614 - val_accuracy: 0.8510\n",
      "WARNING:tensorflow:Early stopping conditioned on metric `val_acc` which is not available. Available metrics are: loss,accuracy,val_loss,val_accuracy\n"
     ]
    },
    {
     "name": "stderr",
     "output_type": "stream",
     "text": [
      "2021-11-17 18:25:37,817 : WARNING : Early stopping conditioned on metric `val_acc` which is not available. Available metrics are: loss,accuracy,val_loss,val_accuracy\n"
     ]
    },
    {
     "name": "stdout",
     "output_type": "stream",
     "text": [
      "Epoch 84/100\n",
      "250/250 [==============================] - 7s 27ms/step - loss: 0.0032 - accuracy: 0.9988 - val_loss: 1.6264 - val_accuracy: 0.8509\n",
      "WARNING:tensorflow:Early stopping conditioned on metric `val_acc` which is not available. Available metrics are: loss,accuracy,val_loss,val_accuracy\n"
     ]
    },
    {
     "name": "stderr",
     "output_type": "stream",
     "text": [
      "2021-11-17 18:25:44,461 : WARNING : Early stopping conditioned on metric `val_acc` which is not available. Available metrics are: loss,accuracy,val_loss,val_accuracy\n"
     ]
    },
    {
     "name": "stdout",
     "output_type": "stream",
     "text": [
      "Epoch 85/100\n",
      "250/250 [==============================] - 7s 27ms/step - loss: 0.0026 - accuracy: 0.9989 - val_loss: 1.5926 - val_accuracy: 0.8508\n",
      "WARNING:tensorflow:Early stopping conditioned on metric `val_acc` which is not available. Available metrics are: loss,accuracy,val_loss,val_accuracy\n"
     ]
    },
    {
     "name": "stderr",
     "output_type": "stream",
     "text": [
      "2021-11-17 18:25:51,140 : WARNING : Early stopping conditioned on metric `val_acc` which is not available. Available metrics are: loss,accuracy,val_loss,val_accuracy\n"
     ]
    },
    {
     "name": "stdout",
     "output_type": "stream",
     "text": [
      "Epoch 86/100\n",
      "250/250 [==============================] - 7s 27ms/step - loss: 0.0020 - accuracy: 0.9992 - val_loss: 1.6214 - val_accuracy: 0.8486\n",
      "WARNING:tensorflow:Early stopping conditioned on metric `val_acc` which is not available. Available metrics are: loss,accuracy,val_loss,val_accuracy\n"
     ]
    },
    {
     "name": "stderr",
     "output_type": "stream",
     "text": [
      "2021-11-17 18:25:57,783 : WARNING : Early stopping conditioned on metric `val_acc` which is not available. Available metrics are: loss,accuracy,val_loss,val_accuracy\n"
     ]
    },
    {
     "name": "stdout",
     "output_type": "stream",
     "text": [
      "Epoch 87/100\n",
      "250/250 [==============================] - 7s 27ms/step - loss: 0.0023 - accuracy: 0.9991 - val_loss: 1.6310 - val_accuracy: 0.8554\n",
      "WARNING:tensorflow:Early stopping conditioned on metric `val_acc` which is not available. Available metrics are: loss,accuracy,val_loss,val_accuracy\n"
     ]
    },
    {
     "name": "stderr",
     "output_type": "stream",
     "text": [
      "2021-11-17 18:26:04,428 : WARNING : Early stopping conditioned on metric `val_acc` which is not available. Available metrics are: loss,accuracy,val_loss,val_accuracy\n"
     ]
    },
    {
     "name": "stdout",
     "output_type": "stream",
     "text": [
      "Epoch 88/100\n",
      "250/250 [==============================] - 7s 27ms/step - loss: 0.0019 - accuracy: 0.9991 - val_loss: 1.6720 - val_accuracy: 0.8545\n",
      "WARNING:tensorflow:Early stopping conditioned on metric `val_acc` which is not available. Available metrics are: loss,accuracy,val_loss,val_accuracy\n"
     ]
    },
    {
     "name": "stderr",
     "output_type": "stream",
     "text": [
      "2021-11-17 18:26:11,095 : WARNING : Early stopping conditioned on metric `val_acc` which is not available. Available metrics are: loss,accuracy,val_loss,val_accuracy\n"
     ]
    },
    {
     "name": "stdout",
     "output_type": "stream",
     "text": [
      "Epoch 89/100\n",
      "250/250 [==============================] - 7s 27ms/step - loss: 0.0015 - accuracy: 0.9996 - val_loss: 1.6401 - val_accuracy: 0.8533\n",
      "WARNING:tensorflow:Early stopping conditioned on metric `val_acc` which is not available. Available metrics are: loss,accuracy,val_loss,val_accuracy\n"
     ]
    },
    {
     "name": "stderr",
     "output_type": "stream",
     "text": [
      "2021-11-17 18:26:17,757 : WARNING : Early stopping conditioned on metric `val_acc` which is not available. Available metrics are: loss,accuracy,val_loss,val_accuracy\n"
     ]
    },
    {
     "name": "stdout",
     "output_type": "stream",
     "text": [
      "Epoch 90/100\n",
      "250/250 [==============================] - 7s 27ms/step - loss: 0.0031 - accuracy: 0.9992 - val_loss: 1.7213 - val_accuracy: 0.8526\n",
      "WARNING:tensorflow:Early stopping conditioned on metric `val_acc` which is not available. Available metrics are: loss,accuracy,val_loss,val_accuracy\n"
     ]
    },
    {
     "name": "stderr",
     "output_type": "stream",
     "text": [
      "2021-11-17 18:26:24,418 : WARNING : Early stopping conditioned on metric `val_acc` which is not available. Available metrics are: loss,accuracy,val_loss,val_accuracy\n"
     ]
    },
    {
     "name": "stdout",
     "output_type": "stream",
     "text": [
      "Epoch 91/100\n",
      "250/250 [==============================] - 7s 27ms/step - loss: 0.0064 - accuracy: 0.9981 - val_loss: 1.7591 - val_accuracy: 0.8512\n",
      "WARNING:tensorflow:Early stopping conditioned on metric `val_acc` which is not available. Available metrics are: loss,accuracy,val_loss,val_accuracy\n"
     ]
    },
    {
     "name": "stderr",
     "output_type": "stream",
     "text": [
      "2021-11-17 18:26:31,111 : WARNING : Early stopping conditioned on metric `val_acc` which is not available. Available metrics are: loss,accuracy,val_loss,val_accuracy\n"
     ]
    },
    {
     "name": "stdout",
     "output_type": "stream",
     "text": [
      "Epoch 92/100\n",
      "250/250 [==============================] - 7s 27ms/step - loss: 0.0023 - accuracy: 0.9992 - val_loss: 1.7282 - val_accuracy: 0.8489\n",
      "WARNING:tensorflow:Early stopping conditioned on metric `val_acc` which is not available. Available metrics are: loss,accuracy,val_loss,val_accuracy\n"
     ]
    },
    {
     "name": "stderr",
     "output_type": "stream",
     "text": [
      "2021-11-17 18:26:37,929 : WARNING : Early stopping conditioned on metric `val_acc` which is not available. Available metrics are: loss,accuracy,val_loss,val_accuracy\n"
     ]
    },
    {
     "name": "stdout",
     "output_type": "stream",
     "text": [
      "Epoch 93/100\n",
      "250/250 [==============================] - 7s 27ms/step - loss: 0.0048 - accuracy: 0.9985 - val_loss: 1.6847 - val_accuracy: 0.8521\n",
      "WARNING:tensorflow:Early stopping conditioned on metric `val_acc` which is not available. Available metrics are: loss,accuracy,val_loss,val_accuracy\n"
     ]
    },
    {
     "name": "stderr",
     "output_type": "stream",
     "text": [
      "2021-11-17 18:26:44,731 : WARNING : Early stopping conditioned on metric `val_acc` which is not available. Available metrics are: loss,accuracy,val_loss,val_accuracy\n"
     ]
    },
    {
     "name": "stdout",
     "output_type": "stream",
     "text": [
      "Epoch 94/100\n",
      "250/250 [==============================] - 7s 27ms/step - loss: 0.0056 - accuracy: 0.9984 - val_loss: 1.6076 - val_accuracy: 0.8515\n",
      "WARNING:tensorflow:Early stopping conditioned on metric `val_acc` which is not available. Available metrics are: loss,accuracy,val_loss,val_accuracy\n"
     ]
    },
    {
     "name": "stderr",
     "output_type": "stream",
     "text": [
      "2021-11-17 18:26:51,532 : WARNING : Early stopping conditioned on metric `val_acc` which is not available. Available metrics are: loss,accuracy,val_loss,val_accuracy\n"
     ]
    },
    {
     "name": "stdout",
     "output_type": "stream",
     "text": [
      "Epoch 95/100\n",
      "250/250 [==============================] - 7s 27ms/step - loss: 0.0029 - accuracy: 0.9988 - val_loss: 1.7203 - val_accuracy: 0.8531\n",
      "WARNING:tensorflow:Early stopping conditioned on metric `val_acc` which is not available. Available metrics are: loss,accuracy,val_loss,val_accuracy\n"
     ]
    },
    {
     "name": "stderr",
     "output_type": "stream",
     "text": [
      "2021-11-17 18:26:58,347 : WARNING : Early stopping conditioned on metric `val_acc` which is not available. Available metrics are: loss,accuracy,val_loss,val_accuracy\n"
     ]
    },
    {
     "name": "stdout",
     "output_type": "stream",
     "text": [
      "Epoch 96/100\n",
      "250/250 [==============================] - 7s 28ms/step - loss: 0.0026 - accuracy: 0.9993 - val_loss: 1.6467 - val_accuracy: 0.8506\n",
      "WARNING:tensorflow:Early stopping conditioned on metric `val_acc` which is not available. Available metrics are: loss,accuracy,val_loss,val_accuracy\n"
     ]
    },
    {
     "name": "stderr",
     "output_type": "stream",
     "text": [
      "2021-11-17 18:27:05,361 : WARNING : Early stopping conditioned on metric `val_acc` which is not available. Available metrics are: loss,accuracy,val_loss,val_accuracy\n"
     ]
    },
    {
     "name": "stdout",
     "output_type": "stream",
     "text": [
      "Epoch 97/100\n",
      "250/250 [==============================] - 7s 27ms/step - loss: 0.0050 - accuracy: 0.9985 - val_loss: 1.5630 - val_accuracy: 0.8451\n",
      "WARNING:tensorflow:Early stopping conditioned on metric `val_acc` which is not available. Available metrics are: loss,accuracy,val_loss,val_accuracy\n"
     ]
    },
    {
     "name": "stderr",
     "output_type": "stream",
     "text": [
      "2021-11-17 18:27:12,073 : WARNING : Early stopping conditioned on metric `val_acc` which is not available. Available metrics are: loss,accuracy,val_loss,val_accuracy\n"
     ]
    },
    {
     "name": "stdout",
     "output_type": "stream",
     "text": [
      "Epoch 98/100\n",
      "250/250 [==============================] - 7s 27ms/step - loss: 0.0029 - accuracy: 0.9988 - val_loss: 1.6171 - val_accuracy: 0.8496\n",
      "WARNING:tensorflow:Early stopping conditioned on metric `val_acc` which is not available. Available metrics are: loss,accuracy,val_loss,val_accuracy\n"
     ]
    },
    {
     "name": "stderr",
     "output_type": "stream",
     "text": [
      "2021-11-17 18:27:18,713 : WARNING : Early stopping conditioned on metric `val_acc` which is not available. Available metrics are: loss,accuracy,val_loss,val_accuracy\n"
     ]
    },
    {
     "name": "stdout",
     "output_type": "stream",
     "text": [
      "Epoch 99/100\n",
      "250/250 [==============================] - 7s 27ms/step - loss: 0.0024 - accuracy: 0.9990 - val_loss: 1.7463 - val_accuracy: 0.8570\n",
      "WARNING:tensorflow:Early stopping conditioned on metric `val_acc` which is not available. Available metrics are: loss,accuracy,val_loss,val_accuracy\n"
     ]
    },
    {
     "name": "stderr",
     "output_type": "stream",
     "text": [
      "2021-11-17 18:27:25,351 : WARNING : Early stopping conditioned on metric `val_acc` which is not available. Available metrics are: loss,accuracy,val_loss,val_accuracy\n"
     ]
    },
    {
     "name": "stdout",
     "output_type": "stream",
     "text": [
      "Epoch 100/100\n",
      "250/250 [==============================] - 7s 27ms/step - loss: 0.0014 - accuracy: 0.9994 - val_loss: 1.7321 - val_accuracy: 0.8505\n",
      "WARNING:tensorflow:Early stopping conditioned on metric `val_acc` which is not available. Available metrics are: loss,accuracy,val_loss,val_accuracy\n"
     ]
    },
    {
     "name": "stderr",
     "output_type": "stream",
     "text": [
      "2021-11-17 18:27:31,979 : WARNING : Early stopping conditioned on metric `val_acc` which is not available. Available metrics are: loss,accuracy,val_loss,val_accuracy\n"
     ]
    },
    {
     "name": "stdout",
     "output_type": "stream",
     "text": [
      "313/313 [==============================] - 1s 3ms/step - loss: 1.6590 - accuracy: 0.8504\n"
     ]
    },
    {
     "data": {
      "text/plain": [
       "[1.6590462923049927, 0.8503999710083008]"
      ]
     },
     "execution_count": 32,
     "metadata": {},
     "output_type": "execute_result"
    }
   ],
   "source": [
    "# 詞頻特徵\n",
    "## 設定超參數\n",
    "LEARNING_RATE = 1e-3\n",
    "EPOCHS = 100\n",
    "BATCH_SIZE = 128\n",
    "MOMENTUM = 0.95\n",
    "# 建立資料格式\n",
    "# 考量時間與記憶體容量，僅保留數量最多的1萬個詞\n",
    "tokenizer = text.Tokenizer(num_words=10000) \n",
    "tokenizer.fit_on_texts(df['CONTENT_SEG'])\n",
    "word_index = tokenizer.word_index\n",
    "print('Found %s unique tokens.' % len(word_index))\n",
    "\n",
    "counts_train = tokenizer.texts_to_sequences(X_train) \n",
    "counts_train = tokenizer.sequences_to_matrix(counts_train, mode='freq')\n",
    "counts_test = tokenizer.texts_to_sequences(X_test)\n",
    "counts_test = tokenizer.sequences_to_matrix(counts_test, mode='freq')\n",
    "print('Shape of counts_train tensor:', counts_train.shape)\n",
    "print('Shape of counts_test tensor:', counts_test.shape)\n",
    "\n",
    "y_train_dummy = to_categorical(np.asarray(y_train))\n",
    "y_test_dummy = to_categorical(np.asarray(y_test))\n",
    "print('Shape of y_train_dummy tensor:', y_train_dummy.shape)\n",
    "print('Shape of y_test_dummy tensor:', y_test_dummy.shape)\n",
    "# 搭建模型框架\n",
    "keras.backend.clear_session()\n",
    "model = Sequential()\n",
    "model.add(Dense(units=512, input_shape=(counts_train.shape[1],), activation='relu'))\n",
    "model.add(BatchNormalization())\n",
    "model.add(Dense(256, activation='relu'))\n",
    "model.add(BatchNormalization())\n",
    "model.add(Dense(128, activation='relu'))\n",
    "model.add(Dense(y_train_dummy.shape[1], activation='softmax'))\n",
    "model.summary()\n",
    "# 載入 Callbacks, 並將 monitor 設定為監控 validation loss\n",
    "earlystop = EarlyStopping(monitor=\"val_acc\", \n",
    "                        patience=10, \n",
    "                        verbose=1)\n",
    "model.compile(loss='categorical_crossentropy',\n",
    "            optimizer=tf.keras.optimizers.Adam(lr=LEARNING_RATE, epsilon=None, decay=0.0),\n",
    "            metrics=['accuracy'])\n",
    "%time\n",
    "model.fit(counts_train, y_train_dummy,\n",
    "        epochs=EPOCHS, \n",
    "        validation_split=0.2,\n",
    "        batch_size=BATCH_SIZE,\n",
    "        shuffle=True,\n",
    "        callbacks=[earlystop])\n",
    "model.evaluate(counts_test, y_test_dummy)"
   ]
  },
  {
   "cell_type": "code",
   "execution_count": 33,
   "metadata": {
    "scrolled": true
   },
   "outputs": [
    {
     "name": "stdout",
     "output_type": "stream",
     "text": [
      "Found 450075 unique tokens.\n",
      "Shape of tfidf_train tensor: (40000, 10000)\n",
      "Shape of tfidf_test tensor: (10000, 10000)\n",
      "Shape of y_train tensor: (40000, 10)\n",
      "Shape of y_test tensor: (10000, 10)\n",
      "Model: \"sequential\"\n",
      "_________________________________________________________________\n",
      "Layer (type)                 Output Shape              Param #   \n",
      "=================================================================\n",
      "dense (Dense)                (None, 512)               5120512   \n",
      "_________________________________________________________________\n",
      "batch_normalization (BatchNo (None, 512)               2048      \n",
      "_________________________________________________________________\n",
      "dense_1 (Dense)              (None, 256)               131328    \n",
      "_________________________________________________________________\n",
      "batch_normalization_1 (Batch (None, 256)               1024      \n",
      "_________________________________________________________________\n",
      "dense_2 (Dense)              (None, 128)               32896     \n",
      "_________________________________________________________________\n",
      "dense_3 (Dense)              (None, 10)                1290      \n",
      "=================================================================\n",
      "Total params: 5,289,098\n",
      "Trainable params: 5,287,562\n",
      "Non-trainable params: 1,536\n",
      "_________________________________________________________________\n",
      "Wall time: 0 ns\n",
      "Epoch 1/100\n",
      "250/250 [==============================] - 7s 27ms/step - loss: 0.6294 - accuracy: 0.7838 - val_loss: 0.3614 - val_accuracy: 0.8711\n",
      "WARNING:tensorflow:Early stopping conditioned on metric `val_acc` which is not available. Available metrics are: loss,accuracy,val_loss,val_accuracy\n"
     ]
    },
    {
     "name": "stderr",
     "output_type": "stream",
     "text": [
      "2021-11-17 18:28:35,136 : WARNING : Early stopping conditioned on metric `val_acc` which is not available. Available metrics are: loss,accuracy,val_loss,val_accuracy\n"
     ]
    },
    {
     "name": "stdout",
     "output_type": "stream",
     "text": [
      "Epoch 2/100\n",
      "250/250 [==============================] - 6s 25ms/step - loss: 0.0892 - accuracy: 0.9735 - val_loss: 0.4274 - val_accuracy: 0.8727\n",
      "WARNING:tensorflow:Early stopping conditioned on metric `val_acc` which is not available. Available metrics are: loss,accuracy,val_loss,val_accuracy\n"
     ]
    },
    {
     "name": "stderr",
     "output_type": "stream",
     "text": [
      "2021-11-17 18:28:41,483 : WARNING : Early stopping conditioned on metric `val_acc` which is not available. Available metrics are: loss,accuracy,val_loss,val_accuracy\n"
     ]
    },
    {
     "name": "stdout",
     "output_type": "stream",
     "text": [
      "Epoch 3/100\n",
      "250/250 [==============================] - 6s 26ms/step - loss: 0.0297 - accuracy: 0.9922 - val_loss: 0.5077 - val_accuracy: 0.8701\n",
      "WARNING:tensorflow:Early stopping conditioned on metric `val_acc` which is not available. Available metrics are: loss,accuracy,val_loss,val_accuracy\n"
     ]
    },
    {
     "name": "stderr",
     "output_type": "stream",
     "text": [
      "2021-11-17 18:28:47,900 : WARNING : Early stopping conditioned on metric `val_acc` which is not available. Available metrics are: loss,accuracy,val_loss,val_accuracy\n"
     ]
    },
    {
     "name": "stdout",
     "output_type": "stream",
     "text": [
      "Epoch 4/100\n",
      "250/250 [==============================] - 6s 26ms/step - loss: 0.0222 - accuracy: 0.9942 - val_loss: 0.5649 - val_accuracy: 0.8649\n",
      "WARNING:tensorflow:Early stopping conditioned on metric `val_acc` which is not available. Available metrics are: loss,accuracy,val_loss,val_accuracy\n"
     ]
    },
    {
     "name": "stderr",
     "output_type": "stream",
     "text": [
      "2021-11-17 18:28:54,388 : WARNING : Early stopping conditioned on metric `val_acc` which is not available. Available metrics are: loss,accuracy,val_loss,val_accuracy\n"
     ]
    },
    {
     "name": "stdout",
     "output_type": "stream",
     "text": [
      "Epoch 5/100\n",
      "250/250 [==============================] - 6s 26ms/step - loss: 0.0133 - accuracy: 0.9964 - val_loss: 0.6395 - val_accuracy: 0.8715\n",
      "WARNING:tensorflow:Early stopping conditioned on metric `val_acc` which is not available. Available metrics are: loss,accuracy,val_loss,val_accuracy\n"
     ]
    },
    {
     "name": "stderr",
     "output_type": "stream",
     "text": [
      "2021-11-17 18:29:00,855 : WARNING : Early stopping conditioned on metric `val_acc` which is not available. Available metrics are: loss,accuracy,val_loss,val_accuracy\n"
     ]
    },
    {
     "name": "stdout",
     "output_type": "stream",
     "text": [
      "Epoch 6/100\n",
      "250/250 [==============================] - 6s 26ms/step - loss: 0.0100 - accuracy: 0.9968 - val_loss: 0.6723 - val_accuracy: 0.8687\n",
      "WARNING:tensorflow:Early stopping conditioned on metric `val_acc` which is not available. Available metrics are: loss,accuracy,val_loss,val_accuracy\n"
     ]
    },
    {
     "name": "stderr",
     "output_type": "stream",
     "text": [
      "2021-11-17 18:29:07,352 : WARNING : Early stopping conditioned on metric `val_acc` which is not available. Available metrics are: loss,accuracy,val_loss,val_accuracy\n"
     ]
    },
    {
     "name": "stdout",
     "output_type": "stream",
     "text": [
      "Epoch 7/100\n",
      "250/250 [==============================] - 6s 26ms/step - loss: 0.0096 - accuracy: 0.9966 - val_loss: 0.7284 - val_accuracy: 0.8626\n",
      "WARNING:tensorflow:Early stopping conditioned on metric `val_acc` which is not available. Available metrics are: loss,accuracy,val_loss,val_accuracy\n"
     ]
    },
    {
     "name": "stderr",
     "output_type": "stream",
     "text": [
      "2021-11-17 18:29:13,854 : WARNING : Early stopping conditioned on metric `val_acc` which is not available. Available metrics are: loss,accuracy,val_loss,val_accuracy\n"
     ]
    },
    {
     "name": "stdout",
     "output_type": "stream",
     "text": [
      "Epoch 8/100\n",
      "250/250 [==============================] - 7s 26ms/step - loss: 0.0209 - accuracy: 0.9932 - val_loss: 0.7396 - val_accuracy: 0.8491\n",
      "WARNING:tensorflow:Early stopping conditioned on metric `val_acc` which is not available. Available metrics are: loss,accuracy,val_loss,val_accuracy\n"
     ]
    },
    {
     "name": "stderr",
     "output_type": "stream",
     "text": [
      "2021-11-17 18:29:20,362 : WARNING : Early stopping conditioned on metric `val_acc` which is not available. Available metrics are: loss,accuracy,val_loss,val_accuracy\n"
     ]
    },
    {
     "name": "stdout",
     "output_type": "stream",
     "text": [
      "Epoch 9/100\n",
      "250/250 [==============================] - 7s 26ms/step - loss: 0.0558 - accuracy: 0.9816 - val_loss: 0.6005 - val_accuracy: 0.8576\n",
      "WARNING:tensorflow:Early stopping conditioned on metric `val_acc` which is not available. Available metrics are: loss,accuracy,val_loss,val_accuracy\n"
     ]
    },
    {
     "name": "stderr",
     "output_type": "stream",
     "text": [
      "2021-11-17 18:29:26,878 : WARNING : Early stopping conditioned on metric `val_acc` which is not available. Available metrics are: loss,accuracy,val_loss,val_accuracy\n"
     ]
    },
    {
     "name": "stdout",
     "output_type": "stream",
     "text": [
      "Epoch 10/100\n",
      "250/250 [==============================] - 7s 28ms/step - loss: 0.0478 - accuracy: 0.9831 - val_loss: 0.6970 - val_accuracy: 0.8562\n",
      "WARNING:tensorflow:Early stopping conditioned on metric `val_acc` which is not available. Available metrics are: loss,accuracy,val_loss,val_accuracy\n"
     ]
    },
    {
     "name": "stderr",
     "output_type": "stream",
     "text": [
      "2021-11-17 18:29:33,788 : WARNING : Early stopping conditioned on metric `val_acc` which is not available. Available metrics are: loss,accuracy,val_loss,val_accuracy\n"
     ]
    },
    {
     "name": "stdout",
     "output_type": "stream",
     "text": [
      "Epoch 11/100\n",
      "250/250 [==============================] - 7s 28ms/step - loss: 0.0184 - accuracy: 0.9940 - val_loss: 0.7650 - val_accuracy: 0.8576\n",
      "WARNING:tensorflow:Early stopping conditioned on metric `val_acc` which is not available. Available metrics are: loss,accuracy,val_loss,val_accuracy\n"
     ]
    },
    {
     "name": "stderr",
     "output_type": "stream",
     "text": [
      "2021-11-17 18:29:40,718 : WARNING : Early stopping conditioned on metric `val_acc` which is not available. Available metrics are: loss,accuracy,val_loss,val_accuracy\n"
     ]
    },
    {
     "name": "stdout",
     "output_type": "stream",
     "text": [
      "Epoch 12/100\n",
      "250/250 [==============================] - 7s 27ms/step - loss: 0.0086 - accuracy: 0.9971 - val_loss: 0.8231 - val_accuracy: 0.8627\n",
      "WARNING:tensorflow:Early stopping conditioned on metric `val_acc` which is not available. Available metrics are: loss,accuracy,val_loss,val_accuracy\n"
     ]
    },
    {
     "name": "stderr",
     "output_type": "stream",
     "text": [
      "2021-11-17 18:29:47,362 : WARNING : Early stopping conditioned on metric `val_acc` which is not available. Available metrics are: loss,accuracy,val_loss,val_accuracy\n"
     ]
    },
    {
     "name": "stdout",
     "output_type": "stream",
     "text": [
      "Epoch 13/100\n",
      "250/250 [==============================] - 7s 26ms/step - loss: 0.0040 - accuracy: 0.9983 - val_loss: 0.8510 - val_accuracy: 0.8640\n",
      "WARNING:tensorflow:Early stopping conditioned on metric `val_acc` which is not available. Available metrics are: loss,accuracy,val_loss,val_accuracy\n"
     ]
    },
    {
     "name": "stderr",
     "output_type": "stream",
     "text": [
      "2021-11-17 18:29:53,906 : WARNING : Early stopping conditioned on metric `val_acc` which is not available. Available metrics are: loss,accuracy,val_loss,val_accuracy\n"
     ]
    },
    {
     "name": "stdout",
     "output_type": "stream",
     "text": [
      "Epoch 14/100\n",
      "250/250 [==============================] - 7s 26ms/step - loss: 0.0047 - accuracy: 0.9986 - val_loss: 0.8644 - val_accuracy: 0.8629\n",
      "WARNING:tensorflow:Early stopping conditioned on metric `val_acc` which is not available. Available metrics are: loss,accuracy,val_loss,val_accuracy\n"
     ]
    },
    {
     "name": "stderr",
     "output_type": "stream",
     "text": [
      "2021-11-17 18:30:00,503 : WARNING : Early stopping conditioned on metric `val_acc` which is not available. Available metrics are: loss,accuracy,val_loss,val_accuracy\n"
     ]
    },
    {
     "name": "stdout",
     "output_type": "stream",
     "text": [
      "Epoch 15/100\n",
      "250/250 [==============================] - 7s 27ms/step - loss: 0.0034 - accuracy: 0.9982 - val_loss: 0.8819 - val_accuracy: 0.8621\n",
      "WARNING:tensorflow:Early stopping conditioned on metric `val_acc` which is not available. Available metrics are: loss,accuracy,val_loss,val_accuracy\n"
     ]
    },
    {
     "name": "stderr",
     "output_type": "stream",
     "text": [
      "2021-11-17 18:30:07,374 : WARNING : Early stopping conditioned on metric `val_acc` which is not available. Available metrics are: loss,accuracy,val_loss,val_accuracy\n"
     ]
    },
    {
     "name": "stdout",
     "output_type": "stream",
     "text": [
      "Epoch 16/100\n",
      "250/250 [==============================] - 8s 31ms/step - loss: 0.0024 - accuracy: 0.9988 - val_loss: 0.8985 - val_accuracy: 0.8645\n",
      "WARNING:tensorflow:Early stopping conditioned on metric `val_acc` which is not available. Available metrics are: loss,accuracy,val_loss,val_accuracy\n"
     ]
    },
    {
     "name": "stderr",
     "output_type": "stream",
     "text": [
      "2021-11-17 18:30:15,072 : WARNING : Early stopping conditioned on metric `val_acc` which is not available. Available metrics are: loss,accuracy,val_loss,val_accuracy\n"
     ]
    },
    {
     "name": "stdout",
     "output_type": "stream",
     "text": [
      "Epoch 17/100\n",
      "250/250 [==============================] - 7s 26ms/step - loss: 0.0037 - accuracy: 0.9985 - val_loss: 0.9149 - val_accuracy: 0.8636\n",
      "WARNING:tensorflow:Early stopping conditioned on metric `val_acc` which is not available. Available metrics are: loss,accuracy,val_loss,val_accuracy\n"
     ]
    },
    {
     "name": "stderr",
     "output_type": "stream",
     "text": [
      "2021-11-17 18:30:21,681 : WARNING : Early stopping conditioned on metric `val_acc` which is not available. Available metrics are: loss,accuracy,val_loss,val_accuracy\n"
     ]
    },
    {
     "name": "stdout",
     "output_type": "stream",
     "text": [
      "Epoch 18/100\n",
      "250/250 [==============================] - 7s 26ms/step - loss: 0.0025 - accuracy: 0.9987 - val_loss: 0.9364 - val_accuracy: 0.8635\n",
      "WARNING:tensorflow:Early stopping conditioned on metric `val_acc` which is not available. Available metrics are: loss,accuracy,val_loss,val_accuracy\n"
     ]
    },
    {
     "name": "stderr",
     "output_type": "stream",
     "text": [
      "2021-11-17 18:30:28,273 : WARNING : Early stopping conditioned on metric `val_acc` which is not available. Available metrics are: loss,accuracy,val_loss,val_accuracy\n"
     ]
    },
    {
     "name": "stdout",
     "output_type": "stream",
     "text": [
      "Epoch 19/100\n",
      "250/250 [==============================] - 7s 26ms/step - loss: 0.0026 - accuracy: 0.9987 - val_loss: 0.9534 - val_accuracy: 0.8646\n",
      "WARNING:tensorflow:Early stopping conditioned on metric `val_acc` which is not available. Available metrics are: loss,accuracy,val_loss,val_accuracy\n"
     ]
    },
    {
     "name": "stderr",
     "output_type": "stream",
     "text": [
      "2021-11-17 18:30:34,849 : WARNING : Early stopping conditioned on metric `val_acc` which is not available. Available metrics are: loss,accuracy,val_loss,val_accuracy\n"
     ]
    },
    {
     "name": "stdout",
     "output_type": "stream",
     "text": [
      "Epoch 20/100\n",
      "250/250 [==============================] - 7s 26ms/step - loss: 0.0030 - accuracy: 0.9986 - val_loss: 0.9595 - val_accuracy: 0.8661\n",
      "WARNING:tensorflow:Early stopping conditioned on metric `val_acc` which is not available. Available metrics are: loss,accuracy,val_loss,val_accuracy\n"
     ]
    },
    {
     "name": "stderr",
     "output_type": "stream",
     "text": [
      "2021-11-17 18:30:41,437 : WARNING : Early stopping conditioned on metric `val_acc` which is not available. Available metrics are: loss,accuracy,val_loss,val_accuracy\n"
     ]
    },
    {
     "name": "stdout",
     "output_type": "stream",
     "text": [
      "Epoch 21/100\n",
      "250/250 [==============================] - 7s 26ms/step - loss: 0.0020 - accuracy: 0.9991 - val_loss: 0.9751 - val_accuracy: 0.8641\n",
      "WARNING:tensorflow:Early stopping conditioned on metric `val_acc` which is not available. Available metrics are: loss,accuracy,val_loss,val_accuracy\n"
     ]
    },
    {
     "name": "stderr",
     "output_type": "stream",
     "text": [
      "2021-11-17 18:30:48,035 : WARNING : Early stopping conditioned on metric `val_acc` which is not available. Available metrics are: loss,accuracy,val_loss,val_accuracy\n"
     ]
    },
    {
     "name": "stdout",
     "output_type": "stream",
     "text": [
      "Epoch 22/100\n",
      "250/250 [==============================] - 7s 26ms/step - loss: 0.0025 - accuracy: 0.9985 - val_loss: 0.9852 - val_accuracy: 0.8646\n",
      "WARNING:tensorflow:Early stopping conditioned on metric `val_acc` which is not available. Available metrics are: loss,accuracy,val_loss,val_accuracy\n"
     ]
    },
    {
     "name": "stderr",
     "output_type": "stream",
     "text": [
      "2021-11-17 18:30:54,622 : WARNING : Early stopping conditioned on metric `val_acc` which is not available. Available metrics are: loss,accuracy,val_loss,val_accuracy\n"
     ]
    },
    {
     "name": "stdout",
     "output_type": "stream",
     "text": [
      "Epoch 23/100\n",
      "250/250 [==============================] - 7s 26ms/step - loss: 0.0026 - accuracy: 0.9987 - val_loss: 1.0147 - val_accuracy: 0.8646\n",
      "WARNING:tensorflow:Early stopping conditioned on metric `val_acc` which is not available. Available metrics are: loss,accuracy,val_loss,val_accuracy\n"
     ]
    },
    {
     "name": "stderr",
     "output_type": "stream",
     "text": [
      "2021-11-17 18:31:01,210 : WARNING : Early stopping conditioned on metric `val_acc` which is not available. Available metrics are: loss,accuracy,val_loss,val_accuracy\n"
     ]
    },
    {
     "name": "stdout",
     "output_type": "stream",
     "text": [
      "Epoch 24/100\n",
      "250/250 [==============================] - 7s 26ms/step - loss: 0.0049 - accuracy: 0.9981 - val_loss: 1.1824 - val_accuracy: 0.8367\n",
      "WARNING:tensorflow:Early stopping conditioned on metric `val_acc` which is not available. Available metrics are: loss,accuracy,val_loss,val_accuracy\n"
     ]
    },
    {
     "name": "stderr",
     "output_type": "stream",
     "text": [
      "2021-11-17 18:31:07,788 : WARNING : Early stopping conditioned on metric `val_acc` which is not available. Available metrics are: loss,accuracy,val_loss,val_accuracy\n"
     ]
    },
    {
     "name": "stdout",
     "output_type": "stream",
     "text": [
      "Epoch 25/100\n",
      "250/250 [==============================] - 7s 26ms/step - loss: 0.0805 - accuracy: 0.9740 - val_loss: 0.6776 - val_accuracy: 0.8539\n",
      "WARNING:tensorflow:Early stopping conditioned on metric `val_acc` which is not available. Available metrics are: loss,accuracy,val_loss,val_accuracy\n"
     ]
    },
    {
     "name": "stderr",
     "output_type": "stream",
     "text": [
      "2021-11-17 18:31:14,379 : WARNING : Early stopping conditioned on metric `val_acc` which is not available. Available metrics are: loss,accuracy,val_loss,val_accuracy\n"
     ]
    },
    {
     "name": "stdout",
     "output_type": "stream",
     "text": [
      "Epoch 26/100\n",
      "250/250 [==============================] - 7s 26ms/step - loss: 0.0309 - accuracy: 0.9908 - val_loss: 0.7631 - val_accuracy: 0.8601\n",
      "WARNING:tensorflow:Early stopping conditioned on metric `val_acc` which is not available. Available metrics are: loss,accuracy,val_loss,val_accuracy\n"
     ]
    },
    {
     "name": "stderr",
     "output_type": "stream",
     "text": [
      "2021-11-17 18:31:20,972 : WARNING : Early stopping conditioned on metric `val_acc` which is not available. Available metrics are: loss,accuracy,val_loss,val_accuracy\n"
     ]
    },
    {
     "name": "stdout",
     "output_type": "stream",
     "text": [
      "Epoch 27/100\n",
      "250/250 [==============================] - 7s 26ms/step - loss: 0.0103 - accuracy: 0.9968 - val_loss: 0.8486 - val_accuracy: 0.8596\n",
      "WARNING:tensorflow:Early stopping conditioned on metric `val_acc` which is not available. Available metrics are: loss,accuracy,val_loss,val_accuracy\n"
     ]
    },
    {
     "name": "stderr",
     "output_type": "stream",
     "text": [
      "2021-11-17 18:31:27,565 : WARNING : Early stopping conditioned on metric `val_acc` which is not available. Available metrics are: loss,accuracy,val_loss,val_accuracy\n"
     ]
    },
    {
     "name": "stdout",
     "output_type": "stream",
     "text": [
      "Epoch 28/100\n",
      "250/250 [==============================] - 7s 26ms/step - loss: 0.0041 - accuracy: 0.9986 - val_loss: 0.9108 - val_accuracy: 0.8644\n",
      "WARNING:tensorflow:Early stopping conditioned on metric `val_acc` which is not available. Available metrics are: loss,accuracy,val_loss,val_accuracy\n"
     ]
    },
    {
     "name": "stderr",
     "output_type": "stream",
     "text": [
      "2021-11-17 18:31:34,183 : WARNING : Early stopping conditioned on metric `val_acc` which is not available. Available metrics are: loss,accuracy,val_loss,val_accuracy\n"
     ]
    },
    {
     "name": "stdout",
     "output_type": "stream",
     "text": [
      "Epoch 29/100\n",
      "250/250 [==============================] - 7s 26ms/step - loss: 0.0027 - accuracy: 0.9991 - val_loss: 0.9185 - val_accuracy: 0.8640\n",
      "WARNING:tensorflow:Early stopping conditioned on metric `val_acc` which is not available. Available metrics are: loss,accuracy,val_loss,val_accuracy\n"
     ]
    },
    {
     "name": "stderr",
     "output_type": "stream",
     "text": [
      "2021-11-17 18:31:40,805 : WARNING : Early stopping conditioned on metric `val_acc` which is not available. Available metrics are: loss,accuracy,val_loss,val_accuracy\n"
     ]
    },
    {
     "name": "stdout",
     "output_type": "stream",
     "text": [
      "Epoch 30/100\n",
      "250/250 [==============================] - 7s 26ms/step - loss: 0.0019 - accuracy: 0.9990 - val_loss: 0.9617 - val_accuracy: 0.8646\n",
      "WARNING:tensorflow:Early stopping conditioned on metric `val_acc` which is not available. Available metrics are: loss,accuracy,val_loss,val_accuracy\n"
     ]
    },
    {
     "name": "stderr",
     "output_type": "stream",
     "text": [
      "2021-11-17 18:31:47,399 : WARNING : Early stopping conditioned on metric `val_acc` which is not available. Available metrics are: loss,accuracy,val_loss,val_accuracy\n"
     ]
    },
    {
     "name": "stdout",
     "output_type": "stream",
     "text": [
      "Epoch 31/100\n",
      "250/250 [==============================] - 7s 26ms/step - loss: 0.0031 - accuracy: 0.9986 - val_loss: 0.9750 - val_accuracy: 0.8664\n",
      "WARNING:tensorflow:Early stopping conditioned on metric `val_acc` which is not available. Available metrics are: loss,accuracy,val_loss,val_accuracy\n"
     ]
    },
    {
     "name": "stderr",
     "output_type": "stream",
     "text": [
      "2021-11-17 18:31:53,992 : WARNING : Early stopping conditioned on metric `val_acc` which is not available. Available metrics are: loss,accuracy,val_loss,val_accuracy\n"
     ]
    },
    {
     "name": "stdout",
     "output_type": "stream",
     "text": [
      "Epoch 32/100\n",
      "250/250 [==============================] - 7s 27ms/step - loss: 0.0021 - accuracy: 0.9989 - val_loss: 1.0080 - val_accuracy: 0.8654\n",
      "WARNING:tensorflow:Early stopping conditioned on metric `val_acc` which is not available. Available metrics are: loss,accuracy,val_loss,val_accuracy\n"
     ]
    },
    {
     "name": "stderr",
     "output_type": "stream",
     "text": [
      "2021-11-17 18:32:00,624 : WARNING : Early stopping conditioned on metric `val_acc` which is not available. Available metrics are: loss,accuracy,val_loss,val_accuracy\n"
     ]
    },
    {
     "name": "stdout",
     "output_type": "stream",
     "text": [
      "Epoch 33/100\n",
      "250/250 [==============================] - 7s 27ms/step - loss: 0.0015 - accuracy: 0.9992 - val_loss: 1.0171 - val_accuracy: 0.8630\n",
      "WARNING:tensorflow:Early stopping conditioned on metric `val_acc` which is not available. Available metrics are: loss,accuracy,val_loss,val_accuracy\n"
     ]
    },
    {
     "name": "stderr",
     "output_type": "stream",
     "text": [
      "2021-11-17 18:32:07,254 : WARNING : Early stopping conditioned on metric `val_acc` which is not available. Available metrics are: loss,accuracy,val_loss,val_accuracy\n"
     ]
    },
    {
     "name": "stdout",
     "output_type": "stream",
     "text": [
      "Epoch 34/100\n",
      "250/250 [==============================] - 7s 26ms/step - loss: 0.0011 - accuracy: 0.9993 - val_loss: 1.0383 - val_accuracy: 0.8635\n",
      "WARNING:tensorflow:Early stopping conditioned on metric `val_acc` which is not available. Available metrics are: loss,accuracy,val_loss,val_accuracy\n"
     ]
    },
    {
     "name": "stderr",
     "output_type": "stream",
     "text": [
      "2021-11-17 18:32:13,854 : WARNING : Early stopping conditioned on metric `val_acc` which is not available. Available metrics are: loss,accuracy,val_loss,val_accuracy\n"
     ]
    },
    {
     "name": "stdout",
     "output_type": "stream",
     "text": [
      "Epoch 35/100\n",
      "250/250 [==============================] - 7s 26ms/step - loss: 0.0015 - accuracy: 0.9991 - val_loss: 1.0568 - val_accuracy: 0.8635\n",
      "WARNING:tensorflow:Early stopping conditioned on metric `val_acc` which is not available. Available metrics are: loss,accuracy,val_loss,val_accuracy\n"
     ]
    },
    {
     "name": "stderr",
     "output_type": "stream",
     "text": [
      "2021-11-17 18:32:20,480 : WARNING : Early stopping conditioned on metric `val_acc` which is not available. Available metrics are: loss,accuracy,val_loss,val_accuracy\n"
     ]
    },
    {
     "name": "stdout",
     "output_type": "stream",
     "text": [
      "Epoch 36/100\n",
      "250/250 [==============================] - 7s 26ms/step - loss: 0.0014 - accuracy: 0.9994 - val_loss: 1.0575 - val_accuracy: 0.8630\n",
      "WARNING:tensorflow:Early stopping conditioned on metric `val_acc` which is not available. Available metrics are: loss,accuracy,val_loss,val_accuracy\n"
     ]
    },
    {
     "name": "stderr",
     "output_type": "stream",
     "text": [
      "2021-11-17 18:32:27,089 : WARNING : Early stopping conditioned on metric `val_acc` which is not available. Available metrics are: loss,accuracy,val_loss,val_accuracy\n"
     ]
    },
    {
     "name": "stdout",
     "output_type": "stream",
     "text": [
      "Epoch 37/100\n",
      "250/250 [==============================] - 7s 27ms/step - loss: 0.0017 - accuracy: 0.9993 - val_loss: 1.0230 - val_accuracy: 0.8627\n",
      "WARNING:tensorflow:Early stopping conditioned on metric `val_acc` which is not available. Available metrics are: loss,accuracy,val_loss,val_accuracy\n"
     ]
    },
    {
     "name": "stderr",
     "output_type": "stream",
     "text": [
      "2021-11-17 18:32:33,721 : WARNING : Early stopping conditioned on metric `val_acc` which is not available. Available metrics are: loss,accuracy,val_loss,val_accuracy\n"
     ]
    },
    {
     "name": "stdout",
     "output_type": "stream",
     "text": [
      "Epoch 38/100\n",
      "250/250 [==============================] - 7s 26ms/step - loss: 0.0015 - accuracy: 0.9993 - val_loss: 1.0458 - val_accuracy: 0.8636\n",
      "WARNING:tensorflow:Early stopping conditioned on metric `val_acc` which is not available. Available metrics are: loss,accuracy,val_loss,val_accuracy\n"
     ]
    },
    {
     "name": "stderr",
     "output_type": "stream",
     "text": [
      "2021-11-17 18:32:40,315 : WARNING : Early stopping conditioned on metric `val_acc` which is not available. Available metrics are: loss,accuracy,val_loss,val_accuracy\n"
     ]
    },
    {
     "name": "stdout",
     "output_type": "stream",
     "text": [
      "Epoch 39/100\n",
      "250/250 [==============================] - 7s 26ms/step - loss: 0.0023 - accuracy: 0.9989 - val_loss: 1.0588 - val_accuracy: 0.8600\n",
      "WARNING:tensorflow:Early stopping conditioned on metric `val_acc` which is not available. Available metrics are: loss,accuracy,val_loss,val_accuracy\n"
     ]
    },
    {
     "name": "stderr",
     "output_type": "stream",
     "text": [
      "2021-11-17 18:32:46,918 : WARNING : Early stopping conditioned on metric `val_acc` which is not available. Available metrics are: loss,accuracy,val_loss,val_accuracy\n"
     ]
    },
    {
     "name": "stdout",
     "output_type": "stream",
     "text": [
      "Epoch 40/100\n",
      "250/250 [==============================] - 7s 26ms/step - loss: 0.0073 - accuracy: 0.9975 - val_loss: 1.0609 - val_accuracy: 0.8577\n",
      "WARNING:tensorflow:Early stopping conditioned on metric `val_acc` which is not available. Available metrics are: loss,accuracy,val_loss,val_accuracy\n"
     ]
    },
    {
     "name": "stderr",
     "output_type": "stream",
     "text": [
      "2021-11-17 18:32:53,539 : WARNING : Early stopping conditioned on metric `val_acc` which is not available. Available metrics are: loss,accuracy,val_loss,val_accuracy\n"
     ]
    },
    {
     "name": "stdout",
     "output_type": "stream",
     "text": [
      "Epoch 41/100\n",
      "250/250 [==============================] - 7s 27ms/step - loss: 0.0139 - accuracy: 0.9959 - val_loss: 0.9931 - val_accuracy: 0.8509\n",
      "WARNING:tensorflow:Early stopping conditioned on metric `val_acc` which is not available. Available metrics are: loss,accuracy,val_loss,val_accuracy\n"
     ]
    },
    {
     "name": "stderr",
     "output_type": "stream",
     "text": [
      "2021-11-17 18:33:00,168 : WARNING : Early stopping conditioned on metric `val_acc` which is not available. Available metrics are: loss,accuracy,val_loss,val_accuracy\n"
     ]
    },
    {
     "name": "stdout",
     "output_type": "stream",
     "text": [
      "Epoch 42/100\n",
      "250/250 [==============================] - 7s 26ms/step - loss: 0.0174 - accuracy: 0.9946 - val_loss: 0.9194 - val_accuracy: 0.8543\n",
      "WARNING:tensorflow:Early stopping conditioned on metric `val_acc` which is not available. Available metrics are: loss,accuracy,val_loss,val_accuracy\n"
     ]
    },
    {
     "name": "stderr",
     "output_type": "stream",
     "text": [
      "2021-11-17 18:33:06,793 : WARNING : Early stopping conditioned on metric `val_acc` which is not available. Available metrics are: loss,accuracy,val_loss,val_accuracy\n"
     ]
    },
    {
     "name": "stdout",
     "output_type": "stream",
     "text": [
      "Epoch 43/100\n",
      "250/250 [==============================] - 7s 26ms/step - loss: 0.0160 - accuracy: 0.9957 - val_loss: 0.9049 - val_accuracy: 0.8589\n",
      "WARNING:tensorflow:Early stopping conditioned on metric `val_acc` which is not available. Available metrics are: loss,accuracy,val_loss,val_accuracy\n"
     ]
    },
    {
     "name": "stderr",
     "output_type": "stream",
     "text": [
      "2021-11-17 18:33:13,392 : WARNING : Early stopping conditioned on metric `val_acc` which is not available. Available metrics are: loss,accuracy,val_loss,val_accuracy\n"
     ]
    },
    {
     "name": "stdout",
     "output_type": "stream",
     "text": [
      "Epoch 44/100\n",
      "250/250 [==============================] - 7s 26ms/step - loss: 0.0077 - accuracy: 0.9980 - val_loss: 0.9521 - val_accuracy: 0.8601\n",
      "WARNING:tensorflow:Early stopping conditioned on metric `val_acc` which is not available. Available metrics are: loss,accuracy,val_loss,val_accuracy\n"
     ]
    },
    {
     "name": "stderr",
     "output_type": "stream",
     "text": [
      "2021-11-17 18:33:20,007 : WARNING : Early stopping conditioned on metric `val_acc` which is not available. Available metrics are: loss,accuracy,val_loss,val_accuracy\n"
     ]
    },
    {
     "name": "stdout",
     "output_type": "stream",
     "text": [
      "Epoch 45/100\n",
      "250/250 [==============================] - 7s 26ms/step - loss: 0.0049 - accuracy: 0.9988 - val_loss: 0.9861 - val_accuracy: 0.8602\n",
      "WARNING:tensorflow:Early stopping conditioned on metric `val_acc` which is not available. Available metrics are: loss,accuracy,val_loss,val_accuracy\n"
     ]
    },
    {
     "name": "stderr",
     "output_type": "stream",
     "text": [
      "2021-11-17 18:33:26,611 : WARNING : Early stopping conditioned on metric `val_acc` which is not available. Available metrics are: loss,accuracy,val_loss,val_accuracy\n"
     ]
    },
    {
     "name": "stdout",
     "output_type": "stream",
     "text": [
      "Epoch 46/100\n",
      "250/250 [==============================] - 7s 27ms/step - loss: 0.0023 - accuracy: 0.9991 - val_loss: 1.0284 - val_accuracy: 0.8621\n",
      "WARNING:tensorflow:Early stopping conditioned on metric `val_acc` which is not available. Available metrics are: loss,accuracy,val_loss,val_accuracy\n"
     ]
    },
    {
     "name": "stderr",
     "output_type": "stream",
     "text": [
      "2021-11-17 18:33:33,243 : WARNING : Early stopping conditioned on metric `val_acc` which is not available. Available metrics are: loss,accuracy,val_loss,val_accuracy\n"
     ]
    },
    {
     "name": "stdout",
     "output_type": "stream",
     "text": [
      "Epoch 47/100\n",
      "250/250 [==============================] - 7s 26ms/step - loss: 0.0017 - accuracy: 0.9992 - val_loss: 1.0725 - val_accuracy: 0.8625\n",
      "WARNING:tensorflow:Early stopping conditioned on metric `val_acc` which is not available. Available metrics are: loss,accuracy,val_loss,val_accuracy\n"
     ]
    },
    {
     "name": "stderr",
     "output_type": "stream",
     "text": [
      "2021-11-17 18:33:39,868 : WARNING : Early stopping conditioned on metric `val_acc` which is not available. Available metrics are: loss,accuracy,val_loss,val_accuracy\n"
     ]
    },
    {
     "name": "stdout",
     "output_type": "stream",
     "text": [
      "Epoch 48/100\n",
      "250/250 [==============================] - 7s 27ms/step - loss: 0.0022 - accuracy: 0.9993 - val_loss: 1.0811 - val_accuracy: 0.8629\n",
      "WARNING:tensorflow:Early stopping conditioned on metric `val_acc` which is not available. Available metrics are: loss,accuracy,val_loss,val_accuracy\n"
     ]
    },
    {
     "name": "stderr",
     "output_type": "stream",
     "text": [
      "2021-11-17 18:33:46,498 : WARNING : Early stopping conditioned on metric `val_acc` which is not available. Available metrics are: loss,accuracy,val_loss,val_accuracy\n"
     ]
    },
    {
     "name": "stdout",
     "output_type": "stream",
     "text": [
      "Epoch 49/100\n",
      "250/250 [==============================] - 7s 27ms/step - loss: 0.0018 - accuracy: 0.9991 - val_loss: 1.1158 - val_accuracy: 0.8611\n",
      "WARNING:tensorflow:Early stopping conditioned on metric `val_acc` which is not available. Available metrics are: loss,accuracy,val_loss,val_accuracy\n"
     ]
    },
    {
     "name": "stderr",
     "output_type": "stream",
     "text": [
      "2021-11-17 18:33:53,127 : WARNING : Early stopping conditioned on metric `val_acc` which is not available. Available metrics are: loss,accuracy,val_loss,val_accuracy\n"
     ]
    },
    {
     "name": "stdout",
     "output_type": "stream",
     "text": [
      "Epoch 50/100\n",
      "250/250 [==============================] - 7s 26ms/step - loss: 0.0017 - accuracy: 0.9992 - val_loss: 1.1458 - val_accuracy: 0.8600\n",
      "WARNING:tensorflow:Early stopping conditioned on metric `val_acc` which is not available. Available metrics are: loss,accuracy,val_loss,val_accuracy\n"
     ]
    },
    {
     "name": "stderr",
     "output_type": "stream",
     "text": [
      "2021-11-17 18:33:59,747 : WARNING : Early stopping conditioned on metric `val_acc` which is not available. Available metrics are: loss,accuracy,val_loss,val_accuracy\n"
     ]
    },
    {
     "name": "stdout",
     "output_type": "stream",
     "text": [
      "Epoch 51/100\n",
      "250/250 [==============================] - 7s 26ms/step - loss: 0.0014 - accuracy: 0.9994 - val_loss: 1.1474 - val_accuracy: 0.8616\n",
      "WARNING:tensorflow:Early stopping conditioned on metric `val_acc` which is not available. Available metrics are: loss,accuracy,val_loss,val_accuracy\n"
     ]
    },
    {
     "name": "stderr",
     "output_type": "stream",
     "text": [
      "2021-11-17 18:34:06,360 : WARNING : Early stopping conditioned on metric `val_acc` which is not available. Available metrics are: loss,accuracy,val_loss,val_accuracy\n"
     ]
    },
    {
     "name": "stdout",
     "output_type": "stream",
     "text": [
      "Epoch 52/100\n",
      "250/250 [==============================] - 7s 26ms/step - loss: 0.0016 - accuracy: 0.9992 - val_loss: 1.1597 - val_accuracy: 0.8611\n",
      "WARNING:tensorflow:Early stopping conditioned on metric `val_acc` which is not available. Available metrics are: loss,accuracy,val_loss,val_accuracy\n"
     ]
    },
    {
     "name": "stderr",
     "output_type": "stream",
     "text": [
      "2021-11-17 18:34:12,978 : WARNING : Early stopping conditioned on metric `val_acc` which is not available. Available metrics are: loss,accuracy,val_loss,val_accuracy\n"
     ]
    },
    {
     "name": "stdout",
     "output_type": "stream",
     "text": [
      "Epoch 53/100\n",
      "250/250 [==============================] - 7s 27ms/step - loss: 0.0027 - accuracy: 0.9987 - val_loss: 1.1799 - val_accuracy: 0.8589\n",
      "WARNING:tensorflow:Early stopping conditioned on metric `val_acc` which is not available. Available metrics are: loss,accuracy,val_loss,val_accuracy\n"
     ]
    },
    {
     "name": "stderr",
     "output_type": "stream",
     "text": [
      "2021-11-17 18:34:19,608 : WARNING : Early stopping conditioned on metric `val_acc` which is not available. Available metrics are: loss,accuracy,val_loss,val_accuracy\n"
     ]
    },
    {
     "name": "stdout",
     "output_type": "stream",
     "text": [
      "Epoch 54/100\n",
      "250/250 [==============================] - 7s 27ms/step - loss: 0.0050 - accuracy: 0.9987 - val_loss: 1.1987 - val_accuracy: 0.8610\n",
      "WARNING:tensorflow:Early stopping conditioned on metric `val_acc` which is not available. Available metrics are: loss,accuracy,val_loss,val_accuracy\n"
     ]
    },
    {
     "name": "stderr",
     "output_type": "stream",
     "text": [
      "2021-11-17 18:34:26,280 : WARNING : Early stopping conditioned on metric `val_acc` which is not available. Available metrics are: loss,accuracy,val_loss,val_accuracy\n"
     ]
    },
    {
     "name": "stdout",
     "output_type": "stream",
     "text": [
      "Epoch 55/100\n",
      "250/250 [==============================] - 7s 27ms/step - loss: 0.0050 - accuracy: 0.9984 - val_loss: 1.1218 - val_accuracy: 0.8544\n",
      "WARNING:tensorflow:Early stopping conditioned on metric `val_acc` which is not available. Available metrics are: loss,accuracy,val_loss,val_accuracy\n"
     ]
    },
    {
     "name": "stderr",
     "output_type": "stream",
     "text": [
      "2021-11-17 18:34:32,961 : WARNING : Early stopping conditioned on metric `val_acc` which is not available. Available metrics are: loss,accuracy,val_loss,val_accuracy\n"
     ]
    },
    {
     "name": "stdout",
     "output_type": "stream",
     "text": [
      "Epoch 56/100\n",
      "250/250 [==============================] - 7s 27ms/step - loss: 0.0139 - accuracy: 0.9966 - val_loss: 1.0934 - val_accuracy: 0.8555\n",
      "WARNING:tensorflow:Early stopping conditioned on metric `val_acc` which is not available. Available metrics are: loss,accuracy,val_loss,val_accuracy\n"
     ]
    },
    {
     "name": "stderr",
     "output_type": "stream",
     "text": [
      "2021-11-17 18:34:39,605 : WARNING : Early stopping conditioned on metric `val_acc` which is not available. Available metrics are: loss,accuracy,val_loss,val_accuracy\n"
     ]
    },
    {
     "name": "stdout",
     "output_type": "stream",
     "text": [
      "Epoch 57/100\n",
      "250/250 [==============================] - 7s 26ms/step - loss: 0.0089 - accuracy: 0.9975 - val_loss: 1.0967 - val_accuracy: 0.8593\n",
      "WARNING:tensorflow:Early stopping conditioned on metric `val_acc` which is not available. Available metrics are: loss,accuracy,val_loss,val_accuracy\n"
     ]
    },
    {
     "name": "stderr",
     "output_type": "stream",
     "text": [
      "2021-11-17 18:34:46,218 : WARNING : Early stopping conditioned on metric `val_acc` which is not available. Available metrics are: loss,accuracy,val_loss,val_accuracy\n"
     ]
    },
    {
     "name": "stdout",
     "output_type": "stream",
     "text": [
      "Epoch 58/100\n",
      "250/250 [==============================] - 7s 26ms/step - loss: 0.0057 - accuracy: 0.9983 - val_loss: 1.0910 - val_accuracy: 0.8606\n",
      "WARNING:tensorflow:Early stopping conditioned on metric `val_acc` which is not available. Available metrics are: loss,accuracy,val_loss,val_accuracy\n"
     ]
    },
    {
     "name": "stderr",
     "output_type": "stream",
     "text": [
      "2021-11-17 18:34:52,827 : WARNING : Early stopping conditioned on metric `val_acc` which is not available. Available metrics are: loss,accuracy,val_loss,val_accuracy\n"
     ]
    },
    {
     "name": "stdout",
     "output_type": "stream",
     "text": [
      "Epoch 59/100\n",
      "250/250 [==============================] - 7s 27ms/step - loss: 0.0056 - accuracy: 0.9984 - val_loss: 1.0916 - val_accuracy: 0.8599\n",
      "WARNING:tensorflow:Early stopping conditioned on metric `val_acc` which is not available. Available metrics are: loss,accuracy,val_loss,val_accuracy\n"
     ]
    },
    {
     "name": "stderr",
     "output_type": "stream",
     "text": [
      "2021-11-17 18:34:59,482 : WARNING : Early stopping conditioned on metric `val_acc` which is not available. Available metrics are: loss,accuracy,val_loss,val_accuracy\n"
     ]
    },
    {
     "name": "stdout",
     "output_type": "stream",
     "text": [
      "Epoch 60/100\n",
      "250/250 [==============================] - 7s 26ms/step - loss: 0.0032 - accuracy: 0.9989 - val_loss: 1.0928 - val_accuracy: 0.8619\n",
      "WARNING:tensorflow:Early stopping conditioned on metric `val_acc` which is not available. Available metrics are: loss,accuracy,val_loss,val_accuracy\n"
     ]
    },
    {
     "name": "stderr",
     "output_type": "stream",
     "text": [
      "2021-11-17 18:35:06,102 : WARNING : Early stopping conditioned on metric `val_acc` which is not available. Available metrics are: loss,accuracy,val_loss,val_accuracy\n"
     ]
    },
    {
     "name": "stdout",
     "output_type": "stream",
     "text": [
      "Epoch 61/100\n",
      "250/250 [==============================] - 7s 26ms/step - loss: 0.0037 - accuracy: 0.9986 - val_loss: 1.0855 - val_accuracy: 0.8608\n",
      "WARNING:tensorflow:Early stopping conditioned on metric `val_acc` which is not available. Available metrics are: loss,accuracy,val_loss,val_accuracy\n"
     ]
    },
    {
     "name": "stderr",
     "output_type": "stream",
     "text": [
      "2021-11-17 18:35:12,722 : WARNING : Early stopping conditioned on metric `val_acc` which is not available. Available metrics are: loss,accuracy,val_loss,val_accuracy\n"
     ]
    },
    {
     "name": "stdout",
     "output_type": "stream",
     "text": [
      "Epoch 62/100\n",
      "250/250 [==============================] - 7s 26ms/step - loss: 0.0016 - accuracy: 0.9992 - val_loss: 1.1542 - val_accuracy: 0.8626\n",
      "WARNING:tensorflow:Early stopping conditioned on metric `val_acc` which is not available. Available metrics are: loss,accuracy,val_loss,val_accuracy\n"
     ]
    },
    {
     "name": "stderr",
     "output_type": "stream",
     "text": [
      "2021-11-17 18:35:19,347 : WARNING : Early stopping conditioned on metric `val_acc` which is not available. Available metrics are: loss,accuracy,val_loss,val_accuracy\n"
     ]
    },
    {
     "name": "stdout",
     "output_type": "stream",
     "text": [
      "Epoch 63/100\n",
      "250/250 [==============================] - 7s 27ms/step - loss: 0.0015 - accuracy: 0.9993 - val_loss: 1.2181 - val_accuracy: 0.8646\n",
      "WARNING:tensorflow:Early stopping conditioned on metric `val_acc` which is not available. Available metrics are: loss,accuracy,val_loss,val_accuracy\n"
     ]
    },
    {
     "name": "stderr",
     "output_type": "stream",
     "text": [
      "2021-11-17 18:35:25,986 : WARNING : Early stopping conditioned on metric `val_acc` which is not available. Available metrics are: loss,accuracy,val_loss,val_accuracy\n"
     ]
    },
    {
     "name": "stdout",
     "output_type": "stream",
     "text": [
      "Epoch 64/100\n",
      "250/250 [==============================] - 7s 26ms/step - loss: 0.0014 - accuracy: 0.9994 - val_loss: 1.2316 - val_accuracy: 0.8629\n",
      "WARNING:tensorflow:Early stopping conditioned on metric `val_acc` which is not available. Available metrics are: loss,accuracy,val_loss,val_accuracy\n"
     ]
    },
    {
     "name": "stderr",
     "output_type": "stream",
     "text": [
      "2021-11-17 18:35:32,608 : WARNING : Early stopping conditioned on metric `val_acc` which is not available. Available metrics are: loss,accuracy,val_loss,val_accuracy\n"
     ]
    },
    {
     "name": "stdout",
     "output_type": "stream",
     "text": [
      "Epoch 65/100\n",
      "250/250 [==============================] - 7s 26ms/step - loss: 0.0014 - accuracy: 0.9993 - val_loss: 1.2714 - val_accuracy: 0.8584\n",
      "WARNING:tensorflow:Early stopping conditioned on metric `val_acc` which is not available. Available metrics are: loss,accuracy,val_loss,val_accuracy\n"
     ]
    },
    {
     "name": "stderr",
     "output_type": "stream",
     "text": [
      "2021-11-17 18:35:39,229 : WARNING : Early stopping conditioned on metric `val_acc` which is not available. Available metrics are: loss,accuracy,val_loss,val_accuracy\n"
     ]
    },
    {
     "name": "stdout",
     "output_type": "stream",
     "text": [
      "Epoch 66/100\n",
      "250/250 [==============================] - 7s 27ms/step - loss: 0.0048 - accuracy: 0.9987 - val_loss: 1.1801 - val_accuracy: 0.8626\n",
      "WARNING:tensorflow:Early stopping conditioned on metric `val_acc` which is not available. Available metrics are: loss,accuracy,val_loss,val_accuracy\n"
     ]
    },
    {
     "name": "stderr",
     "output_type": "stream",
     "text": [
      "2021-11-17 18:35:45,879 : WARNING : Early stopping conditioned on metric `val_acc` which is not available. Available metrics are: loss,accuracy,val_loss,val_accuracy\n"
     ]
    },
    {
     "name": "stdout",
     "output_type": "stream",
     "text": [
      "Epoch 67/100\n",
      "250/250 [==============================] - 7s 26ms/step - loss: 0.0027 - accuracy: 0.9990 - val_loss: 1.1808 - val_accuracy: 0.8643\n",
      "WARNING:tensorflow:Early stopping conditioned on metric `val_acc` which is not available. Available metrics are: loss,accuracy,val_loss,val_accuracy\n"
     ]
    },
    {
     "name": "stderr",
     "output_type": "stream",
     "text": [
      "2021-11-17 18:35:52,495 : WARNING : Early stopping conditioned on metric `val_acc` which is not available. Available metrics are: loss,accuracy,val_loss,val_accuracy\n"
     ]
    },
    {
     "name": "stdout",
     "output_type": "stream",
     "text": [
      "Epoch 68/100\n",
      "250/250 [==============================] - 7s 26ms/step - loss: 0.0031 - accuracy: 0.9990 - val_loss: 1.1564 - val_accuracy: 0.8622\n",
      "WARNING:tensorflow:Early stopping conditioned on metric `val_acc` which is not available. Available metrics are: loss,accuracy,val_loss,val_accuracy\n"
     ]
    },
    {
     "name": "stderr",
     "output_type": "stream",
     "text": [
      "2021-11-17 18:35:59,111 : WARNING : Early stopping conditioned on metric `val_acc` which is not available. Available metrics are: loss,accuracy,val_loss,val_accuracy\n"
     ]
    },
    {
     "name": "stdout",
     "output_type": "stream",
     "text": [
      "Epoch 69/100\n",
      "250/250 [==============================] - 7s 26ms/step - loss: 0.0025 - accuracy: 0.9987 - val_loss: 1.2036 - val_accuracy: 0.8621\n",
      "WARNING:tensorflow:Early stopping conditioned on metric `val_acc` which is not available. Available metrics are: loss,accuracy,val_loss,val_accuracy\n"
     ]
    },
    {
     "name": "stderr",
     "output_type": "stream",
     "text": [
      "2021-11-17 18:36:05,727 : WARNING : Early stopping conditioned on metric `val_acc` which is not available. Available metrics are: loss,accuracy,val_loss,val_accuracy\n"
     ]
    },
    {
     "name": "stdout",
     "output_type": "stream",
     "text": [
      "Epoch 70/100\n",
      "250/250 [==============================] - 7s 26ms/step - loss: 0.0027 - accuracy: 0.9990 - val_loss: 1.2076 - val_accuracy: 0.8616\n",
      "WARNING:tensorflow:Early stopping conditioned on metric `val_acc` which is not available. Available metrics are: loss,accuracy,val_loss,val_accuracy\n"
     ]
    },
    {
     "name": "stderr",
     "output_type": "stream",
     "text": [
      "2021-11-17 18:36:12,340 : WARNING : Early stopping conditioned on metric `val_acc` which is not available. Available metrics are: loss,accuracy,val_loss,val_accuracy\n"
     ]
    },
    {
     "name": "stdout",
     "output_type": "stream",
     "text": [
      "Epoch 71/100\n",
      "250/250 [==============================] - 7s 26ms/step - loss: 0.0025 - accuracy: 0.9991 - val_loss: 1.2212 - val_accuracy: 0.8610\n",
      "WARNING:tensorflow:Early stopping conditioned on metric `val_acc` which is not available. Available metrics are: loss,accuracy,val_loss,val_accuracy\n"
     ]
    },
    {
     "name": "stderr",
     "output_type": "stream",
     "text": [
      "2021-11-17 18:36:18,952 : WARNING : Early stopping conditioned on metric `val_acc` which is not available. Available metrics are: loss,accuracy,val_loss,val_accuracy\n"
     ]
    },
    {
     "name": "stdout",
     "output_type": "stream",
     "text": [
      "Epoch 72/100\n",
      "250/250 [==============================] - 7s 27ms/step - loss: 0.0047 - accuracy: 0.9989 - val_loss: 1.1804 - val_accuracy: 0.8658\n",
      "WARNING:tensorflow:Early stopping conditioned on metric `val_acc` which is not available. Available metrics are: loss,accuracy,val_loss,val_accuracy\n"
     ]
    },
    {
     "name": "stderr",
     "output_type": "stream",
     "text": [
      "2021-11-17 18:36:25,608 : WARNING : Early stopping conditioned on metric `val_acc` which is not available. Available metrics are: loss,accuracy,val_loss,val_accuracy\n"
     ]
    },
    {
     "name": "stdout",
     "output_type": "stream",
     "text": [
      "Epoch 73/100\n",
      "250/250 [==============================] - 7s 27ms/step - loss: 0.0026 - accuracy: 0.9993 - val_loss: 1.2228 - val_accuracy: 0.8624\n",
      "WARNING:tensorflow:Early stopping conditioned on metric `val_acc` which is not available. Available metrics are: loss,accuracy,val_loss,val_accuracy\n"
     ]
    },
    {
     "name": "stderr",
     "output_type": "stream",
     "text": [
      "2021-11-17 18:36:32,249 : WARNING : Early stopping conditioned on metric `val_acc` which is not available. Available metrics are: loss,accuracy,val_loss,val_accuracy\n"
     ]
    },
    {
     "name": "stdout",
     "output_type": "stream",
     "text": [
      "Epoch 74/100\n",
      "250/250 [==============================] - 7s 27ms/step - loss: 0.0042 - accuracy: 0.9986 - val_loss: 1.1442 - val_accuracy: 0.8621\n",
      "WARNING:tensorflow:Early stopping conditioned on metric `val_acc` which is not available. Available metrics are: loss,accuracy,val_loss,val_accuracy\n"
     ]
    },
    {
     "name": "stderr",
     "output_type": "stream",
     "text": [
      "2021-11-17 18:36:38,890 : WARNING : Early stopping conditioned on metric `val_acc` which is not available. Available metrics are: loss,accuracy,val_loss,val_accuracy\n"
     ]
    },
    {
     "name": "stdout",
     "output_type": "stream",
     "text": [
      "Epoch 75/100\n",
      "250/250 [==============================] - 7s 27ms/step - loss: 0.0026 - accuracy: 0.9991 - val_loss: 1.2274 - val_accuracy: 0.8630\n",
      "WARNING:tensorflow:Early stopping conditioned on metric `val_acc` which is not available. Available metrics are: loss,accuracy,val_loss,val_accuracy\n"
     ]
    },
    {
     "name": "stderr",
     "output_type": "stream",
     "text": [
      "2021-11-17 18:36:45,529 : WARNING : Early stopping conditioned on metric `val_acc` which is not available. Available metrics are: loss,accuracy,val_loss,val_accuracy\n"
     ]
    },
    {
     "name": "stdout",
     "output_type": "stream",
     "text": [
      "Epoch 76/100\n",
      "250/250 [==============================] - 7s 26ms/step - loss: 0.0024 - accuracy: 0.9992 - val_loss: 1.2236 - val_accuracy: 0.8629\n",
      "WARNING:tensorflow:Early stopping conditioned on metric `val_acc` which is not available. Available metrics are: loss,accuracy,val_loss,val_accuracy\n"
     ]
    },
    {
     "name": "stderr",
     "output_type": "stream",
     "text": [
      "2021-11-17 18:36:52,147 : WARNING : Early stopping conditioned on metric `val_acc` which is not available. Available metrics are: loss,accuracy,val_loss,val_accuracy\n"
     ]
    },
    {
     "name": "stdout",
     "output_type": "stream",
     "text": [
      "Epoch 77/100\n",
      "250/250 [==============================] - 7s 27ms/step - loss: 0.0044 - accuracy: 0.9988 - val_loss: 1.2036 - val_accuracy: 0.8599\n",
      "WARNING:tensorflow:Early stopping conditioned on metric `val_acc` which is not available. Available metrics are: loss,accuracy,val_loss,val_accuracy\n"
     ]
    },
    {
     "name": "stderr",
     "output_type": "stream",
     "text": [
      "2021-11-17 18:36:58,785 : WARNING : Early stopping conditioned on metric `val_acc` which is not available. Available metrics are: loss,accuracy,val_loss,val_accuracy\n"
     ]
    },
    {
     "name": "stdout",
     "output_type": "stream",
     "text": [
      "Epoch 78/100\n",
      "250/250 [==============================] - 7s 26ms/step - loss: 0.0045 - accuracy: 0.9988 - val_loss: 1.2045 - val_accuracy: 0.8637\n",
      "WARNING:tensorflow:Early stopping conditioned on metric `val_acc` which is not available. Available metrics are: loss,accuracy,val_loss,val_accuracy\n"
     ]
    },
    {
     "name": "stderr",
     "output_type": "stream",
     "text": [
      "2021-11-17 18:37:05,402 : WARNING : Early stopping conditioned on metric `val_acc` which is not available. Available metrics are: loss,accuracy,val_loss,val_accuracy\n"
     ]
    },
    {
     "name": "stdout",
     "output_type": "stream",
     "text": [
      "Epoch 79/100\n",
      "250/250 [==============================] - 7s 27ms/step - loss: 0.0048 - accuracy: 0.9984 - val_loss: 1.1939 - val_accuracy: 0.8631\n",
      "WARNING:tensorflow:Early stopping conditioned on metric `val_acc` which is not available. Available metrics are: loss,accuracy,val_loss,val_accuracy\n"
     ]
    },
    {
     "name": "stderr",
     "output_type": "stream",
     "text": [
      "2021-11-17 18:37:12,031 : WARNING : Early stopping conditioned on metric `val_acc` which is not available. Available metrics are: loss,accuracy,val_loss,val_accuracy\n"
     ]
    },
    {
     "name": "stdout",
     "output_type": "stream",
     "text": [
      "Epoch 80/100\n",
      "250/250 [==============================] - 7s 27ms/step - loss: 0.0054 - accuracy: 0.9981 - val_loss: 1.1909 - val_accuracy: 0.8659\n",
      "WARNING:tensorflow:Early stopping conditioned on metric `val_acc` which is not available. Available metrics are: loss,accuracy,val_loss,val_accuracy\n"
     ]
    },
    {
     "name": "stderr",
     "output_type": "stream",
     "text": [
      "2021-11-17 18:37:18,659 : WARNING : Early stopping conditioned on metric `val_acc` which is not available. Available metrics are: loss,accuracy,val_loss,val_accuracy\n"
     ]
    },
    {
     "name": "stdout",
     "output_type": "stream",
     "text": [
      "Epoch 81/100\n",
      "250/250 [==============================] - 7s 27ms/step - loss: 0.0024 - accuracy: 0.9992 - val_loss: 1.1920 - val_accuracy: 0.8652\n",
      "WARNING:tensorflow:Early stopping conditioned on metric `val_acc` which is not available. Available metrics are: loss,accuracy,val_loss,val_accuracy\n"
     ]
    },
    {
     "name": "stderr",
     "output_type": "stream",
     "text": [
      "2021-11-17 18:37:25,298 : WARNING : Early stopping conditioned on metric `val_acc` which is not available. Available metrics are: loss,accuracy,val_loss,val_accuracy\n"
     ]
    },
    {
     "name": "stdout",
     "output_type": "stream",
     "text": [
      "Epoch 82/100\n",
      "250/250 [==============================] - 7s 27ms/step - loss: 0.0013 - accuracy: 0.9995 - val_loss: 1.1843 - val_accuracy: 0.8654\n",
      "WARNING:tensorflow:Early stopping conditioned on metric `val_acc` which is not available. Available metrics are: loss,accuracy,val_loss,val_accuracy\n"
     ]
    },
    {
     "name": "stderr",
     "output_type": "stream",
     "text": [
      "2021-11-17 18:37:31,936 : WARNING : Early stopping conditioned on metric `val_acc` which is not available. Available metrics are: loss,accuracy,val_loss,val_accuracy\n"
     ]
    },
    {
     "name": "stdout",
     "output_type": "stream",
     "text": [
      "Epoch 83/100\n",
      "250/250 [==============================] - 7s 27ms/step - loss: 9.2184e-04 - accuracy: 0.9997 - val_loss: 1.2950 - val_accuracy: 0.8637\n",
      "WARNING:tensorflow:Early stopping conditioned on metric `val_acc` which is not available. Available metrics are: loss,accuracy,val_loss,val_accuracy\n"
     ]
    },
    {
     "name": "stderr",
     "output_type": "stream",
     "text": [
      "2021-11-17 18:37:38,605 : WARNING : Early stopping conditioned on metric `val_acc` which is not available. Available metrics are: loss,accuracy,val_loss,val_accuracy\n"
     ]
    },
    {
     "name": "stdout",
     "output_type": "stream",
     "text": [
      "Epoch 84/100\n",
      "250/250 [==============================] - 7s 26ms/step - loss: 0.0016 - accuracy: 0.9994 - val_loss: 1.2778 - val_accuracy: 0.8643\n",
      "WARNING:tensorflow:Early stopping conditioned on metric `val_acc` which is not available. Available metrics are: loss,accuracy,val_loss,val_accuracy\n"
     ]
    },
    {
     "name": "stderr",
     "output_type": "stream",
     "text": [
      "2021-11-17 18:37:45,215 : WARNING : Early stopping conditioned on metric `val_acc` which is not available. Available metrics are: loss,accuracy,val_loss,val_accuracy\n"
     ]
    },
    {
     "name": "stdout",
     "output_type": "stream",
     "text": [
      "Epoch 85/100\n",
      "250/250 [==============================] - 7s 27ms/step - loss: 9.8185e-04 - accuracy: 0.9994 - val_loss: 1.2596 - val_accuracy: 0.8643\n",
      "WARNING:tensorflow:Early stopping conditioned on metric `val_acc` which is not available. Available metrics are: loss,accuracy,val_loss,val_accuracy\n"
     ]
    },
    {
     "name": "stderr",
     "output_type": "stream",
     "text": [
      "2021-11-17 18:37:51,847 : WARNING : Early stopping conditioned on metric `val_acc` which is not available. Available metrics are: loss,accuracy,val_loss,val_accuracy\n"
     ]
    },
    {
     "name": "stdout",
     "output_type": "stream",
     "text": [
      "Epoch 86/100\n",
      "250/250 [==============================] - 7s 27ms/step - loss: 0.0016 - accuracy: 0.9995 - val_loss: 1.2419 - val_accuracy: 0.8671\n",
      "WARNING:tensorflow:Early stopping conditioned on metric `val_acc` which is not available. Available metrics are: loss,accuracy,val_loss,val_accuracy\n"
     ]
    },
    {
     "name": "stderr",
     "output_type": "stream",
     "text": [
      "2021-11-17 18:37:58,495 : WARNING : Early stopping conditioned on metric `val_acc` which is not available. Available metrics are: loss,accuracy,val_loss,val_accuracy\n"
     ]
    },
    {
     "name": "stdout",
     "output_type": "stream",
     "text": [
      "Epoch 87/100\n",
      "250/250 [==============================] - 7s 27ms/step - loss: 0.0025 - accuracy: 0.9992 - val_loss: 1.1465 - val_accuracy: 0.8669\n",
      "WARNING:tensorflow:Early stopping conditioned on metric `val_acc` which is not available. Available metrics are: loss,accuracy,val_loss,val_accuracy\n"
     ]
    },
    {
     "name": "stderr",
     "output_type": "stream",
     "text": [
      "2021-11-17 18:38:05,143 : WARNING : Early stopping conditioned on metric `val_acc` which is not available. Available metrics are: loss,accuracy,val_loss,val_accuracy\n"
     ]
    },
    {
     "name": "stdout",
     "output_type": "stream",
     "text": [
      "Epoch 88/100\n",
      "250/250 [==============================] - 7s 27ms/step - loss: 0.0015 - accuracy: 0.9993 - val_loss: 1.1437 - val_accuracy: 0.8686\n",
      "WARNING:tensorflow:Early stopping conditioned on metric `val_acc` which is not available. Available metrics are: loss,accuracy,val_loss,val_accuracy\n"
     ]
    },
    {
     "name": "stderr",
     "output_type": "stream",
     "text": [
      "2021-11-17 18:38:11,776 : WARNING : Early stopping conditioned on metric `val_acc` which is not available. Available metrics are: loss,accuracy,val_loss,val_accuracy\n"
     ]
    },
    {
     "name": "stdout",
     "output_type": "stream",
     "text": [
      "Epoch 89/100\n",
      "250/250 [==============================] - 7s 26ms/step - loss: 0.0022 - accuracy: 0.9990 - val_loss: 1.1511 - val_accuracy: 0.8666\n",
      "WARNING:tensorflow:Early stopping conditioned on metric `val_acc` which is not available. Available metrics are: loss,accuracy,val_loss,val_accuracy\n"
     ]
    },
    {
     "name": "stderr",
     "output_type": "stream",
     "text": [
      "2021-11-17 18:38:18,389 : WARNING : Early stopping conditioned on metric `val_acc` which is not available. Available metrics are: loss,accuracy,val_loss,val_accuracy\n"
     ]
    },
    {
     "name": "stdout",
     "output_type": "stream",
     "text": [
      "Epoch 90/100\n",
      "250/250 [==============================] - 7s 26ms/step - loss: 0.0025 - accuracy: 0.9993 - val_loss: 1.1305 - val_accuracy: 0.8683\n",
      "WARNING:tensorflow:Early stopping conditioned on metric `val_acc` which is not available. Available metrics are: loss,accuracy,val_loss,val_accuracy\n"
     ]
    },
    {
     "name": "stderr",
     "output_type": "stream",
     "text": [
      "2021-11-17 18:38:24,998 : WARNING : Early stopping conditioned on metric `val_acc` which is not available. Available metrics are: loss,accuracy,val_loss,val_accuracy\n"
     ]
    },
    {
     "name": "stdout",
     "output_type": "stream",
     "text": [
      "Epoch 91/100\n",
      "250/250 [==============================] - 7s 27ms/step - loss: 0.0031 - accuracy: 0.9992 - val_loss: 1.0761 - val_accuracy: 0.8670\n",
      "WARNING:tensorflow:Early stopping conditioned on metric `val_acc` which is not available. Available metrics are: loss,accuracy,val_loss,val_accuracy\n"
     ]
    },
    {
     "name": "stderr",
     "output_type": "stream",
     "text": [
      "2021-11-17 18:38:31,648 : WARNING : Early stopping conditioned on metric `val_acc` which is not available. Available metrics are: loss,accuracy,val_loss,val_accuracy\n"
     ]
    },
    {
     "name": "stdout",
     "output_type": "stream",
     "text": [
      "Epoch 92/100\n",
      "250/250 [==============================] - 7s 27ms/step - loss: 0.0023 - accuracy: 0.9992 - val_loss: 1.1736 - val_accuracy: 0.8666\n",
      "WARNING:tensorflow:Early stopping conditioned on metric `val_acc` which is not available. Available metrics are: loss,accuracy,val_loss,val_accuracy\n"
     ]
    },
    {
     "name": "stderr",
     "output_type": "stream",
     "text": [
      "2021-11-17 18:38:38,427 : WARNING : Early stopping conditioned on metric `val_acc` which is not available. Available metrics are: loss,accuracy,val_loss,val_accuracy\n"
     ]
    },
    {
     "name": "stdout",
     "output_type": "stream",
     "text": [
      "Epoch 93/100\n",
      "250/250 [==============================] - 7s 26ms/step - loss: 8.5328e-04 - accuracy: 0.9995 - val_loss: 1.2446 - val_accuracy: 0.8674\n",
      "WARNING:tensorflow:Early stopping conditioned on metric `val_acc` which is not available. Available metrics are: loss,accuracy,val_loss,val_accuracy\n"
     ]
    },
    {
     "name": "stderr",
     "output_type": "stream",
     "text": [
      "2021-11-17 18:38:45,048 : WARNING : Early stopping conditioned on metric `val_acc` which is not available. Available metrics are: loss,accuracy,val_loss,val_accuracy\n"
     ]
    },
    {
     "name": "stdout",
     "output_type": "stream",
     "text": [
      "Epoch 94/100\n",
      "250/250 [==============================] - 7s 27ms/step - loss: 0.0024 - accuracy: 0.9991 - val_loss: 1.2404 - val_accuracy: 0.8658\n",
      "WARNING:tensorflow:Early stopping conditioned on metric `val_acc` which is not available. Available metrics are: loss,accuracy,val_loss,val_accuracy\n"
     ]
    },
    {
     "name": "stderr",
     "output_type": "stream",
     "text": [
      "2021-11-17 18:38:51,680 : WARNING : Early stopping conditioned on metric `val_acc` which is not available. Available metrics are: loss,accuracy,val_loss,val_accuracy\n"
     ]
    },
    {
     "name": "stdout",
     "output_type": "stream",
     "text": [
      "Epoch 95/100\n",
      "250/250 [==============================] - 7s 26ms/step - loss: 0.0042 - accuracy: 0.9989 - val_loss: 1.2171 - val_accuracy: 0.8643\n",
      "WARNING:tensorflow:Early stopping conditioned on metric `val_acc` which is not available. Available metrics are: loss,accuracy,val_loss,val_accuracy\n"
     ]
    },
    {
     "name": "stderr",
     "output_type": "stream",
     "text": [
      "2021-11-17 18:38:58,305 : WARNING : Early stopping conditioned on metric `val_acc` which is not available. Available metrics are: loss,accuracy,val_loss,val_accuracy\n"
     ]
    },
    {
     "name": "stdout",
     "output_type": "stream",
     "text": [
      "Epoch 96/100\n",
      "250/250 [==============================] - 7s 27ms/step - loss: 0.0043 - accuracy: 0.9981 - val_loss: 1.1505 - val_accuracy: 0.8641\n",
      "WARNING:tensorflow:Early stopping conditioned on metric `val_acc` which is not available. Available metrics are: loss,accuracy,val_loss,val_accuracy\n"
     ]
    },
    {
     "name": "stderr",
     "output_type": "stream",
     "text": [
      "2021-11-17 18:39:04,976 : WARNING : Early stopping conditioned on metric `val_acc` which is not available. Available metrics are: loss,accuracy,val_loss,val_accuracy\n"
     ]
    },
    {
     "name": "stdout",
     "output_type": "stream",
     "text": [
      "Epoch 97/100\n",
      "250/250 [==============================] - 7s 26ms/step - loss: 0.0033 - accuracy: 0.9988 - val_loss: 1.2067 - val_accuracy: 0.8626\n",
      "WARNING:tensorflow:Early stopping conditioned on metric `val_acc` which is not available. Available metrics are: loss,accuracy,val_loss,val_accuracy\n"
     ]
    },
    {
     "name": "stderr",
     "output_type": "stream",
     "text": [
      "2021-11-17 18:39:11,601 : WARNING : Early stopping conditioned on metric `val_acc` which is not available. Available metrics are: loss,accuracy,val_loss,val_accuracy\n"
     ]
    },
    {
     "name": "stdout",
     "output_type": "stream",
     "text": [
      "Epoch 98/100\n",
      "250/250 [==============================] - 7s 27ms/step - loss: 0.0021 - accuracy: 0.9994 - val_loss: 1.2059 - val_accuracy: 0.8651\n",
      "WARNING:tensorflow:Early stopping conditioned on metric `val_acc` which is not available. Available metrics are: loss,accuracy,val_loss,val_accuracy\n"
     ]
    },
    {
     "name": "stderr",
     "output_type": "stream",
     "text": [
      "2021-11-17 18:39:18,248 : WARNING : Early stopping conditioned on metric `val_acc` which is not available. Available metrics are: loss,accuracy,val_loss,val_accuracy\n"
     ]
    },
    {
     "name": "stdout",
     "output_type": "stream",
     "text": [
      "Epoch 99/100\n",
      "250/250 [==============================] - 7s 27ms/step - loss: 0.0013 - accuracy: 0.9992 - val_loss: 1.2490 - val_accuracy: 0.8641\n",
      "WARNING:tensorflow:Early stopping conditioned on metric `val_acc` which is not available. Available metrics are: loss,accuracy,val_loss,val_accuracy\n"
     ]
    },
    {
     "name": "stderr",
     "output_type": "stream",
     "text": [
      "2021-11-17 18:39:24,879 : WARNING : Early stopping conditioned on metric `val_acc` which is not available. Available metrics are: loss,accuracy,val_loss,val_accuracy\n"
     ]
    },
    {
     "name": "stdout",
     "output_type": "stream",
     "text": [
      "Epoch 100/100\n",
      "250/250 [==============================] - 7s 26ms/step - loss: 0.0012 - accuracy: 0.9995 - val_loss: 1.3277 - val_accuracy: 0.8641\n",
      "WARNING:tensorflow:Early stopping conditioned on metric `val_acc` which is not available. Available metrics are: loss,accuracy,val_loss,val_accuracy\n"
     ]
    },
    {
     "name": "stderr",
     "output_type": "stream",
     "text": [
      "2021-11-17 18:39:31,504 : WARNING : Early stopping conditioned on metric `val_acc` which is not available. Available metrics are: loss,accuracy,val_loss,val_accuracy\n"
     ]
    },
    {
     "name": "stdout",
     "output_type": "stream",
     "text": [
      "313/313 [==============================] - 4s 13ms/step - loss: 1.3171 - accuracy: 0.8665\n"
     ]
    },
    {
     "data": {
      "text/plain": [
       "[1.3170613050460815, 0.8665000200271606]"
      ]
     },
     "execution_count": 33,
     "metadata": {},
     "output_type": "execute_result"
    }
   ],
   "source": [
    "# TF-IDF特徵\n",
    "## 超參數設定\n",
    "LEARNING_RATE = 1e-3\n",
    "EPOCHS = 100\n",
    "BATCH_SIZE = 128\n",
    "MOMENTUM = 0.95\n",
    "# 建立資料格式\n",
    "# 考量時間與記憶體容量，僅保留數量最多的1萬個詞\n",
    "tokenizer = text.Tokenizer(num_words=10000) \n",
    "tokenizer.fit_on_texts(df['CONTENT_SEG'])\n",
    "word_index = tokenizer.word_index\n",
    "print('Found %s unique tokens.' % len(word_index))\n",
    "\n",
    "tfidf_train = tokenizer.texts_to_sequences(X_train) \n",
    "tfidf_train = tokenizer.sequences_to_matrix(tfidf_train, mode='tfidf')\n",
    "tfidf_test = tokenizer.texts_to_sequences(X_test)\n",
    "tfidf_test = tokenizer.sequences_to_matrix(tfidf_test, mode='tfidf')\n",
    "print('Shape of tfidf_train tensor:', tfidf_train.shape)\n",
    "print('Shape of tfidf_test tensor:', tfidf_test.shape)\n",
    "\n",
    "y_train_dummy = to_categorical(np.asarray(y_train))\n",
    "y_test_dummy = to_categorical(np.asarray(y_test))\n",
    "print('Shape of y_train tensor:', y_train_dummy.shape)\n",
    "print('Shape of y_test tensor:', y_test_dummy.shape)\n",
    "# 搭建模型框架\n",
    "keras.backend.clear_session()\n",
    "model = Sequential()\n",
    "model.add(Dense(units=512, input_shape=(tfidf_train.shape[1],), activation='relu')) ################\n",
    "model.add(BatchNormalization())\n",
    "model.add(Dense(256, activation='relu'))\n",
    "model.add(BatchNormalization())\n",
    "model.add(Dense(128, activation='relu'))\n",
    "model.add(Dense(y_train_dummy.shape[1], activation='softmax'))\n",
    "model.summary()\n",
    "# 載入 Callbacks, 並將 monitor 設定為監控 validation loss\n",
    "earlystop = EarlyStopping(monitor=\"val_acc\", \n",
    "                        patience=5, \n",
    "                        verbose=1)\n",
    "model.compile(loss='categorical_crossentropy',\n",
    "            optimizer=tf.keras.optimizers.Adam(lr=LEARNING_RATE, epsilon=None, decay=0.0),\n",
    "            metrics=['accuracy'])\n",
    "%time\n",
    "model.fit(tfidf_train, y_train_dummy,\n",
    "        epochs=EPOCHS, \n",
    "        validation_split=0.2,\n",
    "        batch_size=BATCH_SIZE,\n",
    "        shuffle=True,\n",
    "        callbacks=[earlystop])\n",
    "model.evaluate(tfidf_test, y_test_dummy)"
   ]
  },
  {
   "cell_type": "markdown",
   "metadata": {},
   "source": [
    "### CNN"
   ]
  },
  {
   "cell_type": "code",
   "execution_count": 37,
   "metadata": {
    "scrolled": true
   },
   "outputs": [
    {
     "name": "stdout",
     "output_type": "stream",
     "text": [
      "Found 450075 unique tokens.\n",
      "Shape of vec_train tensor: (40000, 300)\n",
      "Shape of vec_test tensor: (10000, 300)\n",
      "Shape of y_train_dummy tensor: (40000, 10)\n",
      "Shape of y_test_dummy tensor: (10000, 10)\n"
     ]
    },
    {
     "name": "stderr",
     "output_type": "stream",
     "text": [
      "<ipython-input-37-cbc65284ad0e>:30: DeprecationWarning: Call to deprecated `__contains__` (Method will be removed in 4.0.0, use self.wv.__contains__() instead).\n",
      "  if word in w2v_model:\n",
      "<ipython-input-37-cbc65284ad0e>:31: DeprecationWarning: Call to deprecated `__getitem__` (Method will be removed in 4.0.0, use self.wv.__getitem__() instead).\n",
      "  embedding_matrix[i] = np.asarray(w2v_model[word],\n"
     ]
    },
    {
     "name": "stdout",
     "output_type": "stream",
     "text": [
      "Model: \"sequential\"\n",
      "_________________________________________________________________\n",
      "Layer (type)                 Output Shape              Param #   \n",
      "=================================================================\n",
      "embedding (Embedding)        (None, 300, 200)          90015200  \n",
      "_________________________________________________________________\n",
      "batch_normalization (BatchNo (None, 300, 200)          800       \n",
      "_________________________________________________________________\n",
      "conv1d (Conv1D)              (None, 298, 256)          153856    \n",
      "_________________________________________________________________\n",
      "max_pooling1d (MaxPooling1D) (None, 99, 256)           0         \n",
      "_________________________________________________________________\n",
      "flatten (Flatten)            (None, 25344)             0         \n",
      "_________________________________________________________________\n",
      "dense (Dense)                (None, 200)               5069000   \n",
      "_________________________________________________________________\n",
      "dense_1 (Dense)              (None, 10)                2010      \n",
      "=================================================================\n",
      "Total params: 95,240,866\n",
      "Trainable params: 5,225,266\n",
      "Non-trainable params: 90,015,600\n",
      "_________________________________________________________________\n",
      "Epoch 1/10\n",
      "250/250 [==============================] - 97s 385ms/step - loss: 4.5337 - accuracy: 0.4639 - val_loss: 0.5503 - val_accuracy: 0.7896\n",
      "WARNING:tensorflow:Early stopping conditioned on metric `val_acc` which is not available. Available metrics are: loss,accuracy,val_loss,val_accuracy\n"
     ]
    },
    {
     "name": "stderr",
     "output_type": "stream",
     "text": [
      "2021-11-17 21:54:17,323 : WARNING : Early stopping conditioned on metric `val_acc` which is not available. Available metrics are: loss,accuracy,val_loss,val_accuracy\n"
     ]
    },
    {
     "name": "stdout",
     "output_type": "stream",
     "text": [
      "Epoch 2/10\n",
      "250/250 [==============================] - 93s 373ms/step - loss: 0.4652 - accuracy: 0.8259 - val_loss: 0.5291 - val_accuracy: 0.8016\n",
      "WARNING:tensorflow:Early stopping conditioned on metric `val_acc` which is not available. Available metrics are: loss,accuracy,val_loss,val_accuracy\n"
     ]
    },
    {
     "name": "stderr",
     "output_type": "stream",
     "text": [
      "2021-11-17 21:55:50,722 : WARNING : Early stopping conditioned on metric `val_acc` which is not available. Available metrics are: loss,accuracy,val_loss,val_accuracy\n"
     ]
    },
    {
     "name": "stdout",
     "output_type": "stream",
     "text": [
      "Epoch 3/10\n",
      "250/250 [==============================] - 94s 377ms/step - loss: 0.3666 - accuracy: 0.8639 - val_loss: 0.4941 - val_accuracy: 0.8202\n",
      "WARNING:tensorflow:Early stopping conditioned on metric `val_acc` which is not available. Available metrics are: loss,accuracy,val_loss,val_accuracy\n"
     ]
    },
    {
     "name": "stderr",
     "output_type": "stream",
     "text": [
      "2021-11-17 21:57:24,839 : WARNING : Early stopping conditioned on metric `val_acc` which is not available. Available metrics are: loss,accuracy,val_loss,val_accuracy\n"
     ]
    },
    {
     "name": "stdout",
     "output_type": "stream",
     "text": [
      "Epoch 4/10\n",
      "250/250 [==============================] - 96s 385ms/step - loss: 0.2596 - accuracy: 0.9063 - val_loss: 0.5219 - val_accuracy: 0.8191\n",
      "WARNING:tensorflow:Early stopping conditioned on metric `val_acc` which is not available. Available metrics are: loss,accuracy,val_loss,val_accuracy\n"
     ]
    },
    {
     "name": "stderr",
     "output_type": "stream",
     "text": [
      "2021-11-17 21:59:01,209 : WARNING : Early stopping conditioned on metric `val_acc` which is not available. Available metrics are: loss,accuracy,val_loss,val_accuracy\n"
     ]
    },
    {
     "name": "stdout",
     "output_type": "stream",
     "text": [
      "Epoch 5/10\n",
      "250/250 [==============================] - 82s 329ms/step - loss: 0.1683 - accuracy: 0.9444 - val_loss: 0.5704 - val_accuracy: 0.8096\n",
      "WARNING:tensorflow:Early stopping conditioned on metric `val_acc` which is not available. Available metrics are: loss,accuracy,val_loss,val_accuracy\n"
     ]
    },
    {
     "name": "stderr",
     "output_type": "stream",
     "text": [
      "2021-11-17 22:00:23,535 : WARNING : Early stopping conditioned on metric `val_acc` which is not available. Available metrics are: loss,accuracy,val_loss,val_accuracy\n"
     ]
    },
    {
     "name": "stdout",
     "output_type": "stream",
     "text": [
      "Epoch 6/10\n",
      "250/250 [==============================] - 82s 329ms/step - loss: 0.1051 - accuracy: 0.9686 - val_loss: 0.6122 - val_accuracy: 0.8160\n",
      "WARNING:tensorflow:Early stopping conditioned on metric `val_acc` which is not available. Available metrics are: loss,accuracy,val_loss,val_accuracy\n"
     ]
    },
    {
     "name": "stderr",
     "output_type": "stream",
     "text": [
      "2021-11-17 22:01:45,797 : WARNING : Early stopping conditioned on metric `val_acc` which is not available. Available metrics are: loss,accuracy,val_loss,val_accuracy\n"
     ]
    },
    {
     "name": "stdout",
     "output_type": "stream",
     "text": [
      "Epoch 7/10\n",
      "250/250 [==============================] - 83s 331ms/step - loss: 0.0521 - accuracy: 0.9886 - val_loss: 0.7459 - val_accuracy: 0.8116\n",
      "WARNING:tensorflow:Early stopping conditioned on metric `val_acc` which is not available. Available metrics are: loss,accuracy,val_loss,val_accuracy\n"
     ]
    },
    {
     "name": "stderr",
     "output_type": "stream",
     "text": [
      "2021-11-17 22:03:08,607 : WARNING : Early stopping conditioned on metric `val_acc` which is not available. Available metrics are: loss,accuracy,val_loss,val_accuracy\n"
     ]
    },
    {
     "name": "stdout",
     "output_type": "stream",
     "text": [
      "Epoch 8/10\n",
      "250/250 [==============================] - 83s 331ms/step - loss: 0.0381 - accuracy: 0.9895 - val_loss: 0.7801 - val_accuracy: 0.8163\n",
      "WARNING:tensorflow:Early stopping conditioned on metric `val_acc` which is not available. Available metrics are: loss,accuracy,val_loss,val_accuracy\n"
     ]
    },
    {
     "name": "stderr",
     "output_type": "stream",
     "text": [
      "2021-11-17 22:04:31,447 : WARNING : Early stopping conditioned on metric `val_acc` which is not available. Available metrics are: loss,accuracy,val_loss,val_accuracy\n"
     ]
    },
    {
     "name": "stdout",
     "output_type": "stream",
     "text": [
      "Epoch 9/10\n",
      "250/250 [==============================] - 82s 329ms/step - loss: 0.0181 - accuracy: 0.9972 - val_loss: 0.9515 - val_accuracy: 0.8008\n",
      "WARNING:tensorflow:Early stopping conditioned on metric `val_acc` which is not available. Available metrics are: loss,accuracy,val_loss,val_accuracy\n"
     ]
    },
    {
     "name": "stderr",
     "output_type": "stream",
     "text": [
      "2021-11-17 22:05:53,597 : WARNING : Early stopping conditioned on metric `val_acc` which is not available. Available metrics are: loss,accuracy,val_loss,val_accuracy\n"
     ]
    },
    {
     "name": "stdout",
     "output_type": "stream",
     "text": [
      "Epoch 10/10\n",
      "250/250 [==============================] - 82s 328ms/step - loss: 0.0170 - accuracy: 0.9958 - val_loss: 1.1921 - val_accuracy: 0.7632\n",
      "WARNING:tensorflow:Early stopping conditioned on metric `val_acc` which is not available. Available metrics are: loss,accuracy,val_loss,val_accuracy\n"
     ]
    },
    {
     "name": "stderr",
     "output_type": "stream",
     "text": [
      "2021-11-17 22:07:15,567 : WARNING : Early stopping conditioned on metric `val_acc` which is not available. Available metrics are: loss,accuracy,val_loss,val_accuracy\n"
     ]
    },
    {
     "name": "stdout",
     "output_type": "stream",
     "text": [
      "313/313 [==============================] - 6s 20ms/step - loss: 1.1649 - accuracy: 0.7645\n"
     ]
    },
    {
     "data": {
      "text/plain": [
       "[1.1649012565612793, 0.7645000219345093]"
      ]
     },
     "execution_count": 37,
     "metadata": {},
     "output_type": "execute_result"
    }
   ],
   "source": [
    "# 詞向量特徵\n",
    "MAX_SEQUENCE_LENGTH = 300 # 每条新闻最大长度\n",
    "EMBEDDING_DIM = 200 # 词向量空间维度\n",
    "\n",
    "## 超參數設定\n",
    "LEARNING_RATE = 1e-3\n",
    "EPOCHS = 10\n",
    "BATCH_SIZE = 128\n",
    "MOMENTUM = 0.95\n",
    "# 建立資料格式\n",
    "tokenizer = text.Tokenizer(num_words=10000)\n",
    "tokenizer.fit_on_texts(df['CONTENT_SEG'])\n",
    "word_index = tokenizer.word_index\n",
    "print('Found %s unique tokens.' % len(word_index))\n",
    "\n",
    "vec_train = tokenizer.texts_to_sequences(X_train) \n",
    "vec_train = sequence.pad_sequences(vec_train, maxlen=MAX_SEQUENCE_LENGTH)\n",
    "vec_test = tokenizer.texts_to_sequences(X_test)\n",
    "vec_test = sequence.pad_sequences(vec_test, maxlen=MAX_SEQUENCE_LENGTH)\n",
    "print('Shape of vec_train tensor:', vec_train.shape)\n",
    "print('Shape of vec_test tensor:', vec_test.shape)\n",
    "\n",
    "y_train_dummy = to_categorical(np.asarray(y_train))\n",
    "y_test_dummy = to_categorical(np.asarray(y_test))\n",
    "print('Shape of y_train_dummy tensor:', y_train_dummy.shape)\n",
    "print('Shape of y_test_dummy tensor:', y_test_dummy.shape)\n",
    "# 將詞替換成對應的向量\n",
    "embedding_matrix = np.zeros((len(word_index) + 1, EMBEDDING_DIM))\n",
    "for word, i in word_index.items(): \n",
    "    if word in w2v_model:\n",
    "        embedding_matrix[i] = np.asarray(w2v_model[word],\n",
    "                                        dtype='float32')\n",
    "embedding_layer = Embedding(len(word_index) + 1,\n",
    "                            EMBEDDING_DIM,\n",
    "                            weights=[embedding_matrix],\n",
    "                            input_length=MAX_SEQUENCE_LENGTH,\n",
    "                            trainable=False)\n",
    "# 搭建模型框架\n",
    "keras.backend.clear_session()\n",
    "model = Sequential()\n",
    "model.add(embedding_layer)\n",
    "model.add(BatchNormalization())\n",
    "\n",
    "model.add(Conv1D(256, 3, padding='valid', activation='relu', strides=1))\n",
    "model.add(MaxPooling1D(3))\n",
    "\n",
    "model.add(Flatten())\n",
    "model.add(Dense(EMBEDDING_DIM, activation='relu'))\n",
    "model.add(Dense(y_train_dummy.shape[1], activation='softmax'))\n",
    "model.summary()\n",
    "# 載入 Callbacks, 並將 monitor 設定為監控 validation loss\n",
    "earlystop = EarlyStopping(monitor=\"val_acc\", \n",
    "                        patience=5, \n",
    "                        verbose=1)\n",
    "model.compile(loss='categorical_crossentropy',\n",
    "            optimizer= tf.keras.optimizers.Adam(lr=LEARNING_RATE, epsilon=None, decay=0.0),\n",
    "            metrics=['accuracy'])\n",
    "\n",
    "model.fit(vec_train, y_train_dummy,\n",
    "        epochs=EPOCHS, \n",
    "        validation_split=0.2,\n",
    "        batch_size=BATCH_SIZE,\n",
    "        shuffle=True,\n",
    "        callbacks=[earlystop])\n",
    "model.evaluate(vec_test, y_test_dummy)"
   ]
  },
  {
   "cell_type": "code",
   "execution_count": 40,
   "metadata": {
    "scrolled": true
   },
   "outputs": [
    {
     "name": "stdout",
     "output_type": "stream",
     "text": [
      "Found 450075 unique tokens.\n",
      "Shape of vec_train tensor: (40000, 300)\n",
      "Shape of vec_test tensor: (10000, 300)\n",
      "Shape of y_train tensor: (40000, 10)\n",
      "Shape of y_test tensor: (10000, 10)\n"
     ]
    },
    {
     "name": "stderr",
     "output_type": "stream",
     "text": [
      "<ipython-input-40-bdb8d3a8bfae>:31: DeprecationWarning: Call to deprecated `__contains__` (Method will be removed in 4.0.0, use self.wv.__contains__() instead).\n",
      "  if word in pretrain_w2v_model:\n",
      "<ipython-input-40-bdb8d3a8bfae>:32: DeprecationWarning: Call to deprecated `__getitem__` (Method will be removed in 4.0.0, use self.wv.__getitem__() instead).\n",
      "  embedding_matrix[i] = np.asarray(pretrain_w2v_model[word],\n"
     ]
    },
    {
     "name": "stdout",
     "output_type": "stream",
     "text": [
      "Model: \"sequential\"\n",
      "_________________________________________________________________\n",
      "Layer (type)                 Output Shape              Param #   \n",
      "=================================================================\n",
      "embedding (Embedding)        (None, 300, 400)          180030400 \n",
      "_________________________________________________________________\n",
      "batch_normalization (BatchNo (None, 300, 400)          1600      \n",
      "_________________________________________________________________\n",
      "conv1d (Conv1D)              (None, 298, 256)          307456    \n",
      "_________________________________________________________________\n",
      "max_pooling1d (MaxPooling1D) (None, 99, 256)           0         \n",
      "_________________________________________________________________\n",
      "flatten (Flatten)            (None, 25344)             0         \n",
      "_________________________________________________________________\n",
      "dense (Dense)                (None, 400)               10138000  \n",
      "_________________________________________________________________\n",
      "dense_1 (Dense)              (None, 10)                4010      \n",
      "=================================================================\n",
      "Total params: 190,481,466\n",
      "Trainable params: 10,450,266\n",
      "Non-trainable params: 180,031,200\n",
      "_________________________________________________________________\n",
      "Epoch 1/10\n",
      "250/250 [==============================] - 170s 677ms/step - loss: 10.0507 - accuracy: 0.4254 - val_loss: 0.6301 - val_accuracy: 0.7504\n",
      "Epoch 2/10\n",
      "250/250 [==============================] - 173s 692ms/step - loss: 0.5291 - accuracy: 0.7959 - val_loss: 0.5140 - val_accuracy: 0.8101\n",
      "Epoch 3/10\n",
      "250/250 [==============================] - 173s 691ms/step - loss: 0.3747 - accuracy: 0.8576 - val_loss: 0.5053 - val_accuracy: 0.8123\n",
      "Epoch 4/10\n",
      "250/250 [==============================] - 173s 693ms/step - loss: 0.2714 - accuracy: 0.9035 - val_loss: 0.5353 - val_accuracy: 0.8049\n",
      "Epoch 5/10\n",
      "250/250 [==============================] - 174s 696ms/step - loss: 0.1851 - accuracy: 0.9390 - val_loss: 0.5462 - val_accuracy: 0.8112\n",
      "Epoch 6/10\n",
      "250/250 [==============================] - 172s 690ms/step - loss: 0.1080 - accuracy: 0.9691 - val_loss: 0.6147 - val_accuracy: 0.8052\n",
      "Epoch 7/10\n",
      "250/250 [==============================] - 174s 695ms/step - loss: 0.0608 - accuracy: 0.9842 - val_loss: 0.6762 - val_accuracy: 0.8117\n",
      "Epoch 8/10\n",
      "250/250 [==============================] - 173s 694ms/step - loss: 0.0336 - accuracy: 0.9924 - val_loss: 0.8977 - val_accuracy: 0.7886\n",
      "Epoch 00008: early stopping\n",
      "313/313 [==============================] - 11s 35ms/step - loss: 0.8944 - accuracy: 0.7913\n"
     ]
    },
    {
     "data": {
      "text/plain": [
       "[0.8943570256233215, 0.7912999987602234]"
      ]
     },
     "execution_count": 40,
     "metadata": {},
     "output_type": "execute_result"
    }
   ],
   "source": [
    "# 預訓練的詞向量特徵\n",
    "MAX_SEQUENCE_LENGTH = 300 # 每条新闻最大长度\n",
    "EMBEDDING_DIM = 400 # 词向量空间维度\n",
    "\n",
    "## 超參數設定\n",
    "LEARNING_RATE = 1e-3\n",
    "EPOCHS = 10\n",
    "BATCH_SIZE = 128\n",
    "MOMENTUM = 0.95\n",
    "\n",
    "# 建立資料格式\n",
    "tokenizer = text.Tokenizer(num_words=10000)\n",
    "tokenizer.fit_on_texts(df['CONTENT_SEG'])\n",
    "word_index = tokenizer.word_index\n",
    "print('Found %s unique tokens.' % len(word_index))\n",
    "\n",
    "vec_train = tokenizer.texts_to_sequences(X_train) \n",
    "vec_train = sequence.pad_sequences(vec_train, maxlen=MAX_SEQUENCE_LENGTH)\n",
    "vec_test = tokenizer.texts_to_sequences(X_test)\n",
    "vec_test = sequence.pad_sequences(vec_test, maxlen=MAX_SEQUENCE_LENGTH)\n",
    "print('Shape of vec_train tensor:', vec_train.shape)\n",
    "print('Shape of vec_test tensor:', vec_test.shape)\n",
    "\n",
    "y_train_dummy = to_categorical(np.asarray(y_train))\n",
    "y_test_dummy = to_categorical(np.asarray(y_test))\n",
    "print('Shape of y_train tensor:', y_train_dummy.shape)\n",
    "print('Shape of y_test tensor:', y_test_dummy.shape)\n",
    "# 將詞替換成對應的向量\n",
    "embedding_matrix = np.zeros((len(word_index) + 1, EMBEDDING_DIM))\n",
    "for word, i in word_index.items(): \n",
    "    if word in pretrain_w2v_model:\n",
    "        embedding_matrix[i] = np.asarray(pretrain_w2v_model[word],\n",
    "                                        dtype='float32')\n",
    "embedding_layer = Embedding(len(word_index) + 1,\n",
    "                            EMBEDDING_DIM,\n",
    "                            weights=[embedding_matrix],\n",
    "                            input_length=MAX_SEQUENCE_LENGTH,\n",
    "                            trainable=False)\n",
    "# 搭建模型框架\n",
    "keras.backend.clear_session()\n",
    "model = Sequential()\n",
    "model.add(embedding_layer)\n",
    "model.add(BatchNormalization())\n",
    "\n",
    "model.add(Conv1D(256, 3, padding='valid', activation='relu', strides=1))\n",
    "model.add(MaxPooling1D(3))\n",
    "\n",
    "model.add(Flatten())\n",
    "model.add(Dense(EMBEDDING_DIM, activation='relu'))\n",
    "model.add(Dense(y_train_dummy.shape[1], activation='softmax'))\n",
    "model.summary()\n",
    "# 載入 Callbacks, 並將 monitor 設定為監控 validation loss\n",
    "earlystop = EarlyStopping(monitor=\"val_loss\", \n",
    "                        patience=5, \n",
    "                        verbose=1)\n",
    "model.compile(loss='categorical_crossentropy',\n",
    "            optimizer=  tf.keras.optimizers.Adam(lr=LEARNING_RATE, epsilon=None, decay=0.0),\n",
    "            metrics=['accuracy'])\n",
    "\n",
    "model.fit(vec_train, y_train_dummy,\n",
    "        epochs=EPOCHS, \n",
    "        validation_split=0.2,\n",
    "        batch_size=BATCH_SIZE,\n",
    "        shuffle=True,\n",
    "        callbacks=[earlystop])\n",
    "model.evaluate(vec_test, y_test_dummy)"
   ]
  },
  {
   "cell_type": "markdown",
   "metadata": {},
   "source": [
    "### RNN"
   ]
  },
  {
   "cell_type": "code",
   "execution_count": 11,
   "metadata": {},
   "outputs": [
    {
     "name": "stdout",
     "output_type": "stream",
     "text": [
      "Found 450075 unique tokens.\n",
      "Shape of pre_vec_train tensor: (40000, 300)\n",
      "Shape of pre_vec_test tensor: (10000, 300)\n",
      "Shape of y_train tensor: (40000, 10)\n",
      "Shape of y_test tensor: (10000, 10)\n"
     ]
    },
    {
     "name": "stderr",
     "output_type": "stream",
     "text": [
      "<ipython-input-11-b6f857e20cbf>:30: DeprecationWarning: Call to deprecated `__contains__` (Method will be removed in 4.0.0, use self.wv.__contains__() instead).\n",
      "  if word in w2v_model:\n",
      "<ipython-input-11-b6f857e20cbf>:31: DeprecationWarning: Call to deprecated `__getitem__` (Method will be removed in 4.0.0, use self.wv.__getitem__() instead).\n",
      "  embedding_matrix[i] = np.asarray(w2v_model[word],\n"
     ]
    },
    {
     "name": "stdout",
     "output_type": "stream",
     "text": [
      "Model: \"sequential\"\n",
      "_________________________________________________________________\n",
      "Layer (type)                 Output Shape              Param #   \n",
      "=================================================================\n",
      "embedding (Embedding)        (None, 300, 200)          90015200  \n",
      "_________________________________________________________________\n",
      "lstm (LSTM)                  (None, 200)               320800    \n",
      "_________________________________________________________________\n",
      "batch_normalization (BatchNo (None, 200)               800       \n",
      "_________________________________________________________________\n",
      "dense (Dense)                (None, 10)                2010      \n",
      "=================================================================\n",
      "Total params: 90,338,810\n",
      "Trainable params: 323,210\n",
      "Non-trainable params: 90,015,600\n",
      "_________________________________________________________________\n",
      "Epoch 1/10\n",
      "250/250 [==============================] - 1511s 6s/step - loss: 1.2643 - acc: 0.4578 - val_loss: 0.9464 - val_acc: 0.5627\n",
      "Epoch 2/10\n",
      "250/250 [==============================] - 1488s 6s/step - loss: 0.8953 - acc: 0.5829 - val_loss: 0.7750 - val_acc: 0.6636\n",
      "Epoch 3/10\n",
      "250/250 [==============================] - 1490s 6s/step - loss: 0.7225 - acc: 0.6857 - val_loss: 0.6276 - val_acc: 0.7229\n",
      "Epoch 4/10\n",
      "250/250 [==============================] - 1486s 6s/step - loss: 0.5285 - acc: 0.7800 - val_loss: 0.5539 - val_acc: 0.7814\n",
      "Epoch 5/10\n",
      "250/250 [==============================] - 1490s 6s/step - loss: 0.4381 - acc: 0.8328 - val_loss: 0.4544 - val_acc: 0.8394\n",
      "Epoch 6/10\n",
      "250/250 [==============================] - 1492s 6s/step - loss: 0.3817 - acc: 0.8586 - val_loss: 0.4402 - val_acc: 0.8391\n",
      "Epoch 7/10\n",
      "250/250 [==============================] - 1490s 6s/step - loss: 0.3521 - acc: 0.8704 - val_loss: 0.4334 - val_acc: 0.8431\n",
      "Epoch 8/10\n",
      "250/250 [==============================] - 1490s 6s/step - loss: 0.3167 - acc: 0.8829 - val_loss: 0.4327 - val_acc: 0.8444\n",
      "Epoch 9/10\n",
      "250/250 [==============================] - 1489s 6s/step - loss: 0.3021 - acc: 0.8896 - val_loss: 0.4337 - val_acc: 0.8441\n",
      "Epoch 10/10\n",
      "250/250 [==============================] - 1490s 6s/step - loss: 0.2849 - acc: 0.8935 - val_loss: 0.4588 - val_acc: 0.8414\n",
      "313/313 [==============================] - 35s 113ms/step - loss: 0.4428 - acc: 0.8497\n"
     ]
    },
    {
     "data": {
      "text/plain": [
       "[0.4427754878997803, 0.8496999740600586]"
      ]
     },
     "execution_count": 11,
     "metadata": {},
     "output_type": "execute_result"
    }
   ],
   "source": [
    "# 詞向量特徵\n",
    "MAX_SEQUENCE_LENGTH = 300 # 每条新闻最大长度\n",
    "EMBEDDING_DIM = 200 # 词向量空间维度\n",
    "\n",
    "## 超參數設定\n",
    "LEARNING_RATE = 1e-3\n",
    "EPOCHS = 10\n",
    "BATCH_SIZE = 128\n",
    "MOMENTUM = 0.95\n",
    "# 建立資料格式\n",
    "tokenizer = text.Tokenizer()\n",
    "tokenizer.fit_on_texts(df['CONTENT_SEG'])\n",
    "word_index = tokenizer.word_index\n",
    "print('Found %s unique tokens.' % len(word_index))\n",
    "\n",
    "pre_vec_train = tokenizer.texts_to_sequences(X_train) \n",
    "pre_vec_train = sequence.pad_sequences(pre_vec_train, maxlen=MAX_SEQUENCE_LENGTH)\n",
    "pre_vec_test = tokenizer.texts_to_sequences(X_test)\n",
    "pre_vec_test = sequence.pad_sequences(pre_vec_test, maxlen=MAX_SEQUENCE_LENGTH)\n",
    "print('Shape of pre_vec_train tensor:', pre_vec_train.shape)\n",
    "print('Shape of pre_vec_test tensor:', pre_vec_test.shape)\n",
    "\n",
    "y_train_dummy = to_categorical(np.asarray(y_train))\n",
    "y_test_dummy = to_categorical(np.asarray(y_test))\n",
    "print('Shape of y_train tensor:', y_train_dummy.shape)\n",
    "print('Shape of y_test tensor:', y_test_dummy.shape)\n",
    "# 將詞替換成對應的向量\n",
    "embedding_matrix = np.zeros((len(word_index) + 1, EMBEDDING_DIM))\n",
    "for word, i in word_index.items(): \n",
    "    if word in w2v_model:\n",
    "        embedding_matrix[i] = np.asarray(w2v_model[word],\n",
    "                                        dtype='float32')\n",
    "embedding_layer = Embedding(len(word_index) + 1,\n",
    "                            EMBEDDING_DIM,\n",
    "                            weights=[embedding_matrix],\n",
    "                            input_length=MAX_SEQUENCE_LENGTH,\n",
    "                            trainable=False)\n",
    "# 搭建模型框架\n",
    "keras.backend.clear_session()\n",
    "model = Sequential()\n",
    "model.add(embedding_layer)\n",
    "model.add(LSTM(200, dropout=0.2, recurrent_dropout=0.2))\n",
    "model.add(BatchNormalization())\n",
    "model.add(Dense(y_train_dummy.shape[1], activation='softmax'))\n",
    "model.summary()\n",
    "# 載入 Callbacks, 並將 monitor 設定為監控 validation loss\n",
    "earlystop = EarlyStopping(monitor=\"val_acc\", \n",
    "                        patience=5, \n",
    "                        verbose=1)\n",
    "model.compile(loss='categorical_crossentropy',\n",
    "            optimizer= tf.keras.optimizers.Adam(lr=LEARNING_RATE, epsilon=None, decay=0.0),\n",
    "            metrics=['acc'])\n",
    "\n",
    "model.fit(pre_vec_train, y_train_dummy,\n",
    "        epochs=EPOCHS, \n",
    "        validation_split=0.2,\n",
    "        batch_size=BATCH_SIZE,\n",
    "        shuffle=True,\n",
    "        callbacks=[earlystop]\n",
    "        )\n",
    "model.evaluate(pre_vec_test, y_test_dummy)"
   ]
  },
  {
   "cell_type": "code",
   "execution_count": 12,
   "metadata": {},
   "outputs": [
    {
     "name": "stdout",
     "output_type": "stream",
     "text": [
      "Found 450075 unique tokens.\n",
      "Shape of pre_vec_train tensor: (40000, 300)\n",
      "Shape of pre_vec_test tensor: (10000, 300)\n",
      "Shape of y_train_dummy tensor: (40000, 10)\n",
      "Shape of y_test_dummy tensor: (10000, 10)\n"
     ]
    },
    {
     "name": "stderr",
     "output_type": "stream",
     "text": [
      "<ipython-input-12-c1fdf55c001a>:29: DeprecationWarning: Call to deprecated `__contains__` (Method will be removed in 4.0.0, use self.wv.__contains__() instead).\n",
      "  if word in pretrain_w2v_model:\n",
      "<ipython-input-12-c1fdf55c001a>:30: DeprecationWarning: Call to deprecated `__getitem__` (Method will be removed in 4.0.0, use self.wv.__getitem__() instead).\n",
      "  embedding_matrix[i] = np.asarray(pretrain_w2v_model[word],\n"
     ]
    },
    {
     "name": "stdout",
     "output_type": "stream",
     "text": [
      "Model: \"sequential\"\n",
      "_________________________________________________________________\n",
      "Layer (type)                 Output Shape              Param #   \n",
      "=================================================================\n",
      "embedding (Embedding)        (None, 300, 400)          180030400 \n",
      "_________________________________________________________________\n",
      "lstm (LSTM)                  (None, 200)               480800    \n",
      "_________________________________________________________________\n",
      "batch_normalization (BatchNo (None, 200)               800       \n",
      "_________________________________________________________________\n",
      "dense (Dense)                (None, 10)                2010      \n",
      "=================================================================\n",
      "Total params: 180,514,010\n",
      "Trainable params: 483,210\n",
      "Non-trainable params: 180,030,800\n",
      "_________________________________________________________________\n",
      "Wall time: 0 ns\n",
      "Epoch 1/10\n",
      "250/250 [==============================] - 2018s 8s/step - loss: 1.1915 - acc: 0.5113 - val_loss: 0.5260 - val_acc: 0.7983\n",
      "Epoch 2/10\n",
      "250/250 [==============================] - 2176s 9s/step - loss: 0.4824 - acc: 0.8182 - val_loss: 0.4573 - val_acc: 0.8304\n",
      "Epoch 3/10\n",
      "250/250 [==============================] - 2535s 10s/step - loss: 0.3832 - acc: 0.8584 - val_loss: 0.4635 - val_acc: 0.8315\n",
      "Epoch 4/10\n",
      "250/250 [==============================] - 2728s 11s/step - loss: 0.3375 - acc: 0.8754 - val_loss: 0.4213 - val_acc: 0.8422\n",
      "Epoch 5/10\n",
      "250/250 [==============================] - 2510s 10s/step - loss: 0.3101 - acc: 0.8847 - val_loss: 0.4376 - val_acc: 0.8391\n",
      "Epoch 6/10\n",
      "250/250 [==============================] - 2367s 9s/step - loss: 0.2710 - acc: 0.9015 - val_loss: 0.4781 - val_acc: 0.8338\n",
      "Epoch 7/10\n",
      "250/250 [==============================] - 2197s 9s/step - loss: 0.2380 - acc: 0.9104 - val_loss: 0.4582 - val_acc: 0.8405\n",
      "Epoch 8/10\n",
      "250/250 [==============================] - 2191s 9s/step - loss: 0.2126 - acc: 0.9201 - val_loss: 0.4817 - val_acc: 0.8429\n",
      "Epoch 9/10\n",
      "250/250 [==============================] - 2195s 9s/step - loss: 0.1863 - acc: 0.9301 - val_loss: 0.4971 - val_acc: 0.8407\n",
      "Epoch 10/10\n",
      "250/250 [==============================] - 2197s 9s/step - loss: 0.1612 - acc: 0.9419 - val_loss: 0.5130 - val_acc: 0.8404\n",
      "313/313 [==============================] - 91s 291ms/step - loss: 0.5124 - acc: 0.8429\n"
     ]
    },
    {
     "data": {
      "text/plain": [
       "[0.51242595911026, 0.8428999781608582]"
      ]
     },
     "execution_count": 12,
     "metadata": {},
     "output_type": "execute_result"
    }
   ],
   "source": [
    "# 預訓練的詞向量特徵\n",
    "MAX_SEQUENCE_LENGTH = 300 # 每条新闻最大长度\n",
    "EMBEDDING_DIM = 400 # 词向量空间维度\n",
    "\n",
    "## 超參數設定\n",
    "LEARNING_RATE = 1e-3\n",
    "EPOCHS = 10\n",
    "BATCH_SIZE = 128\n",
    "MOMENTUM = 0.95\n",
    "tokenizer = text.Tokenizer()\n",
    "tokenizer.fit_on_texts(df['CONTENT_SEG'])\n",
    "word_index = tokenizer.word_index\n",
    "print('Found %s unique tokens.' % len(word_index))\n",
    "\n",
    "pre_vec_train = tokenizer.texts_to_sequences(X_train) \n",
    "pre_vec_train = sequence.pad_sequences(pre_vec_train, maxlen=MAX_SEQUENCE_LENGTH)\n",
    "pre_vec_test = tokenizer.texts_to_sequences(X_test)\n",
    "pre_vec_test = sequence.pad_sequences(pre_vec_test, maxlen=MAX_SEQUENCE_LENGTH)\n",
    "print('Shape of pre_vec_train tensor:', pre_vec_train.shape)\n",
    "print('Shape of pre_vec_test tensor:', pre_vec_test.shape)\n",
    "\n",
    "y_train_dummy = to_categorical(np.asarray(y_train))\n",
    "y_test_dummy = to_categorical(np.asarray(y_test))\n",
    "print('Shape of y_train_dummy tensor:', y_train_dummy.shape)\n",
    "print('Shape of y_test_dummy tensor:', y_test_dummy.shape)\n",
    "\n",
    "embedding_matrix = np.zeros((len(word_index) + 1, EMBEDDING_DIM))\n",
    "for word, i in word_index.items(): \n",
    "    if word in pretrain_w2v_model:\n",
    "        embedding_matrix[i] = np.asarray(pretrain_w2v_model[word],\n",
    "                                        dtype='float32')\n",
    "embedding_layer = Embedding(len(word_index) + 1,\n",
    "                            EMBEDDING_DIM,\n",
    "                            weights=[embedding_matrix],\n",
    "                            input_length=MAX_SEQUENCE_LENGTH,\n",
    "                            trainable=False)\n",
    "\n",
    "keras.backend.clear_session()\n",
    "model = Sequential()\n",
    "model.add(embedding_layer)\n",
    "model.add(LSTM(200, dropout=0.2, recurrent_dropout=0.2))\n",
    "model.add(BatchNormalization())\n",
    "model.add(Dense(y_train_dummy.shape[1], activation='softmax'))\n",
    "model.summary()\n",
    "\n",
    "# 載入 Callbacks, 並將 monitor 設定為監控 validation loss\n",
    "earlystop = EarlyStopping(monitor=\"val_acc\", \n",
    "                        patience=5, \n",
    "                        verbose=1)\n",
    "\n",
    "model.compile(loss='categorical_crossentropy',\n",
    "            optimizer= tf.keras.optimizers.Adam(lr=LEARNING_RATE, epsilon=None, decay=0.0),\n",
    "            metrics=['acc'])\n",
    "\n",
    "%time\n",
    "model.fit(pre_vec_train, y_train_dummy,\n",
    "        epochs=EPOCHS, \n",
    "        validation_split=0.2,\n",
    "        batch_size=BATCH_SIZE,\n",
    "        shuffle=True,\n",
    "        callbacks=[earlystop]\n",
    "        )\n",
    "model.evaluate(pre_vec_test, y_test_dummy)"
   ]
  }
 ],
 "metadata": {
  "kernelspec": {
   "display_name": "Python 3",
   "language": "python",
   "name": "python3"
  },
  "language_info": {
   "codemirror_mode": {
    "name": "ipython",
    "version": 3
   },
   "file_extension": ".py",
   "mimetype": "text/x-python",
   "name": "python",
   "nbconvert_exporter": "python",
   "pygments_lexer": "ipython3",
   "version": "3.8.5"
  }
 },
 "nbformat": 4,
 "nbformat_minor": 4
}
